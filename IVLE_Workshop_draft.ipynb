{
 "cells": [
  {
   "cell_type": "markdown",
   "metadata": {
    "collapsed": true
   },
   "source": [
    "# IVLE Workshop"
   ]
  },
  {
   "cell_type": "code",
   "execution_count": null,
   "metadata": {
    "collapsed": true
   },
   "outputs": [],
   "source": []
  },
  {
   "cell_type": "markdown",
   "metadata": {
    "collapsed": true
   },
   "source": [
    "# Part 1 : Load Data\n",
    "----------------------------------"
   ]
  },
  {
   "cell_type": "markdown",
   "metadata": {},
   "source": [
    "## len() function"
   ]
  },
  {
   "cell_type": "code",
   "execution_count": null,
   "metadata": {
    "collapsed": false
   },
   "outputs": [],
   "source": [
    "a = [1,2,3,4,5]\n",
    "print len(a)"
   ]
  },
  {
   "cell_type": "markdown",
   "metadata": {},
   "source": [
    "# 1. URL, String\n",
    "## Split function"
   ]
  },
  {
   "cell_type": "code",
   "execution_count": null,
   "metadata": {
    "collapsed": false
   },
   "outputs": [],
   "source": [
    "soe_url = \"http://education.uci.edu\"\n",
    "soe_phd_url = \"http://education.uci.edu/phd/index.php\"\n",
    "\n",
    "print soe_url.split(\"/\")\n",
    "print soe_phd_url.split(\"/\")"
   ]
  },
  {
   "cell_type": "code",
   "execution_count": null,
   "metadata": {
    "collapsed": false
   },
   "outputs": [],
   "source": [
    "url = \"http://education.uci.edu\"\n",
    "split_list = url.split(\"/\")\n",
    "print split_list\n",
    "print len(split_list)"
   ]
  },
  {
   "cell_type": "code",
   "execution_count": null,
   "metadata": {
    "collapsed": true
   },
   "outputs": [],
   "source": [
    "# Function that returns the length of the URL, split with \"/\"\n",
    "# Make url as an argument\n",
    "\n",
    "def get_slash_split_len(url):\n",
    "    split_list = url.split(\"/\")\n",
    "    result = len(split_list)\n",
    "    return result"
   ]
  },
  {
   "cell_type": "code",
   "execution_count": null,
   "metadata": {
    "collapsed": false
   },
   "outputs": [],
   "source": [
    "# Test\n",
    "get_slash_split_len(\"a/b/c/d/e\")"
   ]
  },
  {
   "cell_type": "markdown",
   "metadata": {},
   "source": [
    "Take a look at the real URLs from the csv files. <br>\n",
    "We want to categorize the URLs into categories such as 'homepage', 'files', 'assignments' and etc. <br>\n",
    "The easiest way to do this is take the 5th element of the list, which is the URL split by delimiter \"/\"."
   ]
  },
  {
   "cell_type": "code",
   "execution_count": null,
   "metadata": {
    "collapsed": false
   },
   "outputs": [],
   "source": [
    "url_file = \"https://canvas.eee.uci.edu/courses/2230/files/742190?module_item_id=62039\"  # -> categorize as \"files\"\n",
    "url_assignment = \"https://canvas.eee.uci.edu/courses/2230/assignments/49367/submissions\"  # -> categorize as \"assignments\"\n",
    "url_home = \"https://canvas.eee.uci.edu/courses/2230\"  # -> categorize as \"homepage\""
   ]
  },
  {
   "cell_type": "code",
   "execution_count": null,
   "metadata": {
    "collapsed": true
   },
   "outputs": [],
   "source": [
    "# Homepage : Only 4 slashes exist. We can filter this case out.\n",
    "\n",
    "# Others : More than 5 slashes exist. "
   ]
  },
  {
   "cell_type": "code",
   "execution_count": null,
   "metadata": {
    "collapsed": true
   },
   "outputs": [],
   "source": [
    "def get_cats_from_url(url):\n",
    "    if len(url.split('/')) < 6:\n",
    "        return 'homepage'\n",
    "    else:\n",
    "        return url.split('/')[5]"
   ]
  },
  {
   "cell_type": "code",
   "execution_count": null,
   "metadata": {
    "collapsed": false
   },
   "outputs": [],
   "source": [
    "# Test\n",
    "get_cats_from_url('http://ww.dsf/ds/fs/df/ss/dfw/dfs')"
   ]
  },
  {
   "cell_type": "markdown",
   "metadata": {},
   "source": [
    "# 2. `datetime`\n",
    "\n",
    "More information at : https://docs.python.org/2/library/datetime.html#strftime-and-strptime-behavior"
   ]
  },
  {
   "cell_type": "code",
   "execution_count": null,
   "metadata": {
    "collapsed": true
   },
   "outputs": [],
   "source": [
    "from datetime import datetime, timedelta"
   ]
  },
  {
   "cell_type": "code",
   "execution_count": null,
   "metadata": {
    "collapsed": false
   },
   "outputs": [],
   "source": [
    "dt1 = datetime(2016, 7, 20)\n",
    "print dt1\n",
    "dt1"
   ]
  },
  {
   "cell_type": "markdown",
   "metadata": {},
   "source": [
    "### Extracting date time information and create a datetime object"
   ]
  },
  {
   "cell_type": "code",
   "execution_count": null,
   "metadata": {
    "collapsed": false
   },
   "outputs": [],
   "source": [
    "# From the string, we want to extract the date and time information.\n",
    "example_date = \"2016-07-24T21:36:07Z\"\n",
    "dt_format = \"%Y-%m-%dT%H:%M:%SZ\"\n",
    "\n",
    "dt2 = datetime.strptime(example_date, dt_format)\n",
    "print dt2\n",
    "dt2"
   ]
  },
  {
   "cell_type": "markdown",
   "metadata": {},
   "source": [
    "## `timedelta`"
   ]
  },
  {
   "cell_type": "code",
   "execution_count": null,
   "metadata": {
    "collapsed": false
   },
   "outputs": [],
   "source": [
    "dt_delta = dt2 - dt1\n",
    "print dt_delta\n",
    "tot_seconds = dt_delta.total_seconds()\n",
    "print tot_seconds"
   ]
  },
  {
   "cell_type": "markdown",
   "metadata": {},
   "source": [
    "# 3. File/Folder Paths\n",
    "\n",
    "All the folders and files have paths that are similar to URLs. <br>\n",
    "We can access the files and folders using the paths. "
   ]
  },
  {
   "cell_type": "markdown",
   "metadata": {},
   "source": [
    "## List files in a directory :  `os.listdir`"
   ]
  },
  {
   "cell_type": "code",
   "execution_count": null,
   "metadata": {
    "collapsed": false
   },
   "outputs": [],
   "source": [
    "import os\n",
    "os.listdir(\"/Users/jihyun/research/education/data/2230/deidentified\")"
   ]
  },
  {
   "cell_type": "markdown",
   "metadata": {},
   "source": [
    "## Concatenate folder/file paths : `os.path.join`\n",
    "\n",
    "You can also do this by string concatenation (using `+`), but this is less confusing and is less prone to errors."
   ]
  },
  {
   "cell_type": "code",
   "execution_count": null,
   "metadata": {
    "collapsed": false
   },
   "outputs": [],
   "source": [
    "directory = '/Users/jihyun/research/education/data/2230/deidentified'\n",
    "file_name = '199241.csv'\n",
    "os.path.join(directory, file_name)"
   ]
  },
  {
   "cell_type": "markdown",
   "metadata": {},
   "source": [
    "# 4. Dictionary\n",
    "\n",
    "Access `value` using `key`. <br>\n",
    "`key` doesn't have to be an integer as in list.<br>\n",
    "Let's say we want to have a dictionary where the `key` is a `string` and the `value` is a `list`"
   ]
  },
  {
   "cell_type": "code",
   "execution_count": null,
   "metadata": {
    "collapsed": true
   },
   "outputs": [],
   "source": [
    "# Different ways to define the same dictionary\n",
    "# 1. \n",
    "d = {\"a\":[1,2,3], \"b\":[4,5,6]}\n",
    "\n",
    "# 2. \n",
    "d = {} # equivalent to d = dict()\n",
    "d[\"a\"] = [1,2,3]\n",
    "d[\"b\"] = [4,5,6]"
   ]
  },
  {
   "cell_type": "markdown",
   "metadata": {},
   "source": [
    "## Example\n",
    "Store the following data into a dictionary\n",
    "\n",
    "| random_id  | URL           | created_at  |\n",
    "| - |------------- | ----|\n",
    "| 123  |  https://canvas.eee.uci.edu/courses/2230/files |2016-07-24T21:36:07Z |\n",
    "| 123  |  https://canvas.eee.uci.edu/courses/2230/    |2016-08-01T17:29:47Z |"
   ]
  },
  {
   "cell_type": "code",
   "execution_count": null,
   "metadata": {
    "collapsed": false
   },
   "outputs": [],
   "source": [
    "d1 = {} \n",
    "d1[\"url\"] = [\"https://canvas.eee.uci.edu/courses/2230/files\", \"https://canvas.eee.uci.edu/courses/2230/\"]\n",
    "d1[\"created_at\"] = [\"2016-07-24T21:36:07Z\", \"2016-08-01T17:29:47Z\"]\n",
    "print d1"
   ]
  },
  {
   "cell_type": "markdown",
   "metadata": {},
   "source": [
    "# 5. Load data from a csv file"
   ]
  },
  {
   "cell_type": "code",
   "execution_count": null,
   "metadata": {
    "collapsed": true
   },
   "outputs": [],
   "source": [
    "import csv"
   ]
  },
  {
   "cell_type": "code",
   "execution_count": null,
   "metadata": {
    "collapsed": false
   },
   "outputs": [],
   "source": [
    "# csv_file = '/Users/jihyun/research/education/data/2230/deidentified/104500.csv'\n",
    "\n",
    "deidentified_data_dir = '/Users/jihyun/research/education/data/2230/deidentified'\n",
    "csv_file = os.path.join(deidentified_data_dir, '104500.csv')  \n",
    "\n",
    "with open(csv_file, 'r') as f:\n",
    "    reader = csv.reader(f, delimiter=',')\n",
    "    for line in reader:\n",
    "        print line\n",
    "#         print line[1]"
   ]
  },
  {
   "cell_type": "code",
   "execution_count": null,
   "metadata": {
    "collapsed": false
   },
   "outputs": [],
   "source": [
    "with open(csv_file, 'r') as f:\n",
    "    reader = csv.reader(f, delimiter=',')\n",
    "    header = reader.next()\n",
    "    for line in reader:\n",
    "        rid = int(line[0])\n",
    "        url = line[1]\n",
    "        timestamp = line[3]\n",
    "        ip = line[5]\n",
    "        print rid, url, timestamp, ip"
   ]
  },
  {
   "cell_type": "markdown",
   "metadata": {},
   "source": [
    "## To-do\n",
    "1. Create another key `category` and store the categories using the URL and the function `get_cats_from_url()`.<br>\n",
    "2. Use `datetime.strptime()` to convert the string into a datetime object, and then store that datetime object instead of string."
   ]
  },
  {
   "cell_type": "code",
   "execution_count": null,
   "metadata": {
    "collapsed": false
   },
   "outputs": [],
   "source": [
    "dt_format = \"%Y-%m-%dT%H:%M:%SZ\"\n",
    "\n",
    "url_list = []\n",
    "category_list = []\n",
    "time_list = []\n",
    "ip_list = []\n",
    "\n",
    "with open(csv_file, 'r') as f:\n",
    "    reader = csv.reader(f, delimiter=',')\n",
    "    header = reader.next()\n",
    "    for line in reader:\n",
    "        rid = int(line[0])\n",
    "        url = line[1]\n",
    "        timestamp = line[3]\n",
    "        ip = line[5]\n",
    "        cat = get_cats_from_url(url)\n",
    "        dt = datetime.strptime(timestamp, dt_format)\n",
    "        \n",
    "#         print rid, url, timestamp, ip\n",
    "        url_list.append(url)\n",
    "#         time_list.append(timestamp)\n",
    "        time_list.append(dt)\n",
    "        ip_list.append(ip)\n",
    "        category_list.append(cat)\n",
    "\n",
    "student_data = {\"url\": url_list, \"created_at\":time_list, \"ip\":ip_list, \"category\":category_list}\n",
    "student_data\n",
    "student_data.keys()"
   ]
  },
  {
   "cell_type": "code",
   "execution_count": null,
   "metadata": {
    "collapsed": false
   },
   "outputs": [],
   "source": [
    "student_data"
   ]
  },
  {
   "cell_type": "markdown",
   "metadata": {},
   "source": [
    "# 5. Load multiple csv files from a folder"
   ]
  },
  {
   "cell_type": "markdown",
   "metadata": {},
   "source": [
    "We have .csv file for each student.<br>\n",
    "Each csv file has columns `url`, `created_at` (timestamp), `remote_ip` (IP address), and etc.\n",
    "\n",
    "`student_data1 = {\"url\":[url1, url2, ...], \"created_at\":[time1, time2, ...], \"remote_ip\":[ip1, ip2, ip3, ..], ...}`\n",
    "\n",
    "Total data will be a dictionary, where the keys are the student ID's and the values are the data of that student (above `student_data`). <br>\n",
    "If the ID of the first three students were 1,2 and 3, the total data would look something like below.\n",
    "\n",
    "`data = {1:student_data1, 2:student_data2, 3:student_data3, ...}`"
   ]
  },
  {
   "cell_type": "code",
   "execution_count": null,
   "metadata": {
    "collapsed": false,
    "scrolled": true
   },
   "outputs": [],
   "source": [
    "deidentified_data_dir = '/Users/jihyun/research/education/data/2230/deidentified'\n",
    "\n",
    "for filename in os.listdir(deidentified_data_dir):\n",
    "    csv_file = os.path.join(deidentified_data_dir, filename)\n",
    "    print csv_file"
   ]
  },
  {
   "cell_type": "code",
   "execution_count": null,
   "metadata": {
    "collapsed": true
   },
   "outputs": [],
   "source": [
    "deidentified_data_dir = '/Users/jihyun/research/education/data/2230/deidentified'\n",
    "data = {}\n",
    "dt_format = \"%Y-%m-%dT%H:%M:%SZ\"\n",
    "\n",
    "for filename in os.listdir(deidentified_data_dir):\n",
    "    csv_file = os.path.join(deidentified_data_dir, filename)\n",
    "\n",
    "    url_list = []\n",
    "    category_list = []\n",
    "    time_list = []\n",
    "    ip_list = []\n",
    "\n",
    "    with open(csv_file, 'r') as f:\n",
    "        reader = csv.reader(f, delimiter=',')\n",
    "        header = reader.next()\n",
    "        for line in reader:\n",
    "            rid = int(line[0])\n",
    "            url = line[1]\n",
    "            timestamp = line[3]\n",
    "            ip = line[5]\n",
    "            cat = get_cats_from_url(url)\n",
    "            dt = datetime.strptime(timestamp, dt_format)\n",
    "\n",
    "            url_list.append(url)\n",
    "            time_list.append(dt)\n",
    "            ip_list.append(ip)\n",
    "            category_list.append(cat)\n",
    "\n",
    "    student_data = {\"url\": url_list, \"created_at\":time_list, \"ip\":ip_list, \"category\":category_list}\n",
    "    data[rid] = student_data"
   ]
  },
  {
   "cell_type": "code",
   "execution_count": null,
   "metadata": {
    "collapsed": false
   },
   "outputs": [],
   "source": [
    "data.keys()"
   ]
  },
  {
   "cell_type": "code",
   "execution_count": null,
   "metadata": {
    "collapsed": false
   },
   "outputs": [],
   "source": [
    "data[667648]"
   ]
  },
  {
   "cell_type": "code",
   "execution_count": null,
   "metadata": {
    "collapsed": true
   },
   "outputs": [],
   "source": []
  },
  {
   "cell_type": "code",
   "execution_count": null,
   "metadata": {
    "collapsed": true
   },
   "outputs": [],
   "source": []
  },
  {
   "cell_type": "markdown",
   "metadata": {},
   "source": [
    " "
   ]
  },
  {
   "cell_type": "markdown",
   "metadata": {},
   "source": [
    "\n",
    "\n",
    "# Part 2 : Convert the data into a matrix\n",
    "-------------------------------\n",
    "\n",
    "We want to convert the whole data as a matrix where the rows are the students and the columns are the days,<br>\n",
    "and each value in a matrix is a **number of click events per day for each student**."
   ]
  },
  {
   "cell_type": "markdown",
   "metadata": {},
   "source": [
    "## `numpy` array"
   ]
  },
  {
   "cell_type": "code",
   "execution_count": null,
   "metadata": {
    "collapsed": true
   },
   "outputs": [],
   "source": [
    "import numpy as np"
   ]
  },
  {
   "cell_type": "code",
   "execution_count": null,
   "metadata": {
    "collapsed": true
   },
   "outputs": [],
   "source": [
    "# some numpy examples including np.zeros.\n"
   ]
  },
  {
   "cell_type": "code",
   "execution_count": null,
   "metadata": {
    "collapsed": true
   },
   "outputs": [],
   "source": []
  },
  {
   "cell_type": "code",
   "execution_count": null,
   "metadata": {
    "collapsed": true
   },
   "outputs": [],
   "source": [
    "# For a single student \n",
    "student_data = data[667648]\n",
    "\n",
    "max_days = 50\n",
    "first_day = datetime(2016 ,6 ,13 ,0 ,0 ,0)\n",
    "nclicks_per_day = np.zeros(max_days, dtype=np.int32)\n",
    "\n",
    "\n",
    "# number of all clicks\n",
    "for time in student_data['created_at']:\n",
    "    delta = time - first_day\n",
    "    if delta.days < max_days:\n",
    "        nclicks_per_day[delta.days] += 1\n"
   ]
  },
  {
   "cell_type": "code",
   "execution_count": null,
   "metadata": {
    "collapsed": true
   },
   "outputs": [],
   "source": [
    "# Make above as a function\n",
    "\n",
    "def get_nclicks_per_day(student_data, max_days=50, first_day=datetime(2016,6,13,0,0,0)):\n",
    "    nclicks_per_day = np.zeros(max_days, dtype=np.int32)\n",
    "\n",
    "    # number of all clicks\n",
    "    for time in student_data['created_at']:\n",
    "        delta = time - first_day\n",
    "        if delta.days < max_days:\n",
    "            nclicks_per_day[delta.days] += 1\n",
    "            \n",
    "    return nclicks_per_day"
   ]
  },
  {
   "cell_type": "code",
   "execution_count": null,
   "metadata": {
    "collapsed": false
   },
   "outputs": [],
   "source": [
    "# Make a matrix. Using all data\n",
    "\n",
    "n_students = len(data)\n",
    "max_days = 50\n",
    "\n",
    "nclicks_per_day_mat = np.zeros((n_students, max_days), dtype=np.int32)\n",
    "idx = 0\n",
    "for rid in data.keys():\n",
    "    nclicks_per_day_mat[idx] = get_nclicks_per_day(data[rid])\n",
    "    idx += 1"
   ]
  },
  {
   "cell_type": "code",
   "execution_count": null,
   "metadata": {
    "collapsed": false
   },
   "outputs": [],
   "source": []
  },
  {
   "cell_type": "code",
   "execution_count": null,
   "metadata": {
    "collapsed": true
   },
   "outputs": [],
   "source": []
  },
  {
   "cell_type": "markdown",
   "metadata": {},
   "source": [
    "# Part 3 : Plotting"
   ]
  },
  {
   "cell_type": "code",
   "execution_count": null,
   "metadata": {
    "collapsed": true
   },
   "outputs": [],
   "source": [
    "# Plot barplot"
   ]
  },
  {
   "cell_type": "code",
   "execution_count": null,
   "metadata": {
    "collapsed": true
   },
   "outputs": [],
   "source": [
    "# Plot heatmap"
   ]
  },
  {
   "cell_type": "markdown",
   "metadata": {},
   "source": [
    "# Part 4 : Subset\n",
    "\n",
    "Taking subset of the data by category or behavior"
   ]
  },
  {
   "cell_type": "code",
   "execution_count": null,
   "metadata": {
    "collapsed": true
   },
   "outputs": [],
   "source": [
    "# number of category clicks\n",
    "\n",
    "def get_nclicks_per_day_cat(student_data, category='homepage', max_days=50, first_day=datetime(2016,6,13,0,0,0)):\n",
    "    nclicks_per_day_1 = np.zeros(max_days, dtype=np.int32)\n",
    "\n",
    "    for i, time in enumerate(student_data['created_at']):\n",
    "        cat = get_cats_from_url(student_data['url'][i])\n",
    "        if cat == category:\n",
    "            delta = time - first_day\n",
    "            if delta.days < max_days:\n",
    "                nclicks_per_day_1[delta.days] += 1\n",
    "\n",
    "                \n",
    "# and do the same thing again"
   ]
  },
  {
   "cell_type": "code",
   "execution_count": null,
   "metadata": {
    "collapsed": true
   },
   "outputs": [],
   "source": [
    "# Number of preview clicks\n",
    "\n",
    "# Define preview. "
   ]
  }
 ],
 "metadata": {
  "anaconda-cloud": {},
  "kernelspec": {
   "display_name": "Python [conda root]",
   "language": "python",
   "name": "conda-root-py"
  },
  "language_info": {
   "codemirror_mode": {
    "name": "ipython",
    "version": 2
   },
   "file_extension": ".py",
   "mimetype": "text/x-python",
   "name": "python",
   "nbconvert_exporter": "python",
   "pygments_lexer": "ipython2",
   "version": "2.7.12"
  }
 },
 "nbformat": 4,
 "nbformat_minor": 1
}
