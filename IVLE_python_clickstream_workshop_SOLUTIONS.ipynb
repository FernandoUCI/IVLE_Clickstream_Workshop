{
 "cells": [
  {
   "cell_type": "markdown",
   "metadata": {
    "collapsed": true
   },
   "source": [
    "# IVLE Python Clickstream Workshop\n",
    "-------------------------------\n",
    "**An entry-level tutorial using Python and its packages to work with the Canvas LMS clickstream data.**\n",
    "\n",
    "By Jihyun Park (`jihyunp@ics.uci.edu`)<br>\n",
    "Department of Computer Science, University of California, Irvine<br>\n",
    "June 2, 2017\n",
    "(Modified on Aug 25, 2017)\n"
   ]
  },
  {
   "cell_type": "markdown",
   "metadata": {
    "collapsed": true
   },
   "source": [
    "## Outline\n",
    "-----------------------\n",
    "### Part 1 : Warm Up\n",
    "- Basics of List\n",
    "- Useful functions for string\n",
    "- Working with folder and file paths\n",
    "- Dictionary\n",
    "\n",
    "### Part 2 : Load Data\n",
    "- Load data from a single csv file\n",
    "- Load multiple csv files from a folder\n",
    "\n",
    "### Part 3 : Convert the Data into a Matrix\n",
    "- numpy arrays\n",
    "- Transform loaded data to a mtrix\n",
    "\n",
    "### Part 4 : Save Matrix into a csv File\n",
    "- Save a matrix into a text .csv file using csv package\n",
    "\n",
    "### Part 5 : Plotting with `matplotlib.pyplot` \n",
    "- Bar plot\n",
    "- Heatmap\n",
    "\n",
    "### Part 6 : Different Click Matrices\n",
    "- Number of homepage/file clicks\n",
    "- repeat the part 3-5\n",
    "\n",
    "### Part 7: Students with more/less activities\n",
    "- Thresholding with `np.where()`\n",
    "- Re-ordering the rows in a matrix (2D np.array)\n",
    "\n",
    "<br>"
   ]
  },
  {
   "cell_type": "markdown",
   "metadata": {},
   "source": [
    "## Requirements\n",
    "----------------------------\n",
    "You need to know basic syntax of python language, such as `for ` loop, `if` statements, defining functions (`def`), and etc. \n",
    "\n",
    "Python 2.7 should be installed.<br>\n",
    "The following list of packages should be installed as well. <br>\n",
    "[Installing python via anaconda](https://www.continuum.io/downloads) can be helpful since it includes all of them!\n",
    "- Jupyter notebook! (You won't be able to see this if it's not installed)\n",
    "- numpy\n",
    "- matplotlib\n",
    "- datetime\n",
    "- csv\n",
    "- os\n",
    "\n",
    "<br>"
   ]
  },
  {
   "cell_type": "markdown",
   "metadata": {
    "collapsed": true
   },
   "source": [
    "# Part 1 : Warm Up\n",
    "---------------------------"
   ]
  },
  {
   "cell_type": "markdown",
   "metadata": {},
   "source": [
    "## 1.0 List"
   ]
  },
  {
   "cell_type": "code",
   "execution_count": 2,
   "metadata": {
    "collapsed": true
   },
   "outputs": [],
   "source": [
    "# 1. Define a list with values in the first place\n",
    "lst1 = [1,2,3]\n",
    "lst2 = [\"a\", \"b\", \"c\"]"
   ]
  },
  {
   "cell_type": "code",
   "execution_count": 3,
   "metadata": {
    "collapsed": false
   },
   "outputs": [],
   "source": [
    "# 2. Define an empty list and then append the list\n",
    "lst3 = []\n",
    "lst3.append(1)\n",
    "lst3.append(2)"
   ]
  },
  {
   "cell_type": "code",
   "execution_count": 4,
   "metadata": {
    "collapsed": false
   },
   "outputs": [
    {
     "data": {
      "text/plain": [
       "[1, 2]"
      ]
     },
     "execution_count": 4,
     "metadata": {},
     "output_type": "execute_result"
    }
   ],
   "source": [
    "lst3"
   ]
  },
  {
   "cell_type": "code",
   "execution_count": 5,
   "metadata": {
    "collapsed": false
   },
   "outputs": [
    {
     "data": {
      "text/plain": [
       "[1, 2, 3]"
      ]
     },
     "execution_count": 5,
     "metadata": {},
     "output_type": "execute_result"
    }
   ],
   "source": [
    "lst1"
   ]
  },
  {
   "cell_type": "markdown",
   "metadata": {},
   "source": [
    "Access the list using an index using square brackets"
   ]
  },
  {
   "cell_type": "code",
   "execution_count": 6,
   "metadata": {
    "collapsed": false
   },
   "outputs": [
    {
     "data": {
      "text/plain": [
       "1"
      ]
     },
     "execution_count": 6,
     "metadata": {},
     "output_type": "execute_result"
    }
   ],
   "source": [
    "# Index starts from 0\n",
    "lst3[0]"
   ]
  },
  {
   "cell_type": "code",
   "execution_count": 7,
   "metadata": {
    "collapsed": false
   },
   "outputs": [
    {
     "name": "stdout",
     "output_type": "stream",
     "text": [
      "1\n"
     ]
    }
   ],
   "source": [
    "# Put the first element in the lst3 into a variable 'value', and print the 'value'\n",
    "value = lst3[0]\n",
    "print value"
   ]
  },
  {
   "cell_type": "markdown",
   "metadata": {},
   "source": [
    "## 1.1 URL, String\n",
    "### Split function"
   ]
  },
  {
   "cell_type": "code",
   "execution_count": 8,
   "metadata": {
    "collapsed": false
   },
   "outputs": [],
   "source": [
    "soe_url = \"http://education.uci.edu\"\n",
    "# soe_url = 'http://education.uci.edu'\n",
    "soe_phd_url = \"http://education.uci.edu/phd-in-education.html\""
   ]
  },
  {
   "cell_type": "code",
   "execution_count": 9,
   "metadata": {
    "collapsed": false
   },
   "outputs": [
    {
     "data": {
      "text/plain": [
       "['http:', '', 'education.uci.edu']"
      ]
     },
     "execution_count": 9,
     "metadata": {},
     "output_type": "execute_result"
    }
   ],
   "source": [
    "# Try using .split(\"/\") to above strings and print them out\n",
    "soe_url.split(\"/\")"
   ]
  },
  {
   "cell_type": "code",
   "execution_count": 10,
   "metadata": {
    "collapsed": false
   },
   "outputs": [
    {
     "name": "stdout",
     "output_type": "stream",
     "text": [
      "3\n",
      "['http:', '', 'education.uci.edu']\n"
     ]
    }
   ],
   "source": [
    "# Save the list as a variable and try printing it out\n",
    "# Also try printing out the length of the list\n",
    "split_list = soe_url.split(\"/\")\n",
    "print len(split_list)\n",
    "print split_list"
   ]
  },
  {
   "cell_type": "code",
   "execution_count": 11,
   "metadata": {
    "collapsed": true
   },
   "outputs": [],
   "source": [
    "# Function that returns the length of the URL, split with \"/\"\n",
    "# Make url as an argument\n",
    "\n",
    "def get_slash_split_len(url):\n",
    "    split_list = url.split(\"/\")\n",
    "    result = len(split_list)\n",
    "    return result"
   ]
  },
  {
   "cell_type": "code",
   "execution_count": 12,
   "metadata": {
    "collapsed": false
   },
   "outputs": [
    {
     "data": {
      "text/plain": [
       "5"
      ]
     },
     "execution_count": 12,
     "metadata": {},
     "output_type": "execute_result"
    }
   ],
   "source": [
    "# Test\n",
    "get_slash_split_len(\"a/b/c/d/e\")"
   ]
  },
  {
   "cell_type": "markdown",
   "metadata": {},
   "source": [
    "Take a look at the real URLs from the csv files. <br>\n",
    "We want to categorize the URLs into categories such as 'homepage', 'files', 'assignments' and etc. <br>\n",
    "The easiest way to do this is take the 5th element of the list, which is the URL split by delimiter \"/\"."
   ]
  },
  {
   "cell_type": "code",
   "execution_count": 13,
   "metadata": {
    "collapsed": false
   },
   "outputs": [],
   "source": [
    "url_file = \"https://canvas.eee.uci.edu/courses/2230/files/742190?module_item_id=62039\"  # -> categorize as \"files\"\n",
    "url_assignment = \"https://canvas.eee.uci.edu/courses/2230/assignments/49367/submissions\"  # -> categorize as \"assignments\"\n",
    "url_home = \"https://canvas.eee.uci.edu/courses/2230\"  # -> categorize as \"homepage\""
   ]
  },
  {
   "cell_type": "markdown",
   "metadata": {
    "collapsed": true
   },
   "source": [
    "- Homepage : Only 4 slashes exist. We can filter this case out.\n",
    "- Others : More than 5 slashes exist. "
   ]
  },
  {
   "cell_type": "code",
   "execution_count": 14,
   "metadata": {
    "collapsed": false
   },
   "outputs": [
    {
     "data": {
      "text/plain": [
       "['https:',\n",
       " '',\n",
       " 'canvas.eee.uci.edu',\n",
       " 'courses',\n",
       " '2230',\n",
       " 'files',\n",
       " '742190?module_item_id=62039']"
      ]
     },
     "execution_count": 14,
     "metadata": {},
     "output_type": "execute_result"
    }
   ],
   "source": [
    "url_file.split(\"/\")"
   ]
  },
  {
   "cell_type": "code",
   "execution_count": 15,
   "metadata": {
    "collapsed": false
   },
   "outputs": [
    {
     "data": {
      "text/plain": [
       "'assignments'"
      ]
     },
     "execution_count": 15,
     "metadata": {},
     "output_type": "execute_result"
    }
   ],
   "source": [
    "url_assignment.split(\"/\")[5]"
   ]
  },
  {
   "cell_type": "code",
   "execution_count": 16,
   "metadata": {
    "collapsed": true
   },
   "outputs": [],
   "source": [
    "def get_cats_from_url(url):\n",
    "    \"\"\"If there are 5 or more slashes, \n",
    "       return the 6th element in the array (that we get from .split() function)\"\"\"\n",
    "    if len(url.split(\"/\")) < 6:\n",
    "        return \"homepage\"\n",
    "    else:\n",
    "        return url.split(\"/\")[5]"
   ]
  },
  {
   "cell_type": "code",
   "execution_count": 17,
   "metadata": {
    "collapsed": false
   },
   "outputs": [
    {
     "name": "stdout",
     "output_type": "stream",
     "text": [
      "files\n",
      "homepage\n"
     ]
    }
   ],
   "source": [
    "# Test\n",
    "print get_cats_from_url(url_file)\n",
    "print get_cats_from_url(url_home)"
   ]
  },
  {
   "cell_type": "markdown",
   "metadata": {},
   "source": [
    "## 1.2 `datetime`"
   ]
  },
  {
   "cell_type": "code",
   "execution_count": 18,
   "metadata": {
    "collapsed": true
   },
   "outputs": [],
   "source": [
    "from datetime import datetime, timedelta"
   ]
  },
  {
   "cell_type": "code",
   "execution_count": null,
   "metadata": {
    "collapsed": true
   },
   "outputs": [],
   "source": []
  },
  {
   "cell_type": "code",
   "execution_count": 19,
   "metadata": {
    "collapsed": false
   },
   "outputs": [
    {
     "name": "stdout",
     "output_type": "stream",
     "text": [
      "2016-07-20 00:00:00\n"
     ]
    }
   ],
   "source": [
    "dt1 = datetime(2016, 7, 20)\n",
    "print dt1"
   ]
  },
  {
   "cell_type": "markdown",
   "metadata": {},
   "source": [
    "### Extracting date time information and create a datetime object\n",
    "More information at : https://docs.python.org/2/library/datetime.html#strftime-and-strptime-behavior"
   ]
  },
  {
   "cell_type": "code",
   "execution_count": 20,
   "metadata": {
    "collapsed": false
   },
   "outputs": [],
   "source": [
    "# From the string, we want to extract the date and time information.\n",
    "example_date = \"2016-07-24T21:36:07Z\"\n",
    "dt_format = \"%Y-%m-%dT%H:%M:%SZ\"\n",
    "\n",
    "dt2 = datetime.strptime(example_date, dt_format)"
   ]
  },
  {
   "cell_type": "code",
   "execution_count": 21,
   "metadata": {
    "collapsed": false
   },
   "outputs": [
    {
     "name": "stdout",
     "output_type": "stream",
     "text": [
      "2016-07-24 21:36:07\n",
      "<type 'datetime.datetime'>\n"
     ]
    }
   ],
   "source": [
    "print dt2\n",
    "print type(dt2)"
   ]
  },
  {
   "cell_type": "code",
   "execution_count": 22,
   "metadata": {
    "collapsed": false
   },
   "outputs": [
    {
     "data": {
      "text/plain": [
       "datetime.datetime(2016, 7, 24, 21, 36, 7)"
      ]
     },
     "execution_count": 22,
     "metadata": {},
     "output_type": "execute_result"
    }
   ],
   "source": [
    "dt2 "
   ]
  },
  {
   "cell_type": "markdown",
   "metadata": {},
   "source": [
    "### `timedelta`"
   ]
  },
  {
   "cell_type": "code",
   "execution_count": 23,
   "metadata": {
    "collapsed": false
   },
   "outputs": [
    {
     "name": "stdout",
     "output_type": "stream",
     "text": [
      "2016-07-20 00:00:00\n",
      "2016-07-24 21:36:07\n"
     ]
    }
   ],
   "source": [
    "print dt1\n",
    "print dt2"
   ]
  },
  {
   "cell_type": "code",
   "execution_count": 24,
   "metadata": {
    "collapsed": false
   },
   "outputs": [
    {
     "name": "stdout",
     "output_type": "stream",
     "text": [
      "4 days, 21:36:07\n"
     ]
    }
   ],
   "source": [
    "dt_delta = dt2-dt1\n",
    "print dt_delta"
   ]
  },
  {
   "cell_type": "code",
   "execution_count": 25,
   "metadata": {
    "collapsed": false
   },
   "outputs": [
    {
     "data": {
      "text/plain": [
       "datetime.timedelta(4, 77767)"
      ]
     },
     "execution_count": 25,
     "metadata": {},
     "output_type": "execute_result"
    }
   ],
   "source": [
    "dt_delta"
   ]
  },
  {
   "cell_type": "code",
   "execution_count": 26,
   "metadata": {
    "collapsed": false
   },
   "outputs": [
    {
     "name": "stdout",
     "output_type": "stream",
     "text": [
      "4 days and  77767 seconds\n"
     ]
    }
   ],
   "source": [
    "time_diff_days = dt_delta.days\n",
    "time_diff_secs = dt_delta.seconds\n",
    "print time_diff_days, \"days and \", time_diff_secs, \"seconds\""
   ]
  },
  {
   "cell_type": "code",
   "execution_count": 27,
   "metadata": {
    "collapsed": false
   },
   "outputs": [
    {
     "data": {
      "text/plain": [
       "423367"
      ]
     },
     "execution_count": 27,
     "metadata": {},
     "output_type": "execute_result"
    }
   ],
   "source": [
    "4* 3600*24 + 77767"
   ]
  },
  {
   "cell_type": "code",
   "execution_count": 28,
   "metadata": {
    "collapsed": false
   },
   "outputs": [
    {
     "name": "stdout",
     "output_type": "stream",
     "text": [
      "423367.0\n"
     ]
    }
   ],
   "source": [
    "time_diff_in_seconds = dt_delta.total_seconds()\n",
    "print time_diff_in_seconds"
   ]
  },
  {
   "cell_type": "code",
   "execution_count": 29,
   "metadata": {
    "collapsed": false
   },
   "outputs": [
    {
     "data": {
      "text/plain": [
       "datetime.datetime(2016, 7, 20, 0, 0)"
      ]
     },
     "execution_count": 29,
     "metadata": {},
     "output_type": "execute_result"
    }
   ],
   "source": [
    "dt1"
   ]
  },
  {
   "cell_type": "code",
   "execution_count": 30,
   "metadata": {
    "collapsed": false
   },
   "outputs": [
    {
     "data": {
      "text/plain": [
       "datetime.datetime(2016, 7, 20, 8, 0)"
      ]
     },
     "execution_count": 30,
     "metadata": {},
     "output_type": "execute_result"
    }
   ],
   "source": [
    "dt1 + timedelta(0, 3600*8)"
   ]
  },
  {
   "cell_type": "markdown",
   "metadata": {},
   "source": [
    "## 1.3 Accessing File/Folder Paths\n",
    "\n",
    "All the folders and files have paths that are similar to URLs. <br>\n",
    "We can access the files and folders using the paths. "
   ]
  },
  {
   "cell_type": "markdown",
   "metadata": {},
   "source": [
    "### List files in a directory :  `os.listdir`"
   ]
  },
  {
   "cell_type": "code",
   "execution_count": 33,
   "metadata": {
    "collapsed": false,
    "scrolled": true
   },
   "outputs": [
    {
     "data": {
      "text/plain": [
       "['104500.csv',\n",
       " '104716.csv',\n",
       " '105751.csv',\n",
       " '106707.csv',\n",
       " '130996.csv',\n",
       " '133180.csv',\n",
       " '140533.csv',\n",
       " '141747.csv',\n",
       " '141925.csv',\n",
       " '143914.csv',\n",
       " '145670.csv',\n",
       " '146863.csv',\n",
       " '147718.csv',\n",
       " '149531.csv',\n",
       " '161048.csv',\n",
       " '168272.csv',\n",
       " '170223.csv',\n",
       " '170432.csv',\n",
       " '175489.csv',\n",
       " '177681.csv',\n",
       " '178174.csv',\n",
       " '180174.csv',\n",
       " '182504.csv',\n",
       " '183023.csv',\n",
       " '197521.csv',\n",
       " '198967.csv',\n",
       " '199241.csv',\n",
       " '200213.csv',\n",
       " '204748.csv',\n",
       " '205399.csv',\n",
       " '214859.csv',\n",
       " '215400.csv',\n",
       " '219450.csv',\n",
       " '226412.csv',\n",
       " '231943.csv',\n",
       " '235765.csv',\n",
       " '237519.csv',\n",
       " '238015.csv',\n",
       " '243861.csv',\n",
       " '261820.csv',\n",
       " '276402.csv',\n",
       " '281031.csv',\n",
       " '288266.csv',\n",
       " '295360.csv',\n",
       " '299868.csv',\n",
       " '300495.csv',\n",
       " '304461.csv',\n",
       " '307656.csv',\n",
       " '321628.csv',\n",
       " '321917.csv',\n",
       " '325700.csv',\n",
       " '331387.csv',\n",
       " '334203.csv',\n",
       " '334953.csv',\n",
       " '340310.csv',\n",
       " '345089.csv',\n",
       " '346931.csv',\n",
       " '351132.csv',\n",
       " '358425.csv',\n",
       " '362123.csv',\n",
       " '364842.csv',\n",
       " '367687.csv',\n",
       " '371246.csv',\n",
       " '372017.csv',\n",
       " '385563.csv',\n",
       " '400323.csv',\n",
       " '407162.csv',\n",
       " '409639.csv',\n",
       " '411700.csv',\n",
       " '429492.csv',\n",
       " '432697.csv',\n",
       " '438165.csv',\n",
       " '438171.csv',\n",
       " '450617.csv',\n",
       " '453902.csv',\n",
       " '455346.csv',\n",
       " '462383.csv',\n",
       " '475486.csv',\n",
       " '480786.csv',\n",
       " '482931.csv',\n",
       " '491579.csv',\n",
       " '498458.csv',\n",
       " '499769.csv',\n",
       " '507347.csv',\n",
       " '508735.csv',\n",
       " '518321.csv',\n",
       " '529371.csv',\n",
       " '531161.csv',\n",
       " '538148.csv',\n",
       " '548808.csv',\n",
       " '556811.csv',\n",
       " '557446.csv',\n",
       " '568332.csv',\n",
       " '571486.csv',\n",
       " '571608.csv',\n",
       " '575990.csv',\n",
       " '578062.csv',\n",
       " '589476.csv',\n",
       " '591403.csv',\n",
       " '592464.csv']"
      ]
     },
     "execution_count": 33,
     "metadata": {},
     "output_type": "execute_result"
    }
   ],
   "source": [
    "import os\n",
    "os.listdir(\"./deidentified_data\")"
   ]
  },
  {
   "cell_type": "code",
   "execution_count": 34,
   "metadata": {
    "collapsed": false
   },
   "outputs": [
    {
     "data": {
      "text/plain": [
       "100"
      ]
     },
     "execution_count": 34,
     "metadata": {},
     "output_type": "execute_result"
    }
   ],
   "source": [
    "len(os.listdir(\"./deidentified_data\"))"
   ]
  },
  {
   "cell_type": "markdown",
   "metadata": {},
   "source": [
    "### Concatenate folder/file paths : `os.path.join`\n",
    "\n",
    "You can also do this by string concatenation (using `+`), but this is less confusing and is less prone to errors."
   ]
  },
  {
   "cell_type": "code",
   "execution_count": 35,
   "metadata": {
    "collapsed": false
   },
   "outputs": [
    {
     "name": "stdout",
     "output_type": "stream",
     "text": [
      "./deidentified_data/199241.csv\n"
     ]
    }
   ],
   "source": [
    "directory = './deidentified_data'\n",
    "file_name = '199241.csv'\n",
    "print directory + \"/\" + file_name"
   ]
  },
  {
   "cell_type": "code",
   "execution_count": 36,
   "metadata": {
    "collapsed": false
   },
   "outputs": [
    {
     "data": {
      "text/plain": [
       "'./deidentified_data/199241.csv'"
      ]
     },
     "execution_count": 36,
     "metadata": {},
     "output_type": "execute_result"
    }
   ],
   "source": [
    "os.path.join(directory, file_name)"
   ]
  },
  {
   "cell_type": "markdown",
   "metadata": {},
   "source": [
    "## 1.4 Dictionary\n",
    "\n",
    "Access `value` using `key`. <br>\n",
    "`key` doesn't have to be an integer as in list.<br>\n",
    "Let's say we want to have a dictionary where the `key` is a `string` and the `value` is a `list`"
   ]
  },
  {
   "cell_type": "code",
   "execution_count": 37,
   "metadata": {
    "collapsed": false
   },
   "outputs": [
    {
     "name": "stdout",
     "output_type": "stream",
     "text": [
      "{'a': [1, 2, 3], 'b': [4, 5, 6]}\n"
     ]
    }
   ],
   "source": [
    "# Different ways to define the same dictionary\n",
    "# 1. Define a dictionary with values in the first place\n",
    "d = {\"a\":[1,2,3], \"b\":[4,5,6]}\n",
    "print d\n"
   ]
  },
  {
   "cell_type": "code",
   "execution_count": 38,
   "metadata": {
    "collapsed": false
   },
   "outputs": [
    {
     "name": "stdout",
     "output_type": "stream",
     "text": [
      "{'a': [1, 2, 3], 'b': [4, 5, 6]}\n"
     ]
    }
   ],
   "source": [
    "\n",
    "# 2. Define an empty dictionary and then \n",
    "d = {} # equivalent to d = dict()\n",
    "# Access the dictionary like a list\n",
    "d[\"a\"] = [1,2,3]\n",
    "d[\"b\"] = [4,5,6]\n",
    "print d"
   ]
  },
  {
   "cell_type": "markdown",
   "metadata": {},
   "source": [
    "### Example\n",
    "Store the following data into a dictionary where the column \"URL\" and \"created_at\" are the `keys`.\n",
    "\n",
    "| random_id  | URL           | created_at  |\n",
    "| - |------------- | ----|\n",
    "| 123  |  https://canvas.eee.uci.edu/courses/2230/files |2016-07-24T21:36:07Z |\n",
    "| 123  |  https://canvas.eee.uci.edu/courses/2230/    |2016-08-01T17:29:47Z |"
   ]
  },
  {
   "cell_type": "code",
   "execution_count": 39,
   "metadata": {
    "collapsed": false
   },
   "outputs": [
    {
     "name": "stdout",
     "output_type": "stream",
     "text": [
      "['url', 'created_at']\n"
     ]
    }
   ],
   "source": [
    "d1 = {} \n",
    "d1[\"created_at\"] = [\"2016-07-24T21:36:07Z\", \"2016-08-01T17:29:47Z\"]\n",
    "d1[\"url\"] = [\"https://canvas.eee.uci.edu/courses/2230/files\", \"https://canvas.eee.uci.edu/courses/2230/\"]\n",
    "\n",
    "# print d1\n",
    "print d1.keys()"
   ]
  },
  {
   "cell_type": "code",
   "execution_count": 40,
   "metadata": {
    "collapsed": false
   },
   "outputs": [
    {
     "name": "stdout",
     "output_type": "stream",
     "text": [
      "[datetime.datetime(2016, 7, 24, 21, 36, 7), datetime.datetime(2016, 8, 1, 17, 29, 47)]\n"
     ]
    }
   ],
   "source": [
    "# dt_format = \"%Y-%m-%dT%H:%M:%SZ\"\n",
    "d2 = {}\n",
    "d2[\"created_at\"] = [datetime.strptime(\"2016-07-24T21:36:07Z\", dt_format), \n",
    "                    datetime.strptime(\"2016-08-01T17:29:47Z\", dt_format)]\n",
    "d2[\"url\"] = [\"https://canvas.eee.uci.edu/courses/2230/files\", \"https://canvas.eee.uci.edu/courses/2230/\"]\n",
    "\n",
    "print d2['created_at']"
   ]
  },
  {
   "cell_type": "markdown",
   "metadata": {},
   "source": [
    "<br>\n",
    "<br>\n",
    "\n",
    "# Part 2 : Load Data\n",
    "---------------------------"
   ]
  },
  {
   "cell_type": "markdown",
   "metadata": {},
   "source": [
    "## 2.1 Load data from a csv file"
   ]
  },
  {
   "cell_type": "code",
   "execution_count": 41,
   "metadata": {
    "collapsed": true
   },
   "outputs": [],
   "source": [
    "import csv"
   ]
  },
  {
   "cell_type": "code",
   "execution_count": 42,
   "metadata": {
    "collapsed": false,
    "scrolled": true
   },
   "outputs": [
    {
     "name": "stdout",
     "output_type": "stream",
     "text": [
      "['roster_randomid', 'url', 'action', 'created_at', 'interaction_seconds', 'remote_ip']\n",
      "['104500', 'https://canvas.eee.uci.edu/courses/2230/files/742190/download?download_frd=1', 'show', '2016-08-01T17:29:47Z', '', '70.209.201.77']\n",
      "['104500', 'https://canvas.eee.uci.edu/courses/2230/files/742190?module_item_id=62039', 'show', '2016-08-01T17:29:37Z', '', '70.209.201.77']\n",
      "['104500', 'https://canvas.eee.uci.edu/courses/2230/pages/5-box-solution-format?module_item_id=62400', 'show', '2016-08-01T17:29:25Z', '', '70.209.201.77']\n",
      "['104500', 'https://canvas.eee.uci.edu/courses/2230/files/742190?module_item_id=62039', 'show', '2016-08-01T17:29:02Z', '', '70.209.201.77']\n",
      "['104500', 'https://canvas.eee.uci.edu/courses/2230', 'show', '2016-08-01T17:28:51Z', '', '70.209.201.77']\n",
      "['104500', 'https://canvas.eee.uci.edu/courses/2230/files/747534/download?wrap=1', 'show', '2016-07-27T01:50:13Z', '', '70.209.208.98']\n",
      "['104500', 'https://canvas.eee.uci.edu/courses/2230/pages/list-of-important-concepts?module_item_id=62386', 'show', '2016-07-27T01:50:07Z', '', '70.209.208.98']\n",
      "['104500', 'https://canvas.eee.uci.edu/courses/2230', 'show', '2016-07-27T01:49:56Z', '', '70.209.208.98']\n",
      "['104500', 'https://canvas.eee.uci.edu/courses/2230/files/748147?module_item_id=62454', 'show', '2016-07-27T01:06:27Z', '', '70.187.187.85']\n",
      "['104500', 'https://canvas.eee.uci.edu/courses/2230', 'show', '2016-07-27T01:06:23Z', '', '70.187.187.85']\n",
      "['104500', 'https://canvas.eee.uci.edu/courses/2230/files/748131?module_item_id=62444', 'show', '2016-07-27T01:05:57Z', '', '70.187.187.85']\n",
      "['104500', 'https://canvas.eee.uci.edu/courses/2230', 'show', '2016-07-27T01:05:40Z', '', '70.187.187.85']\n",
      "['104500', 'https://canvas.eee.uci.edu/courses/2230/files/748142/download?wrap=1', 'show', '2016-07-26T21:35:12Z', '', '70.187.187.85']\n",
      "['104500', 'https://canvas.eee.uci.edu/courses/2230/files/748132/download?wrap=1', 'show', '2016-07-26T21:35:11Z', '', '70.187.187.85']\n",
      "['104500', 'https://canvas.eee.uci.edu/courses/2230/files/748141/download?wrap=1', 'show', '2016-07-26T21:27:23Z', '', '70.187.187.85']\n",
      "['104500', 'https://canvas.eee.uci.edu/courses/2230/files/748130/download?wrap=1', 'show', '2016-07-26T21:27:19Z', '', '70.187.187.85']\n",
      "['104500', 'https://canvas.eee.uci.edu/courses/2230/files/748132/download?wrap=1', 'show', '2016-07-26T19:50:06Z', '', '70.187.187.85']\n",
      "['104500', 'https://canvas.eee.uci.edu/courses/2230/files/748142/download?wrap=1', 'show', '2016-07-26T19:49:59Z', '', '70.187.187.85']\n",
      "['104500', 'https://canvas.eee.uci.edu/courses/2230/files/748132/download?wrap=1', 'show', '2016-07-26T19:49:57Z', '', '70.187.187.85']\n",
      "['104500', 'https://canvas.eee.uci.edu/courses/2230/files/748162/download?wrap=1', 'show', '2016-07-26T18:15:14Z', '', '70.187.187.85']\n",
      "['104500', 'https://canvas.eee.uci.edu/courses/2230/files/748133/download?wrap=1', 'show', '2016-07-26T18:15:11Z', '', '70.187.187.85']\n",
      "['104500', 'https://canvas.eee.uci.edu/courses/2230/pages/practice-exams?module_item_id=62459', 'show', '2016-07-26T18:15:03Z', '15.0', '70.187.187.85']\n",
      "['104500', 'https://canvas.eee.uci.edu/courses/2230', 'show', '2016-07-26T18:14:54Z', '', '70.187.187.85']\n",
      "['104500', 'https://canvas.eee.uci.edu/courses/2230/files/748057/download?wrap=1', 'show', '2016-07-26T00:41:04Z', '', '70.187.187.85']\n",
      "['104500', 'https://canvas.eee.uci.edu/courses/2230/files/748149/download?wrap=1', 'show', '2016-07-26T00:40:55Z', '', '70.187.187.85']\n",
      "['104500', 'https://canvas.eee.uci.edu/courses/2230/files/748150/download?wrap=1', 'show', '2016-07-25T00:07:48Z', '', '70.187.187.85']\n",
      "['104500', 'https://canvas.eee.uci.edu/courses/2230/files/748140/download?wrap=1', 'show', '2016-07-25T00:04:39Z', '', '70.187.187.85']\n",
      "['104500', 'https://canvas.eee.uci.edu/courses/2230/pages/practice-exams?module_item_id=62459', 'show', '2016-07-25T00:04:27Z', '14.0', '70.187.187.85']\n",
      "['104500', 'https://ucirvine.instructure.com/courses/2230/assignments/49369', 'show', '2016-07-24T23:06:20Z', '', '70.187.187.85']\n",
      "['104500', 'https://canvas.eee.uci.edu/courses/2230', 'show', '2016-07-24T21:36:07Z', '11.0', '70.187.187.85']\n",
      "['104500', 'https://canvas.eee.uci.edu/courses/2230/assignments/49374?module_item_id=62441', 'show', '2016-07-24T19:05:23Z', '19.0', '70.187.187.85']\n",
      "['104500', 'https://canvas.eee.uci.edu/courses/2230', 'show', '2016-07-24T19:05:13Z', '', '70.187.187.85']\n",
      "['104500', 'https://canvas.eee.uci.edu/courses/2230/pages/reading-schedule?module_item_id=62397', 'show', '2016-07-24T18:35:00Z', '24.0', '70.187.187.85']\n",
      "['104500', 'https://canvas.eee.uci.edu/courses/2230', 'show', '2016-07-24T18:34:41Z', '', '70.187.187.85']\n",
      "['104500', 'https://canvas.eee.uci.edu/courses/2230/assignments/49367/submissions', 'create', '2016-07-24T06:00:44Z', '', '70.187.187.85']\n",
      "['104500', 'https://canvas.eee.uci.edu/courses/2230/assignments/49367', 'show', '2016-07-24T06:00:16Z', '', '70.187.187.85']\n",
      "['104500', 'https://canvas.eee.uci.edu/courses/2230/files/748152/download?wrap=1', 'show', '2016-07-24T05:35:58Z', '', '70.187.187.85']\n",
      "['104500', 'https://canvas.eee.uci.edu/courses/2230/assignments/49367', 'show', '2016-07-24T05:35:50Z', '', '70.187.187.85']\n",
      "['104500', 'https://canvas.eee.uci.edu/courses/2230', 'show', '2016-07-24T05:31:54Z', '', '70.187.187.85']\n",
      "['104500', 'https://canvas.eee.uci.edu/courses/2230/pages/week-5-daily-lectures?module_item_id=62449', 'show', '2016-07-23T04:03:45Z', '', '68.231.213.182']\n",
      "['104500', 'https://canvas.eee.uci.edu/courses/2230', 'show', '2016-07-23T04:03:39Z', '', '68.231.213.182']\n",
      "['104500', 'https://canvas.eee.uci.edu/courses/2230/pages/week-5-checklist?module_item_id=62448', 'show', '2016-07-23T04:03:34Z', '', '68.231.213.182']\n",
      "['104500', 'https://canvas.eee.uci.edu/courses/2230/pages/reading-schedule', 'show', '2016-07-23T02:04:56Z', '15.0', '68.231.213.182']\n",
      "['104500', 'https://canvas.eee.uci.edu/courses/2230', 'show', '2016-07-23T01:55:24Z', '', '68.231.213.182']\n",
      "['104500', 'https://canvas.eee.uci.edu/courses/2230/files/747534/download?wrap=1', 'show', '2016-07-22T18:49:31Z', '', '70.187.187.85']\n",
      "['104500', 'https://canvas.eee.uci.edu/courses/2230/pages/list-of-important-concepts?module_item_id=62386', 'show', '2016-07-22T18:48:49Z', '', '70.187.187.85']\n",
      "['104500', 'https://canvas.eee.uci.edu/courses/2230', 'show', '2016-07-22T18:48:40Z', '', '70.187.187.85']\n",
      "['104500', 'https://canvas.eee.uci.edu/courses/2230/pages/week-5-daily-lectures?module_item_id=62449', 'show', '2016-07-22T04:19:26Z', '', '68.231.213.182']\n",
      "['104500', 'https://canvas.eee.uci.edu/courses/2230', 'show', '2016-07-22T04:19:21Z', '', '68.231.213.182']\n",
      "['104500', 'https://canvas.eee.uci.edu/courses/2230/pages/reading-schedule?module_item_id=62397', 'show', '2016-07-22T00:57:49Z', '', '68.231.213.182']\n",
      "['104500', 'https://canvas.eee.uci.edu/courses/2230', 'show', '2016-07-22T00:57:44Z', '', '68.231.213.182']\n",
      "['104500', 'https://canvas.eee.uci.edu/courses/2230/files/748131?module_item_id=62444', 'show', '2016-07-21T22:32:42Z', '15.0', '68.231.213.182']\n",
      "['104500', 'https://canvas.eee.uci.edu/courses/2230', 'show', '2016-07-21T22:32:22Z', '', '68.231.213.182']\n",
      "['104500', 'https://canvas.eee.uci.edu/courses/2230/pages/week-4-daily-lectures?module_item_id=62440', 'show', '2016-07-21T22:07:20Z', '13.0', '68.231.213.182']\n",
      "['104500', 'https://canvas.eee.uci.edu/courses/2230', 'show', '2016-07-21T22:07:01Z', '', '68.231.213.182']\n",
      "['104500', 'https://canvas.eee.uci.edu/courses/2230/assignments/49373?module_item_id=62433', 'show', '2016-07-21T04:17:59Z', '', '68.231.213.182']\n",
      "['104500', 'https://canvas.eee.uci.edu/courses/2230', 'show', '2016-07-21T04:17:48Z', '', '68.231.213.182']\n",
      "['104500', 'https://canvas.eee.uci.edu/courses/2230/assignments/49376', 'show', '2016-07-21T04:11:28Z', '', '68.231.213.182']\n",
      "['104500', 'https://canvas.eee.uci.edu/courses/2230/assignments/49376/submissions', 'create', '2016-07-21T04:11:28Z', '', '68.231.213.182']\n",
      "['104500', 'https://canvas.eee.uci.edu/courses/2230/assignments/49375/submissions/11512?preview=1&rand=272760', 'show', '2016-07-21T04:11:11Z', '', '68.231.213.182']\n",
      "['104500', 'https://canvas.eee.uci.edu/courses/2230/assignments/49375/submissions/11512', 'show', '2016-07-21T04:11:10Z', '', '68.231.213.182']\n",
      "['104500', 'https://canvas.eee.uci.edu/courses/2230', 'show', '2016-07-21T04:11:02Z', '', '68.231.213.182']\n",
      "['104500', 'https://canvas.eee.uci.edu/courses/2230/files/748154/download?wrap=1', 'show', '2016-07-21T03:42:20Z', '', '68.231.213.182']\n",
      "['104500', 'https://canvas.eee.uci.edu/courses/2230/assignments/49376', 'show', '2016-07-21T03:42:11Z', '', '68.231.213.182']\n",
      "['104500', 'https://canvas.eee.uci.edu/courses/2230', 'show', '2016-07-21T03:19:19Z', '11.0', '68.231.213.182']\n",
      "['104500', 'https://canvas.eee.uci.edu/courses/2230/pages/week-5-daily-lectures?module_item_id=62449', 'show', '2016-07-21T02:21:04Z', '', '68.231.213.182']\n",
      "['104500', 'https://canvas.eee.uci.edu/courses/2230/pages/week-5-daily-lectures?module_item_id=62449', 'show', '2016-07-20T23:34:05Z', '11.0', '70.187.187.85']\n",
      "['104500', 'https://canvas.eee.uci.edu/courses/2230', 'show', '2016-07-20T23:33:58Z', '', '70.187.187.85']\n",
      "['104500', 'https://canvas.eee.uci.edu/courses/2230/assignments/49372?module_item_id=62432', 'show', '2016-07-20T23:02:08Z', '', '70.187.187.85']\n",
      "['104500', 'https://canvas.eee.uci.edu/courses/2230', 'show', '2016-07-20T23:01:51Z', '', '70.187.187.85']\n",
      "['104500', 'https://canvas.eee.uci.edu/courses/2230/pages/week-5-daily-lectures?module_item_id=62449', 'show', '2016-07-20T05:19:34Z', '', '70.187.187.85']\n",
      "['104500', 'https://canvas.eee.uci.edu/courses/2230', 'show', '2016-07-20T05:19:26Z', '', '70.187.187.85']\n",
      "['104500', 'https://canvas.eee.uci.edu/courses/2230/files/748121?module_item_id=62435', 'show', '2016-07-19T18:03:09Z', '18.0', '70.187.187.85']\n",
      "['104500', 'https://canvas.eee.uci.edu/courses/2230', 'show', '2016-07-19T18:03:01Z', '', '70.187.187.85']\n",
      "['104500', 'https://canvas.eee.uci.edu/courses/2230/pages/reading-schedule?module_item_id=62397', 'show', '2016-07-19T18:02:03Z', '14.0', '70.187.187.85']\n",
      "['104500', 'https://canvas.eee.uci.edu/courses/2230', 'show', '2016-07-19T18:01:57Z', '', '70.187.187.85']\n",
      "['104500', 'https://canvas.eee.uci.edu/courses/2230/files/748121?module_item_id=62435', 'show', '2016-07-19T17:12:01Z', '', '70.187.187.85']\n",
      "['104500', 'https://canvas.eee.uci.edu/courses/2230', 'show', '2016-07-19T17:11:53Z', '', '70.187.187.85']\n",
      "['104500', 'https://canvas.eee.uci.edu/courses/2230/files/748099?module_item_id=62426', 'show', '2016-07-19T17:11:42Z', '', '70.187.187.85']\n",
      "['104500', 'https://canvas.eee.uci.edu/courses/2230', 'show', '2016-07-19T17:11:26Z', '', '70.187.187.85']\n",
      "['104500', 'https://canvas.eee.uci.edu/courses/2230/assignments/49371/submissions/11512?preview=1&rand=370241', 'show', '2016-07-19T06:17:53Z', '', '70.187.187.85']\n",
      "['104500', 'https://canvas.eee.uci.edu/courses/2230/assignments/49371/submissions/11512', 'show', '2016-07-19T06:17:52Z', '', '70.187.187.85']\n",
      "['104500', 'https://canvas.eee.uci.edu/courses/2230', 'show', '2016-07-19T06:17:45Z', '', '70.187.187.85']\n",
      "['104500', 'https://canvas.eee.uci.edu/courses/2230/files/748105?module_item_id=62429', 'show', '2016-07-19T06:16:48Z', '', '70.187.187.85']\n",
      "['104500', 'https://canvas.eee.uci.edu/courses/2230', 'show', '2016-07-19T06:16:41Z', '', '70.187.187.85']\n",
      "['104500', 'https://canvas.eee.uci.edu/courses/2230/pages/reading-schedule?module_item_id=62397', 'show', '2016-07-19T05:07:59Z', '', '70.187.187.85']\n",
      "['104500', 'https://canvas.eee.uci.edu/courses/2230', 'show', '2016-07-19T05:07:55Z', '', '70.187.187.85']\n",
      "['104500', 'https://canvas.eee.uci.edu/courses/2230/pages/week-5-daily-lectures?module_item_id=62449', 'show', '2016-07-19T04:15:30Z', '', '70.187.187.85']\n",
      "['104500', 'https://canvas.eee.uci.edu/courses/2230', 'show', '2016-07-19T04:15:20Z', '', '70.187.187.85']\n",
      "['104500', 'https://canvas.eee.uci.edu/courses/2230/files/748107/download?wrap=1', 'show', '2016-07-18T23:03:32Z', '', '70.187.187.85']\n",
      "['104500', 'https://canvas.eee.uci.edu/courses/2230/assignments/49371?module_item_id=62424', 'show', '2016-07-18T23:03:23Z', '', '70.187.187.85']\n",
      "['104500', 'https://canvas.eee.uci.edu/courses/2230', 'show', '2016-07-18T23:03:19Z', '', '70.187.187.85']\n",
      "['104500', 'https://canvas.eee.uci.edu/courses/2230/files/748105?module_item_id=62429', 'show', '2016-07-18T23:03:16Z', '', '70.187.187.85']\n",
      "['104500', 'https://canvas.eee.uci.edu/courses/2230', 'show', '2016-07-18T23:02:29Z', '', '70.187.187.85']\n",
      "['104500', 'https://canvas.eee.uci.edu/courses/2230/files/748108?module_item_id=62428', 'show', '2016-07-18T22:10:17Z', '12.0', '70.187.187.85']\n",
      "['104500', 'https://canvas.eee.uci.edu/courses/2230', 'show', '2016-07-18T22:10:09Z', '', '70.187.187.85']\n",
      "['104500', 'https://canvas.eee.uci.edu/courses/2230/assignments/49370?module_item_id=62423', 'show', '2016-07-18T21:49:54Z', '16.0', '70.187.187.85']\n",
      "['104500', 'https://canvas.eee.uci.edu/courses/2230', 'show', '2016-07-18T21:49:33Z', '', '70.187.187.85']\n",
      "['104500', 'https://canvas.eee.uci.edu/courses/2230/pages/reading-schedule?module_item_id=62397', 'show', '2016-07-18T17:18:35Z', '22.0', '70.187.187.85']\n",
      "['104500', 'https://canvas.eee.uci.edu/courses/2230/files/748099?module_item_id=62426', 'show', '2016-07-18T17:18:01Z', '21.0', '70.187.187.85']\n",
      "['104500', 'https://canvas.eee.uci.edu/courses/2230', 'show', '2016-07-18T03:58:00Z', '', '70.187.187.85']\n",
      "['104500', 'https://canvas.eee.uci.edu/courses/2230/files/748134?module_item_id=62436', 'show', '2016-07-18T03:57:03Z', '', '70.187.187.85']\n",
      "['104500', 'https://canvas.eee.uci.edu/courses/2230', 'show', '2016-07-18T03:56:58Z', '', '70.187.187.85']\n",
      "['104500', 'https://canvas.eee.uci.edu/courses/2230/files/748159?module_item_id=62427', 'show', '2016-07-18T03:56:27Z', '', '70.187.187.85']\n",
      "['104500', 'https://canvas.eee.uci.edu/courses/2230', 'show', '2016-07-18T03:56:19Z', '', '70.187.187.85']\n",
      "['104500', 'https://canvas.eee.uci.edu/courses/2230', 'show', '2016-07-18T02:48:02Z', '12.0', '70.187.187.85']\n",
      "['104500', 'https://canvas.eee.uci.edu/courses/2230/assignments/49375', 'show', '2016-07-18T02:14:00Z', '', '70.187.187.85']\n",
      "['104500', 'https://canvas.eee.uci.edu/courses/2230/assignments/49375/submissions', 'create', '2016-07-18T02:14:00Z', '', '70.187.187.85']\n",
      "['104500', 'https://canvas.eee.uci.edu/courses/2230/assignments/49375', 'show', '2016-07-18T02:11:37Z', '', '70.187.187.85']\n",
      "['104500', 'https://canvas.eee.uci.edu/courses/2230', 'show', '2016-07-18T02:09:10Z', '', '70.187.187.85']\n",
      "['104500', 'https://canvas.eee.uci.edu/courses/2230/assignments/49371/submissions/11512?preview=1&rand=273613', 'show', '2016-07-18T02:09:05Z', '', '70.187.187.85']\n",
      "['104500', 'https://canvas.eee.uci.edu/courses/2230/assignments/49371/submissions/11512', 'show', '2016-07-18T02:09:04Z', '', '70.187.187.85']\n",
      "['104500', 'https://canvas.eee.uci.edu/courses/2230', 'show', '2016-07-18T02:08:39Z', '', '70.187.187.85']\n",
      "['104500', 'https://canvas.eee.uci.edu/courses/2230/assignments/49372/submissions/11512?preview=1&rand=433531', 'show', '2016-07-18T02:08:25Z', '', '70.187.187.85']\n",
      "['104500', 'https://canvas.eee.uci.edu/courses/2230/assignments/49372/submissions/11512', 'show', '2016-07-18T02:08:24Z', '', '70.187.187.85']\n",
      "['104500', 'https://canvas.eee.uci.edu/courses/2230', 'show', '2016-07-18T02:07:59Z', '', '70.187.187.85']\n",
      "['104500', 'https://canvas.eee.uci.edu/courses/2230/assignments/49373/submissions/11512?preview=1&rand=363004', 'show', '2016-07-18T02:07:58Z', '', '70.187.187.85']\n",
      "['104500', 'https://canvas.eee.uci.edu/courses/2230/assignments/49373/submissions/11512', 'show', '2016-07-18T02:07:56Z', '', '70.187.187.85']\n",
      "['104500', 'https://canvas.eee.uci.edu/courses/2230', 'show', '2016-07-18T02:07:46Z', '', '70.187.187.85']\n",
      "['104500', 'https://canvas.eee.uci.edu/courses/2230/files/748111/download?wrap=1', 'show', '2016-07-18T00:24:24Z', '', '70.187.187.85']\n",
      "['104500', 'https://canvas.eee.uci.edu/courses/2230/assignments/49375', 'show', '2016-07-18T00:23:46Z', '', '70.187.187.85']\n",
      "['104500', 'https://canvas.eee.uci.edu/courses/2230', 'show', '2016-07-18T00:16:12Z', '', '70.187.187.85']\n",
      "['104500', 'https://canvas.eee.uci.edu/courses/2230/files/748104?module_item_id=62420', 'show', '2016-07-17T21:09:56Z', '13.0', '70.187.187.85']\n",
      "['104500', 'https://canvas.eee.uci.edu/courses/2230', 'show', '2016-07-17T21:09:50Z', '', '70.187.187.85']\n",
      "['104500', 'https://canvas.eee.uci.edu/courses/2230/files/748068/download?wrap=1', 'show', '2016-07-17T20:57:25Z', '', '70.187.187.85']\n",
      "['104500', 'https://canvas.eee.uci.edu/courses/2230/assignments/49369?module_item_id=62415', 'show', '2016-07-17T20:57:19Z', '11.0', '70.187.187.85']\n",
      "['104500', 'https://canvas.eee.uci.edu/courses/2230', 'show', '2016-07-17T20:57:16Z', '', '70.187.187.85']\n",
      "['104500', 'https://canvas.eee.uci.edu/courses/2230/files/748012/download?wrap=1', 'show', '2016-07-17T20:56:47Z', '', '70.187.187.85']\n",
      "['104500', 'https://canvas.eee.uci.edu/courses/2230/assignments/49368?module_item_id=62414', 'show', '2016-07-17T20:56:38Z', '', '70.187.187.85']\n",
      "['104500', 'https://canvas.eee.uci.edu/courses/2230', 'show', '2016-07-17T20:56:30Z', '', '70.187.187.85']\n",
      "['104500', 'https://canvas.eee.uci.edu/courses/2230/pages/reading-schedule?module_item_id=62397', 'show', '2016-07-17T05:36:12Z', '', '70.187.187.85']\n",
      "['104500', 'https://canvas.eee.uci.edu/courses/2230', 'show', '2016-07-17T05:36:06Z', '', '70.187.187.85']\n",
      "['104500', 'https://canvas.eee.uci.edu/courses/2230/files/742190?module_item_id=62039', 'show', '2016-07-17T05:35:52Z', '', '70.187.187.85']\n",
      "['104500', 'https://canvas.eee.uci.edu/courses/2230', 'show', '2016-07-17T05:35:47Z', '', '70.187.187.85']\n",
      "['104500', 'https://canvas.eee.uci.edu/courses/2230/files/748014?module_item_id=62417', 'show', '2016-07-17T04:28:37Z', '19.0', '70.187.187.85']\n",
      "['104500', 'https://canvas.eee.uci.edu/courses/2230/discussion_topics/27490', 'show', '2016-07-17T04:27:49Z', '', '70.187.187.85']\n",
      "['104500', 'https://canvas.eee.uci.edu/courses/2230/announcements', 'index', '2016-07-17T04:27:04Z', '', '70.187.187.85']\n",
      "['104500', 'https://canvas.eee.uci.edu/courses/2230', 'show', '2016-07-17T04:25:23Z', '', '70.187.187.85']\n",
      "['104500', 'https://canvas.eee.uci.edu/courses/2230/pages/week-1-daily-lectures?module_item_id=62413', 'show', '2016-07-17T04:24:37Z', '', '70.187.187.85']\n",
      "['104500', 'https://canvas.eee.uci.edu/courses/2230', 'show', '2016-07-17T04:24:21Z', '', '70.187.187.85']\n",
      "['104500', 'https://canvas.eee.uci.edu/courses/2230/files/747534/download?wrap=1', 'show', '2016-07-17T04:23:54Z', '', '70.187.187.85']\n",
      "['104500', 'https://canvas.eee.uci.edu/courses/2230/pages/list-of-important-concepts?module_item_id=62386', 'show', '2016-07-17T04:23:40Z', '', '70.187.187.85']\n",
      "['104500', 'https://canvas.eee.uci.edu/courses/2230', 'show', '2016-07-17T04:23:33Z', '', '70.187.187.85']\n",
      "['104500', 'https://canvas.eee.uci.edu/courses/2230/pages/reading-schedule?module_item_id=62397', 'show', '2016-07-17T04:23:22Z', '', '70.187.187.85']\n",
      "['104500', 'https://canvas.eee.uci.edu/courses/2230', 'show', '2016-07-17T04:23:17Z', '', '70.187.187.85']\n",
      "['104500', 'https://canvas.eee.uci.edu/courses/2230/files/742190?module_item_id=62039', 'show', '2016-07-17T04:22:47Z', '', '70.187.187.85']\n",
      "['104500', 'https://canvas.eee.uci.edu/courses/2230', 'show', '2016-07-17T04:22:17Z', '', '70.187.187.85']\n",
      "['104500', 'https://canvas.eee.uci.edu/courses/2230', 'show', '2016-07-17T04:21:59Z', '14.0', '70.187.187.85']\n",
      "['104500', 'https://canvas.eee.uci.edu/courses/2230/files/748014?module_item_id=62417', 'show', '2016-07-17T04:21:32Z', '', '70.187.187.85']\n",
      "['104500', 'https://canvas.eee.uci.edu/courses/2230', 'show', '2016-07-17T04:21:25Z', '', '70.187.187.85']\n",
      "['104500', 'https://canvas.eee.uci.edu/courses/2230/files/748099?module_item_id=62426', 'show', '2016-07-17T04:20:59Z', '', '70.187.187.85']\n",
      "['104500', 'https://canvas.eee.uci.edu/courses/2230', 'show', '2016-07-17T04:20:42Z', '', '70.187.187.85']\n",
      "['104500', 'https://canvas.eee.uci.edu/courses/2230/discussion_topics/27480?module_item_id=62443', 'show', '2016-07-17T04:20:14Z', '', '70.187.187.85']\n",
      "['104500', 'https://canvas.eee.uci.edu/courses/2230', 'show', '2016-07-17T04:20:10Z', '', '70.187.187.85']\n",
      "['104500', 'https://canvas.eee.uci.edu/courses/2230/discussion_topics/27481?module_item_id=62453', 'show', '2016-07-17T04:20:08Z', '', '70.187.187.85']\n",
      "['104500', 'https://canvas.eee.uci.edu/courses/2230', 'show', '2016-07-17T04:20:03Z', '', '70.187.187.85']\n",
      "['104500', 'https://canvas.eee.uci.edu/courses/2230/pages/week-5-daily-lectures?module_item_id=62449', 'show', '2016-07-17T03:49:20Z', '11.0', '70.187.187.85']\n",
      "['104500', 'https://canvas.eee.uci.edu/courses/2230', 'show', '2016-07-17T03:49:14Z', '', '70.187.187.85']\n",
      "['104500', 'https://canvas.eee.uci.edu/courses/2230/pages/week-4-daily-lectures?module_item_id=62440', 'show', '2016-07-17T03:49:05Z', '', '70.187.187.85']\n",
      "['104500', 'https://canvas.eee.uci.edu/courses/2230', 'show', '2016-07-17T03:48:54Z', '', '70.187.187.85']\n",
      "['104500', 'https://canvas.eee.uci.edu/courses/2230/announcements', 'index', '2016-07-16T05:05:24Z', '', '70.187.187.85']\n",
      "['104500', 'https://canvas.eee.uci.edu/courses/2230', 'show', '2016-07-16T05:05:12Z', '', '70.187.187.85']\n",
      "['104500', 'https://canvas.eee.uci.edu/courses/2230/pages/week-4-daily-lectures?module_item_id=62440', 'show', '2016-07-16T05:04:43Z', '', '70.187.187.85']\n",
      "['104500', 'https://canvas.eee.uci.edu/courses/2230', 'show', '2016-07-16T05:04:33Z', '', '70.187.187.85']\n",
      "['104500', 'https://canvas.eee.uci.edu/courses/2230/pages/week-4-daily-lectures?module_item_id=62440', 'show', '2016-07-15T04:35:42Z', '', '70.187.187.85']\n",
      "['104500', 'https://canvas.eee.uci.edu/courses/2230', 'show', '2016-07-15T04:35:36Z', '', '70.187.187.85']\n",
      "['104500', 'https://canvas.eee.uci.edu/courses/2230/pages/week-4-daily-lectures?module_item_id=62440', 'show', '2016-07-15T04:15:54Z', '', '70.187.187.85']\n",
      "['104500', 'https://canvas.eee.uci.edu/courses/2230', 'show', '2016-07-15T04:15:44Z', '', '70.187.187.85']\n",
      "['104500', 'https://canvas.eee.uci.edu/courses/2230/assignments/49374', 'show', '2016-07-15T04:15:35Z', '', '70.187.187.85']\n",
      "['104500', 'https://canvas.eee.uci.edu/courses/2230/assignments/49374', 'show', '2016-07-14T04:42:58Z', '', '70.187.187.85']\n",
      "['104500', 'https://canvas.eee.uci.edu/courses/2230/assignments/49374/submissions', 'create', '2016-07-14T04:42:58Z', '', '70.187.187.85']\n",
      "['104500', 'https://canvas.eee.uci.edu/courses/2230/files/748112/download?wrap=1', 'show', '2016-07-14T03:13:38Z', '', '70.187.187.85']\n",
      "['104500', 'https://canvas.eee.uci.edu/courses/2230/assignments/49374', 'show', '2016-07-14T03:06:40Z', '21.0', '70.187.187.85']\n",
      "['104500', 'https://canvas.eee.uci.edu/courses/2230', 'show', '2016-07-14T03:06:24Z', '', '70.187.187.85']\n",
      "['104500', 'https://canvas.eee.uci.edu/courses/2230/pages/week-4-daily-lectures?module_item_id=62440', 'show', '2016-07-13T03:12:30Z', '', '70.187.187.85']\n",
      "['104500', 'https://canvas.eee.uci.edu/courses/2230', 'show', '2016-07-13T03:12:20Z', '', '70.187.187.85']\n",
      "['104500', 'https://canvas.eee.uci.edu/courses/2230/pages/week-4-daily-lectures?module_item_id=62440', 'show', '2016-07-12T18:40:26Z', '', '70.187.187.85']\n",
      "['104500', 'https://canvas.eee.uci.edu/courses/2230/pages/week-4-daily-lectures?module_item_id=62440', 'show', '2016-07-12T05:12:44Z', '', '70.187.187.85']\n",
      "['104500', 'https://canvas.eee.uci.edu/courses/2230', 'show', '2016-07-12T05:12:40Z', '', '70.187.187.85']\n",
      "['104500', 'https://canvas.eee.uci.edu/courses/2230/pages/week-3-daily-lectures?module_item_id=62431', 'show', '2016-07-12T05:12:38Z', '', '70.187.187.85']\n",
      "['104500', 'https://canvas.eee.uci.edu/courses/2230', 'show', '2016-07-12T05:12:19Z', '', '70.187.187.85']\n",
      "['104500', 'https://canvas.eee.uci.edu/courses/2230/assignments/49373/submissions/11512?download=795783', 'show', '2016-07-11T05:12:24Z', '', '70.187.187.85']\n",
      "['104500', 'https://canvas.eee.uci.edu/courses/2230/assignments/49373/submissions/11512?preview=1&rand=941093', 'show', '2016-07-11T05:12:20Z', '', '70.187.187.85']\n",
      "['104500', 'https://canvas.eee.uci.edu/courses/2230/assignments/49373/submissions/11512', 'show', '2016-07-11T05:12:19Z', '', '70.187.187.85']\n",
      "['104500', 'https://canvas.eee.uci.edu/courses/2230/assignments/49373', 'show', '2016-07-11T05:12:13Z', '', '70.187.187.85']\n",
      "['104500', 'https://canvas.eee.uci.edu/courses/2230/assignments/49373/submissions', 'create', '2016-07-11T05:12:13Z', '', '70.187.187.85']\n",
      "['104500', 'https://canvas.eee.uci.edu/courses/2230/files/748122/download?wrap=1', 'show', '2016-07-11T04:15:34Z', '', '70.187.187.85']\n",
      "['104500', 'https://canvas.eee.uci.edu/courses/2230/assignments/49373', 'show', '2016-07-11T04:15:18Z', '11.0', '70.187.187.85']\n",
      "['104500', 'https://canvas.eee.uci.edu/courses/2230', 'show', '2016-07-11T04:11:00Z', '', '70.187.187.85']\n",
      "['104500', 'https://canvas.eee.uci.edu/courses/2230/pages/week-3-daily-lectures?module_item_id=62431', 'show', '2016-07-08T21:37:49Z', '', '70.187.187.85']\n",
      "['104500', 'https://canvas.eee.uci.edu/courses/2230', 'show', '2016-07-08T17:25:08Z', '', '70.187.187.85']\n",
      "['104500', 'https://canvas.eee.uci.edu/courses/2230/pages/week-3-daily-lectures?module_item_id=62431', 'show', '2016-07-08T01:18:54Z', '', '70.187.187.85']\n",
      "['104500', 'https://canvas.eee.uci.edu/courses/2230', 'show', '2016-07-08T01:18:47Z', '', '70.187.187.85']\n",
      "['104500', 'https://canvas.eee.uci.edu/courses/2230/files/742190?module_item_id=62039', 'show', '2016-07-08T01:08:30Z', '', '70.187.187.85']\n",
      "['104500', 'https://canvas.eee.uci.edu/courses/2230', 'show', '2016-07-08T01:08:19Z', '', '70.187.187.85']\n",
      "['104500', 'https://canvas.eee.uci.edu/courses/2230/assignments/49372', 'show', '2016-07-06T23:40:04Z', '', '70.187.187.85']\n",
      "['104500', 'https://canvas.eee.uci.edu/courses/2230/assignments/49372/submissions', 'create', '2016-07-06T23:40:04Z', '', '70.187.187.85']\n",
      "['104500', 'https://canvas.eee.uci.edu/courses/2230/files/748109/download?wrap=1', 'show', '2016-07-06T22:53:50Z', '', '70.187.187.85']\n",
      "['104500', 'https://canvas.eee.uci.edu/courses/2230/assignments/49372', 'show', '2016-07-06T22:53:45Z', '', '70.187.187.85']\n",
      "['104500', 'https://canvas.eee.uci.edu/courses/2230', 'show', '2016-07-06T22:53:36Z', '', '70.187.187.85']\n",
      "['104500', 'https://canvas.eee.uci.edu/courses/2230/pages/week-3-daily-lectures?module_item_id=62431', 'show', '2016-07-06T22:08:12Z', '', '70.187.187.85']\n",
      "['104500', 'https://canvas.eee.uci.edu/courses/2230', 'show', '2016-07-06T22:07:51Z', '', '70.187.187.85']\n",
      "['104500', 'https://canvas.eee.uci.edu/courses/2230', 'show', '2016-07-06T03:19:13Z', '', '70.187.187.85']\n",
      "['104500', 'https://canvas.eee.uci.edu/courses/2230/pages/week-3-daily-lectures?module_item_id=62431', 'show', '2016-07-06T03:06:38Z', '', '70.187.187.85']\n",
      "['104500', 'https://canvas.eee.uci.edu/courses/2230', 'show', '2016-07-06T03:06:31Z', '', '70.187.187.85']\n",
      "['104500', 'https://canvas.eee.uci.edu/courses/2230/pages/week-3-daily-lectures?module_item_id=62431', 'show', '2016-07-05T01:08:34Z', '', '99.109.146.209']\n",
      "['104500', 'https://canvas.eee.uci.edu/courses/2230/pages/week-3-daily-lectures?module_item_id=62431', 'show', '2016-07-05T00:45:55Z', '', '99.109.146.209']\n",
      "['104500', 'https://canvas.eee.uci.edu/courses/2230', 'show', '2016-07-05T00:45:44Z', '', '99.109.146.209']\n",
      "['104500', 'https://canvas.eee.uci.edu/courses/2230/assignments/49371', 'show', '2016-07-05T00:45:39Z', '', '99.109.146.209']\n",
      "['104500', 'https://ucirvine.instructure.com/courses/2230/assignments/49379', 'show', '2016-07-03T20:14:38Z', '', '23.241.154.49']\n",
      "['104500', 'https://ucirvine.instructure.com/courses/2230/assignments/49370', 'show', '2016-07-03T08:01:48Z', '', '23.241.154.49']\n",
      "['104500', 'https://ucirvine.instructure.com/courses/2230/assignments/49401', 'show', '2016-07-03T08:01:36Z', '', '23.241.154.49']\n",
      "['104500', 'https://ucirvine.instructure.com/courses/2230/assignments/49402', 'show', '2016-07-03T08:01:21Z', '', '23.241.154.49']\n",
      "['104500', 'https://ucirvine.instructure.com/courses/2230/assignments/49379', 'show', '2016-07-03T08:01:02Z', '', '23.241.154.49']\n",
      "['104500', 'https://canvas.eee.uci.edu/courses/2230', 'show', '2016-07-03T08:00:31Z', '', '23.241.154.49']\n",
      "['104500', 'https://canvas.eee.uci.edu/courses/2230/assignments/49371', 'show', '2016-07-03T04:36:18Z', '', '23.241.154.49']\n",
      "['104500', 'https://canvas.eee.uci.edu/courses/2230/assignments/49371/submissions', 'create', '2016-07-03T04:36:17Z', '', '23.241.154.49']\n",
      "['104500', 'https://canvas.eee.uci.edu/courses/2230/assignments/49371', 'show', '2016-07-03T04:34:52Z', '', '23.241.154.49']\n",
      "['104500', 'https://canvas.eee.uci.edu/courses/2230', 'show', '2016-07-03T04:34:44Z', '', '23.241.154.49']\n",
      "['104500', 'https://canvas.eee.uci.edu/courses/2230/pages/week-2-daily-lectures?module_item_id=62422', 'show', '2016-07-03T02:42:18Z', '', '23.241.154.49']\n",
      "['104500', 'https://canvas.eee.uci.edu/courses/2230/pages/week-2-daily-lectures?module_item_id=62422', 'show', '2016-07-03T02:40:09Z', '', '23.241.154.49']\n",
      "['104500', 'https://canvas.eee.uci.edu/courses/2230', 'show', '2016-07-03T02:39:46Z', '', '23.241.154.49']\n",
      "['104500', 'https://canvas.eee.uci.edu/courses/2230', 'show', '2016-07-02T04:41:28Z', '', '70.187.187.85']\n",
      "['104500', 'https://canvas.eee.uci.edu/courses/2230/pages/week-2-daily-lectures?module_item_id=62422', 'show', '2016-07-01T23:16:54Z', '', '70.187.187.85']\n",
      "['104500', 'https://canvas.eee.uci.edu/courses/2230/pages/week-2-daily-lectures?module_item_id=62422', 'show', '2016-07-01T22:26:13Z', '', '70.187.187.85']\n",
      "['104500', 'https://canvas.eee.uci.edu/courses/2230/pages/week-2-daily-lectures?module_item_id=62422', 'show', '2016-07-01T22:22:33Z', '', '70.187.187.85']\n",
      "['104500', 'https://canvas.eee.uci.edu/courses/2230', 'show', '2016-06-30T22:22:03Z', '14.0', '169.234.63.151']\n",
      "['104500', 'https://canvas.eee.uci.edu/courses/2230/pages/week-1-daily-lectures?module_item_id=62413', 'show', '2016-06-30T22:21:40Z', '', '169.234.63.151']\n",
      "['104500', 'https://canvas.eee.uci.edu/courses/2230', 'show', '2016-06-30T22:21:36Z', '', '169.234.63.151']\n",
      "['104500', 'https://canvas.eee.uci.edu/courses/2230/discussion_topics/27477?module_item_id=62416', 'show', '2016-06-30T22:21:33Z', '', '169.234.63.151']\n",
      "['104500', 'https://canvas.eee.uci.edu/courses/2230', 'show', '2016-06-30T22:21:24Z', '', '169.234.63.151']\n",
      "['104500', 'https://canvas.eee.uci.edu/courses/2230/pages/reading-schedule?module_item_id=62397', 'show', '2016-06-30T22:21:18Z', '', '169.234.63.151']\n",
      "['104500', 'https://canvas.eee.uci.edu/courses/2230', 'show', '2016-06-30T22:21:14Z', '', '169.234.63.151']\n",
      "['104500', 'https://canvas.eee.uci.edu/courses/2230/files/747534/download?wrap=1', 'show', '2016-06-30T21:36:27Z', '', '169.234.63.151']\n",
      "['104500', 'https://canvas.eee.uci.edu/courses/2230/pages/list-of-important-concepts?module_item_id=62386', 'show', '2016-06-30T21:26:03Z', '', '169.234.63.151']\n",
      "['104500', 'https://canvas.eee.uci.edu/courses/2230', 'show', '2016-06-30T21:25:45Z', '', '169.234.63.151']\n",
      "['104500', 'https://canvas.eee.uci.edu/courses/2230/pages/week-2-daily-lectures?module_item_id=62422', 'show', '2016-06-30T21:15:09Z', '', '169.234.63.151']\n",
      "['104500', 'https://canvas.eee.uci.edu/courses/2230/pages/week-2-daily-lectures?module_item_id=62422', 'show', '2016-06-30T21:14:48Z', '', '169.234.63.151']\n",
      "['104500', 'https://canvas.eee.uci.edu/courses/2230', 'show', '2016-06-30T21:14:16Z', '', '169.234.63.151']\n",
      "['104500', 'https://canvas.eee.uci.edu/courses/2230', 'show', '2016-06-30T21:13:55Z', '', '169.234.63.151']\n",
      "['104500', 'https://canvas.eee.uci.edu/courses/2230/assignments/49370', 'show', '2016-06-30T04:07:47Z', '', '70.187.187.85']\n",
      "['104500', 'https://canvas.eee.uci.edu/courses/2230', 'show', '2016-06-30T01:02:32Z', '', '70.187.187.85']\n",
      "['104500', 'https://canvas.eee.uci.edu/courses/2230/pages/week-2-daily-lectures?module_item_id=62422', 'show', '2016-06-30T01:01:48Z', '', '70.187.187.85']\n",
      "['104500', 'https://canvas.eee.uci.edu/courses/2230', 'show', '2016-06-29T17:34:55Z', '', '70.187.187.85']\n",
      "['104500', 'https://canvas.eee.uci.edu/courses/2230/assignments', 'index', '2016-06-29T17:34:55Z', '', '70.187.187.85']\n",
      "['104500', 'https://canvas.eee.uci.edu/courses/2230/assignments/49369', 'show', '2016-06-29T17:34:46Z', '', '70.187.187.85']\n",
      "['104500', 'https://canvas.eee.uci.edu/courses/2230/assignments/49369', 'show', '2016-06-29T05:17:58Z', '', '70.187.187.85']\n",
      "['104500', 'https://canvas.eee.uci.edu/courses/2230/assignments/49369/submissions', 'create', '2016-06-29T05:17:58Z', '', '70.187.187.85']\n",
      "['104500', 'https://canvas.eee.uci.edu/courses/2230/files/748068/download?wrap=1', 'show', '2016-06-29T04:40:58Z', '', '70.187.187.85']\n",
      "['104500', 'https://canvas.eee.uci.edu/courses/2230/assignments/49369', 'show', '2016-06-29T04:40:42Z', '12.0', '70.187.187.85']\n",
      "['104500', 'https://canvas.eee.uci.edu/courses/2230/pages/week-2-daily-lectures?module_item_id=62422', 'show', '2016-06-29T02:53:43Z', '', '70.187.187.85']\n",
      "['104500', 'https://canvas.eee.uci.edu/courses/2230', 'show', '2016-06-29T01:39:45Z', '', '70.187.187.85']\n",
      "['104500', 'https://canvas.eee.uci.edu/courses/2230/files/748110/download?wrap=1', 'show', '2016-06-29T01:39:03Z', '', '70.187.187.85']\n",
      "['104500', 'https://canvas.eee.uci.edu/courses/2230/assignments/49370', 'show', '2016-06-29T01:38:48Z', '', '70.187.187.85']\n",
      "['104500', 'https://canvas.eee.uci.edu/courses/2230', 'show', '2016-06-29T01:38:01Z', '', '70.187.187.85']\n",
      "['104500', 'https://canvas.eee.uci.edu/courses/2230/pages/week-2-daily-lectures?module_item_id=62422', 'show', '2016-06-28T03:49:42Z', '', '70.187.187.85']\n",
      "['104500', 'https://canvas.eee.uci.edu/courses/2230', 'show', '2016-06-28T03:49:34Z', '', '70.187.187.85']\n",
      "['104500', 'https://canvas.eee.uci.edu/courses/2230/pages', 'index', '2016-06-28T03:49:34Z', '', '70.187.187.85']\n",
      "['104500', 'https://canvas.eee.uci.edu/courses/2230/pages/week-1-daily-lectures?module_item_id=62413', 'show', '2016-06-28T03:49:29Z', '', '70.187.187.85']\n",
      "['104500', 'https://canvas.eee.uci.edu/courses/2230/pages/week-1-daily-lectures?module_item_id=62413', 'show', '2016-06-28T03:49:19Z', '', '70.187.187.85']\n",
      "['104500', 'https://canvas.eee.uci.edu/courses/2230', 'show', '2016-06-28T03:49:10Z', '', '70.187.187.85']\n",
      "['104500', 'https://canvas.eee.uci.edu/courses/2230/files/742190/download?download_frd=1', 'show', '2016-06-28T03:02:35Z', '', '184.189.203.244']\n",
      "['104500', 'https://canvas.eee.uci.edu/courses/2230/files/742190?module_item_id=62039', 'show', '2016-06-28T03:02:28Z', '', '184.189.203.244']\n",
      "['104500', 'https://canvas.eee.uci.edu/courses/2230', 'show', '2016-06-28T03:02:17Z', '', '184.189.203.244']\n",
      "['104500', 'https://canvas.eee.uci.edu/courses/2230/assignments/49368', 'show', '2016-06-27T17:48:41Z', '', '70.187.187.85']\n",
      "['104500', 'https://canvas.eee.uci.edu/courses/2230/assignments/49368', 'show', '2016-06-27T03:54:50Z', '', '70.187.187.85']\n",
      "['104500', 'https://canvas.eee.uci.edu/courses/2230', 'show', '2016-06-26T20:46:01Z', '', '70.187.187.85']\n",
      "['104500', 'https://canvas.eee.uci.edu/courses/2230/files/748012/download?wrap=1', 'show', '2016-06-26T17:56:49Z', '', '70.187.187.85']\n",
      "['104500', 'https://canvas.eee.uci.edu/courses/2230/assignments/49368', 'show', '2016-06-26T06:36:51Z', '19.0', '70.187.187.85']\n",
      "['104500', 'https://canvas.eee.uci.edu/courses/2230', 'show', '2016-06-26T06:36:41Z', '', '70.187.187.85']\n",
      "['104500', 'https://canvas.eee.uci.edu/courses/2230/pages/week-1-daily-lectures?module_item_id=62413', 'show', '2016-06-25T04:41:05Z', '', '70.187.187.85']\n",
      "['104500', 'https://canvas.eee.uci.edu/courses/2230/pages/week-1-daily-lectures?module_item_id=62413', 'show', '2016-06-25T03:45:55Z', '', '70.187.187.85']\n",
      "['104500', 'https://canvas.eee.uci.edu/courses/2230/pages/week-1-daily-lectures?module_item_id=62413', 'show', '2016-06-25T02:56:17Z', '', '70.187.187.85']\n",
      "['104500', 'https://canvas.eee.uci.edu/courses/2230/pages/week-1-daily-lectures?module_item_id=62413', 'show', '2016-06-25T00:07:26Z', '', '70.187.187.85']\n",
      "['104500', 'https://canvas.eee.uci.edu/courses/2230', 'show', '2016-06-24T01:28:34Z', '', '70.187.187.85']\n",
      "['104500', 'https://canvas.eee.uci.edu/courses/2230/files/742190?module_item_id=62039', 'show', '2016-06-24T01:27:41Z', '', '70.187.187.85']\n",
      "['104500', 'https://canvas.eee.uci.edu/courses/2230', 'show', '2016-06-24T01:27:31Z', '', '70.187.187.85']\n",
      "['104500', 'https://canvas.eee.uci.edu/courses/2230/pages/week-1-daily-lectures?module_item_id=62413', 'show', '2016-06-24T00:40:13Z', '', '70.187.187.85']\n",
      "['104500', 'https://canvas.eee.uci.edu/courses/2230', 'show', '2016-06-24T00:39:57Z', '', '70.187.187.85']\n",
      "['104500', 'https://canvas.eee.uci.edu/courses/2230/files/742190/download?download_frd=1', 'show', '2016-06-24T00:39:21Z', '', '70.187.187.85']\n",
      "['104500', 'https://canvas.eee.uci.edu/courses/2230/files/742190?module_item_id=62039', 'show', '2016-06-24T00:39:19Z', '', '70.187.187.85']\n",
      "['104500', 'https://canvas.eee.uci.edu/courses/2230', 'show', '2016-06-24T00:39:15Z', '', '70.187.187.85']\n",
      "['104500', 'https://canvas.eee.uci.edu/courses/2230/announcements', 'index', '2016-06-24T00:39:10Z', '', '70.187.187.85']\n",
      "['104500', 'https://canvas.eee.uci.edu/courses/2230/pages/week-1-daily-lectures?module_item_id=62413', 'show', '2016-06-24T00:38:05Z', '', '70.187.187.85']\n",
      "['104500', 'https://canvas.eee.uci.edu/courses/2230', 'show', '2016-06-24T00:38:00Z', '', '70.187.187.85']\n",
      "['104500', 'https://canvas.eee.uci.edu/courses/2230/pages/reading-schedule?module_item_id=62397', 'show', '2016-06-23T00:09:15Z', '25.0', '70.187.187.85']\n",
      "['104500', 'https://canvas.eee.uci.edu/courses/2230', 'show', '2016-06-23T00:09:05Z', '', '70.187.187.85']\n",
      "['104500', 'https://canvas.eee.uci.edu/courses/2230/pages/week-1-daily-lectures?module_item_id=62413', 'show', '2016-06-22T23:01:53Z', '12.0', '70.187.187.85']\n",
      "['104500', 'https://canvas.eee.uci.edu/courses/2230', 'show', '2016-06-22T23:01:47Z', '', '70.187.187.85']\n",
      "['104500', 'https://canvas.eee.uci.edu/courses/2230/pages/reading-schedule?module_item_id=62397', 'show', '2016-06-22T05:40:48Z', '13.0', '70.187.187.85']\n",
      "['104500', 'https://canvas.eee.uci.edu/courses/2230', 'show', '2016-06-22T05:40:45Z', '', '70.187.187.85']\n",
      "['104500', 'https://canvas.eee.uci.edu/courses/2230/pages/5-box-solution-format?module_item_id=62400', 'show', '2016-06-22T05:40:41Z', '', '70.187.187.85']\n",
      "['104500', 'https://canvas.eee.uci.edu/courses/2230', 'show', '2016-06-22T05:40:28Z', '', '70.187.187.85']\n",
      "['104500', 'https://canvas.eee.uci.edu/courses/2230/users', 'roster', '2016-06-22T05:40:15Z', '', '70.187.187.85']\n",
      "['104500', 'https://canvas.eee.uci.edu/courses/2230/discussion_topics', 'index', '2016-06-22T05:40:14Z', '', '70.187.187.85']\n",
      "['104500', 'https://canvas.eee.uci.edu/courses/2230', 'show', '2016-06-22T05:40:05Z', '', '70.187.187.85']\n",
      "['104500', 'https://canvas.eee.uci.edu/courses/2230/discussion_topics/27498', 'show', '2016-06-22T05:40:01Z', '', '70.187.187.85']\n",
      "['104500', 'https://canvas.eee.uci.edu/courses/2230/discussion_topics', 'index', '2016-06-22T05:39:51Z', '', '70.187.187.85']\n",
      "['104500', 'https://canvas.eee.uci.edu/courses/2230/announcements', 'index', '2016-06-22T05:39:42Z', '', '70.187.187.85']\n",
      "['104500', 'https://canvas.eee.uci.edu/courses/2230/pages/week-1-daily-lectures?module_item_id=62413', 'show', '2016-06-22T05:39:08Z', '', '70.187.187.85']\n",
      "['104500', 'https://canvas.eee.uci.edu/courses/2230', 'show', '2016-06-22T05:38:52Z', '', '70.187.187.85']\n",
      "['104500', 'https://canvas.eee.uci.edu/courses/2230/discussion_topics/27477?module_item_id=62416', 'show', '2016-06-22T05:38:47Z', '', '70.187.187.85']\n",
      "['104500', 'https://canvas.eee.uci.edu/courses/2230/files/742190/download?download_frd=1', 'show', '2016-06-22T05:25:11Z', '', '70.187.187.85']\n",
      "['104500', 'https://canvas.eee.uci.edu/courses/2230/files/742190?module_item_id=62039', 'show', '2016-06-22T05:25:08Z', '12.0', '70.187.187.85']\n",
      "['104500', 'https://canvas.eee.uci.edu/courses/2230', 'show', '2016-06-22T05:24:57Z', '13.0', '70.187.187.85']\n",
      "['104500', 'https://canvas.eee.uci.edu/courses/2230/pages/week-1-daily-lectures?module_item_id=62413', 'show', '2016-06-22T05:09:47Z', '11.0', '70.187.187.85']\n",
      "['104500', 'https://canvas.eee.uci.edu/courses/2230', 'show', '2016-06-22T05:09:36Z', '', '70.187.187.85']\n",
      "['104500', 'https://canvas.eee.uci.edu/courses/2230/assignments/49403?module_item_id=62408', 'show', '2016-06-22T05:09:29Z', '', '70.187.187.85']\n",
      "['104500', 'https://canvas.eee.uci.edu/courses/2230', 'show', '2016-06-22T05:08:17Z', '', '70.187.187.85']\n",
      "['104500', 'https://canvas.eee.uci.edu/courses/2230/files/742190/download?download_frd=1', 'show', '2016-06-22T05:07:15Z', '', '70.187.187.85']\n",
      "['104500', 'https://canvas.eee.uci.edu/courses/2230/files/742190?module_item_id=62039', 'show', '2016-06-22T05:07:13Z', '', '70.187.187.85']\n",
      "['104500', 'https://canvas.eee.uci.edu/courses/2230', 'show', '2016-06-22T05:07:04Z', '', '70.187.187.85']\n",
      "['104500', 'https://canvas.eee.uci.edu/courses/2230/files/748073/download?wrap=1', 'show', '2016-06-20T19:06:58Z', '', '70.187.187.85']\n",
      "['104500', 'https://canvas.eee.uci.edu/courses/2230/files/748073/download?wrap=1', 'show', '2016-06-20T17:50:44Z', '', '70.187.187.85']\n",
      "['104500', 'https://canvas.eee.uci.edu/courses/2230/discussion_topics/27494', 'show', '2016-06-20T17:50:25Z', '13.0', '70.187.187.85']\n",
      "['104500', 'https://canvas.eee.uci.edu/courses/2230/announcements', 'index', '2016-06-20T17:50:20Z', '', '70.187.187.85']\n",
      "['104500', 'https://canvas.eee.uci.edu/courses/2230/announcements', 'index', '2016-06-20T17:50:02Z', '', '70.187.187.85']\n",
      "['104500', 'https://canvas.eee.uci.edu/courses/2230/pages/week-1-daily-lectures?module_item_id=62413', 'show', '2016-06-20T04:18:57Z', '', '70.187.187.85']\n",
      "['104500', 'https://canvas.eee.uci.edu/courses/2230', 'show', '2016-06-20T04:18:07Z', '33.0', '70.187.187.85']\n"
     ]
    }
   ],
   "source": [
    "# csv_file = './deidentified_data/104500.csv'\n",
    "\n",
    "deidentified_data_dir = './deidentified_data'\n",
    "csv_file = os.path.join(deidentified_data_dir, '104500.csv')  \n",
    "\n",
    "# Print out the lines that are being read using a csv reader\n",
    "with open(csv_file, 'r') as f:\n",
    "    reader = csv.reader(f, delimiter=\",\")\n",
    "    for line in reader:\n",
    "        print line"
   ]
  },
  {
   "cell_type": "code",
   "execution_count": 43,
   "metadata": {
    "collapsed": false
   },
   "outputs": [
    {
     "name": "stdout",
     "output_type": "stream",
     "text": [
      "104500 https://canvas.eee.uci.edu/courses/2230/files/742190/download?download_frd=1 2016-08-01T17:29:47Z 70.209.201.77\n",
      "104500 https://canvas.eee.uci.edu/courses/2230/files/742190?module_item_id=62039 2016-08-01T17:29:37Z 70.209.201.77\n",
      "104500 https://canvas.eee.uci.edu/courses/2230/pages/5-box-solution-format?module_item_id=62400 2016-08-01T17:29:25Z 70.209.201.77\n",
      "104500 https://canvas.eee.uci.edu/courses/2230/files/742190?module_item_id=62039 2016-08-01T17:29:02Z 70.209.201.77\n",
      "104500 https://canvas.eee.uci.edu/courses/2230 2016-08-01T17:28:51Z 70.209.201.77\n",
      "104500 https://canvas.eee.uci.edu/courses/2230/files/747534/download?wrap=1 2016-07-27T01:50:13Z 70.209.208.98\n",
      "104500 https://canvas.eee.uci.edu/courses/2230/pages/list-of-important-concepts?module_item_id=62386 2016-07-27T01:50:07Z 70.209.208.98\n",
      "104500 https://canvas.eee.uci.edu/courses/2230 2016-07-27T01:49:56Z 70.209.208.98\n",
      "104500 https://canvas.eee.uci.edu/courses/2230/files/748147?module_item_id=62454 2016-07-27T01:06:27Z 70.187.187.85\n",
      "104500 https://canvas.eee.uci.edu/courses/2230 2016-07-27T01:06:23Z 70.187.187.85\n",
      "104500 https://canvas.eee.uci.edu/courses/2230/files/748131?module_item_id=62444 2016-07-27T01:05:57Z 70.187.187.85\n",
      "104500 https://canvas.eee.uci.edu/courses/2230 2016-07-27T01:05:40Z 70.187.187.85\n",
      "104500 https://canvas.eee.uci.edu/courses/2230/files/748142/download?wrap=1 2016-07-26T21:35:12Z 70.187.187.85\n",
      "104500 https://canvas.eee.uci.edu/courses/2230/files/748132/download?wrap=1 2016-07-26T21:35:11Z 70.187.187.85\n",
      "104500 https://canvas.eee.uci.edu/courses/2230/files/748141/download?wrap=1 2016-07-26T21:27:23Z 70.187.187.85\n",
      "104500 https://canvas.eee.uci.edu/courses/2230/files/748130/download?wrap=1 2016-07-26T21:27:19Z 70.187.187.85\n",
      "104500 https://canvas.eee.uci.edu/courses/2230/files/748132/download?wrap=1 2016-07-26T19:50:06Z 70.187.187.85\n",
      "104500 https://canvas.eee.uci.edu/courses/2230/files/748142/download?wrap=1 2016-07-26T19:49:59Z 70.187.187.85\n",
      "104500 https://canvas.eee.uci.edu/courses/2230/files/748132/download?wrap=1 2016-07-26T19:49:57Z 70.187.187.85\n",
      "104500 https://canvas.eee.uci.edu/courses/2230/files/748162/download?wrap=1 2016-07-26T18:15:14Z 70.187.187.85\n",
      "104500 https://canvas.eee.uci.edu/courses/2230/files/748133/download?wrap=1 2016-07-26T18:15:11Z 70.187.187.85\n",
      "104500 https://canvas.eee.uci.edu/courses/2230/pages/practice-exams?module_item_id=62459 2016-07-26T18:15:03Z 70.187.187.85\n",
      "104500 https://canvas.eee.uci.edu/courses/2230 2016-07-26T18:14:54Z 70.187.187.85\n",
      "104500 https://canvas.eee.uci.edu/courses/2230/files/748057/download?wrap=1 2016-07-26T00:41:04Z 70.187.187.85\n",
      "104500 https://canvas.eee.uci.edu/courses/2230/files/748149/download?wrap=1 2016-07-26T00:40:55Z 70.187.187.85\n",
      "104500 https://canvas.eee.uci.edu/courses/2230/files/748150/download?wrap=1 2016-07-25T00:07:48Z 70.187.187.85\n",
      "104500 https://canvas.eee.uci.edu/courses/2230/files/748140/download?wrap=1 2016-07-25T00:04:39Z 70.187.187.85\n",
      "104500 https://canvas.eee.uci.edu/courses/2230/pages/practice-exams?module_item_id=62459 2016-07-25T00:04:27Z 70.187.187.85\n",
      "104500 https://ucirvine.instructure.com/courses/2230/assignments/49369 2016-07-24T23:06:20Z 70.187.187.85\n",
      "104500 https://canvas.eee.uci.edu/courses/2230 2016-07-24T21:36:07Z 70.187.187.85\n",
      "104500 https://canvas.eee.uci.edu/courses/2230/assignments/49374?module_item_id=62441 2016-07-24T19:05:23Z 70.187.187.85\n",
      "104500 https://canvas.eee.uci.edu/courses/2230 2016-07-24T19:05:13Z 70.187.187.85\n",
      "104500 https://canvas.eee.uci.edu/courses/2230/pages/reading-schedule?module_item_id=62397 2016-07-24T18:35:00Z 70.187.187.85\n",
      "104500 https://canvas.eee.uci.edu/courses/2230 2016-07-24T18:34:41Z 70.187.187.85\n",
      "104500 https://canvas.eee.uci.edu/courses/2230/assignments/49367/submissions 2016-07-24T06:00:44Z 70.187.187.85\n",
      "104500 https://canvas.eee.uci.edu/courses/2230/assignments/49367 2016-07-24T06:00:16Z 70.187.187.85\n",
      "104500 https://canvas.eee.uci.edu/courses/2230/files/748152/download?wrap=1 2016-07-24T05:35:58Z 70.187.187.85\n",
      "104500 https://canvas.eee.uci.edu/courses/2230/assignments/49367 2016-07-24T05:35:50Z 70.187.187.85\n",
      "104500 https://canvas.eee.uci.edu/courses/2230 2016-07-24T05:31:54Z 70.187.187.85\n",
      "104500 https://canvas.eee.uci.edu/courses/2230/pages/week-5-daily-lectures?module_item_id=62449 2016-07-23T04:03:45Z 68.231.213.182\n",
      "104500 https://canvas.eee.uci.edu/courses/2230 2016-07-23T04:03:39Z 68.231.213.182\n",
      "104500 https://canvas.eee.uci.edu/courses/2230/pages/week-5-checklist?module_item_id=62448 2016-07-23T04:03:34Z 68.231.213.182\n",
      "104500 https://canvas.eee.uci.edu/courses/2230/pages/reading-schedule 2016-07-23T02:04:56Z 68.231.213.182\n",
      "104500 https://canvas.eee.uci.edu/courses/2230 2016-07-23T01:55:24Z 68.231.213.182\n",
      "104500 https://canvas.eee.uci.edu/courses/2230/files/747534/download?wrap=1 2016-07-22T18:49:31Z 70.187.187.85\n",
      "104500 https://canvas.eee.uci.edu/courses/2230/pages/list-of-important-concepts?module_item_id=62386 2016-07-22T18:48:49Z 70.187.187.85\n",
      "104500 https://canvas.eee.uci.edu/courses/2230 2016-07-22T18:48:40Z 70.187.187.85\n",
      "104500 https://canvas.eee.uci.edu/courses/2230/pages/week-5-daily-lectures?module_item_id=62449 2016-07-22T04:19:26Z 68.231.213.182\n",
      "104500 https://canvas.eee.uci.edu/courses/2230 2016-07-22T04:19:21Z 68.231.213.182\n",
      "104500 https://canvas.eee.uci.edu/courses/2230/pages/reading-schedule?module_item_id=62397 2016-07-22T00:57:49Z 68.231.213.182\n",
      "104500 https://canvas.eee.uci.edu/courses/2230 2016-07-22T00:57:44Z 68.231.213.182\n",
      "104500 https://canvas.eee.uci.edu/courses/2230/files/748131?module_item_id=62444 2016-07-21T22:32:42Z 68.231.213.182\n",
      "104500 https://canvas.eee.uci.edu/courses/2230 2016-07-21T22:32:22Z 68.231.213.182\n",
      "104500 https://canvas.eee.uci.edu/courses/2230/pages/week-4-daily-lectures?module_item_id=62440 2016-07-21T22:07:20Z 68.231.213.182\n",
      "104500 https://canvas.eee.uci.edu/courses/2230 2016-07-21T22:07:01Z 68.231.213.182\n",
      "104500 https://canvas.eee.uci.edu/courses/2230/assignments/49373?module_item_id=62433 2016-07-21T04:17:59Z 68.231.213.182\n",
      "104500 https://canvas.eee.uci.edu/courses/2230 2016-07-21T04:17:48Z 68.231.213.182\n",
      "104500 https://canvas.eee.uci.edu/courses/2230/assignments/49376 2016-07-21T04:11:28Z 68.231.213.182\n",
      "104500 https://canvas.eee.uci.edu/courses/2230/assignments/49376/submissions 2016-07-21T04:11:28Z 68.231.213.182\n",
      "104500 https://canvas.eee.uci.edu/courses/2230/assignments/49375/submissions/11512?preview=1&rand=272760 2016-07-21T04:11:11Z 68.231.213.182\n",
      "104500 https://canvas.eee.uci.edu/courses/2230/assignments/49375/submissions/11512 2016-07-21T04:11:10Z 68.231.213.182\n",
      "104500 https://canvas.eee.uci.edu/courses/2230 2016-07-21T04:11:02Z 68.231.213.182\n",
      "104500 https://canvas.eee.uci.edu/courses/2230/files/748154/download?wrap=1 2016-07-21T03:42:20Z 68.231.213.182\n",
      "104500 https://canvas.eee.uci.edu/courses/2230/assignments/49376 2016-07-21T03:42:11Z 68.231.213.182\n",
      "104500 https://canvas.eee.uci.edu/courses/2230 2016-07-21T03:19:19Z 68.231.213.182\n",
      "104500 https://canvas.eee.uci.edu/courses/2230/pages/week-5-daily-lectures?module_item_id=62449 2016-07-21T02:21:04Z 68.231.213.182\n",
      "104500 https://canvas.eee.uci.edu/courses/2230/pages/week-5-daily-lectures?module_item_id=62449 2016-07-20T23:34:05Z 70.187.187.85\n",
      "104500 https://canvas.eee.uci.edu/courses/2230 2016-07-20T23:33:58Z 70.187.187.85\n",
      "104500 https://canvas.eee.uci.edu/courses/2230/assignments/49372?module_item_id=62432 2016-07-20T23:02:08Z 70.187.187.85\n",
      "104500 https://canvas.eee.uci.edu/courses/2230 2016-07-20T23:01:51Z 70.187.187.85\n",
      "104500 https://canvas.eee.uci.edu/courses/2230/pages/week-5-daily-lectures?module_item_id=62449 2016-07-20T05:19:34Z 70.187.187.85\n",
      "104500 https://canvas.eee.uci.edu/courses/2230 2016-07-20T05:19:26Z 70.187.187.85\n",
      "104500 https://canvas.eee.uci.edu/courses/2230/files/748121?module_item_id=62435 2016-07-19T18:03:09Z 70.187.187.85\n",
      "104500 https://canvas.eee.uci.edu/courses/2230 2016-07-19T18:03:01Z 70.187.187.85\n",
      "104500 https://canvas.eee.uci.edu/courses/2230/pages/reading-schedule?module_item_id=62397 2016-07-19T18:02:03Z 70.187.187.85\n",
      "104500 https://canvas.eee.uci.edu/courses/2230 2016-07-19T18:01:57Z 70.187.187.85\n",
      "104500 https://canvas.eee.uci.edu/courses/2230/files/748121?module_item_id=62435 2016-07-19T17:12:01Z 70.187.187.85\n",
      "104500 https://canvas.eee.uci.edu/courses/2230 2016-07-19T17:11:53Z 70.187.187.85\n",
      "104500 https://canvas.eee.uci.edu/courses/2230/files/748099?module_item_id=62426 2016-07-19T17:11:42Z 70.187.187.85\n",
      "104500 https://canvas.eee.uci.edu/courses/2230 2016-07-19T17:11:26Z 70.187.187.85\n",
      "104500 https://canvas.eee.uci.edu/courses/2230/assignments/49371/submissions/11512?preview=1&rand=370241 2016-07-19T06:17:53Z 70.187.187.85\n",
      "104500 https://canvas.eee.uci.edu/courses/2230/assignments/49371/submissions/11512 2016-07-19T06:17:52Z 70.187.187.85\n",
      "104500 https://canvas.eee.uci.edu/courses/2230 2016-07-19T06:17:45Z 70.187.187.85\n",
      "104500 https://canvas.eee.uci.edu/courses/2230/files/748105?module_item_id=62429 2016-07-19T06:16:48Z 70.187.187.85\n",
      "104500 https://canvas.eee.uci.edu/courses/2230 2016-07-19T06:16:41Z 70.187.187.85\n",
      "104500 https://canvas.eee.uci.edu/courses/2230/pages/reading-schedule?module_item_id=62397 2016-07-19T05:07:59Z 70.187.187.85\n",
      "104500 https://canvas.eee.uci.edu/courses/2230 2016-07-19T05:07:55Z 70.187.187.85\n",
      "104500 https://canvas.eee.uci.edu/courses/2230/pages/week-5-daily-lectures?module_item_id=62449 2016-07-19T04:15:30Z 70.187.187.85\n",
      "104500 https://canvas.eee.uci.edu/courses/2230 2016-07-19T04:15:20Z 70.187.187.85\n",
      "104500 https://canvas.eee.uci.edu/courses/2230/files/748107/download?wrap=1 2016-07-18T23:03:32Z 70.187.187.85\n",
      "104500 https://canvas.eee.uci.edu/courses/2230/assignments/49371?module_item_id=62424 2016-07-18T23:03:23Z 70.187.187.85\n",
      "104500 https://canvas.eee.uci.edu/courses/2230 2016-07-18T23:03:19Z 70.187.187.85\n",
      "104500 https://canvas.eee.uci.edu/courses/2230/files/748105?module_item_id=62429 2016-07-18T23:03:16Z 70.187.187.85\n",
      "104500 https://canvas.eee.uci.edu/courses/2230 2016-07-18T23:02:29Z 70.187.187.85\n",
      "104500 https://canvas.eee.uci.edu/courses/2230/files/748108?module_item_id=62428 2016-07-18T22:10:17Z 70.187.187.85\n",
      "104500 https://canvas.eee.uci.edu/courses/2230 2016-07-18T22:10:09Z 70.187.187.85\n",
      "104500 https://canvas.eee.uci.edu/courses/2230/assignments/49370?module_item_id=62423 2016-07-18T21:49:54Z 70.187.187.85\n",
      "104500 https://canvas.eee.uci.edu/courses/2230 2016-07-18T21:49:33Z 70.187.187.85\n",
      "104500 https://canvas.eee.uci.edu/courses/2230/pages/reading-schedule?module_item_id=62397 2016-07-18T17:18:35Z 70.187.187.85\n",
      "104500 https://canvas.eee.uci.edu/courses/2230/files/748099?module_item_id=62426 2016-07-18T17:18:01Z 70.187.187.85\n",
      "104500 https://canvas.eee.uci.edu/courses/2230 2016-07-18T03:58:00Z 70.187.187.85\n",
      "104500 https://canvas.eee.uci.edu/courses/2230/files/748134?module_item_id=62436 2016-07-18T03:57:03Z 70.187.187.85\n",
      "104500 https://canvas.eee.uci.edu/courses/2230 2016-07-18T03:56:58Z 70.187.187.85\n",
      "104500 https://canvas.eee.uci.edu/courses/2230/files/748159?module_item_id=62427 2016-07-18T03:56:27Z 70.187.187.85\n",
      "104500 https://canvas.eee.uci.edu/courses/2230 2016-07-18T03:56:19Z 70.187.187.85\n",
      "104500 https://canvas.eee.uci.edu/courses/2230 2016-07-18T02:48:02Z 70.187.187.85\n",
      "104500 https://canvas.eee.uci.edu/courses/2230/assignments/49375 2016-07-18T02:14:00Z 70.187.187.85\n",
      "104500 https://canvas.eee.uci.edu/courses/2230/assignments/49375/submissions 2016-07-18T02:14:00Z 70.187.187.85\n",
      "104500 https://canvas.eee.uci.edu/courses/2230/assignments/49375 2016-07-18T02:11:37Z 70.187.187.85\n",
      "104500 https://canvas.eee.uci.edu/courses/2230 2016-07-18T02:09:10Z 70.187.187.85\n",
      "104500 https://canvas.eee.uci.edu/courses/2230/assignments/49371/submissions/11512?preview=1&rand=273613 2016-07-18T02:09:05Z 70.187.187.85\n",
      "104500 https://canvas.eee.uci.edu/courses/2230/assignments/49371/submissions/11512 2016-07-18T02:09:04Z 70.187.187.85\n",
      "104500 https://canvas.eee.uci.edu/courses/2230 2016-07-18T02:08:39Z 70.187.187.85\n",
      "104500 https://canvas.eee.uci.edu/courses/2230/assignments/49372/submissions/11512?preview=1&rand=433531 2016-07-18T02:08:25Z 70.187.187.85\n",
      "104500 https://canvas.eee.uci.edu/courses/2230/assignments/49372/submissions/11512 2016-07-18T02:08:24Z 70.187.187.85\n",
      "104500 https://canvas.eee.uci.edu/courses/2230 2016-07-18T02:07:59Z 70.187.187.85\n",
      "104500 https://canvas.eee.uci.edu/courses/2230/assignments/49373/submissions/11512?preview=1&rand=363004 2016-07-18T02:07:58Z 70.187.187.85\n",
      "104500 https://canvas.eee.uci.edu/courses/2230/assignments/49373/submissions/11512 2016-07-18T02:07:56Z 70.187.187.85\n",
      "104500 https://canvas.eee.uci.edu/courses/2230 2016-07-18T02:07:46Z 70.187.187.85\n",
      "104500 https://canvas.eee.uci.edu/courses/2230/files/748111/download?wrap=1 2016-07-18T00:24:24Z 70.187.187.85\n",
      "104500 https://canvas.eee.uci.edu/courses/2230/assignments/49375 2016-07-18T00:23:46Z 70.187.187.85\n",
      "104500 https://canvas.eee.uci.edu/courses/2230 2016-07-18T00:16:12Z 70.187.187.85\n",
      "104500 https://canvas.eee.uci.edu/courses/2230/files/748104?module_item_id=62420 2016-07-17T21:09:56Z 70.187.187.85\n",
      "104500 https://canvas.eee.uci.edu/courses/2230 2016-07-17T21:09:50Z 70.187.187.85\n",
      "104500 https://canvas.eee.uci.edu/courses/2230/files/748068/download?wrap=1 2016-07-17T20:57:25Z 70.187.187.85\n",
      "104500 https://canvas.eee.uci.edu/courses/2230/assignments/49369?module_item_id=62415 2016-07-17T20:57:19Z 70.187.187.85\n",
      "104500 https://canvas.eee.uci.edu/courses/2230 2016-07-17T20:57:16Z 70.187.187.85\n",
      "104500 https://canvas.eee.uci.edu/courses/2230/files/748012/download?wrap=1 2016-07-17T20:56:47Z 70.187.187.85\n",
      "104500 https://canvas.eee.uci.edu/courses/2230/assignments/49368?module_item_id=62414 2016-07-17T20:56:38Z 70.187.187.85\n",
      "104500 https://canvas.eee.uci.edu/courses/2230 2016-07-17T20:56:30Z 70.187.187.85\n",
      "104500 https://canvas.eee.uci.edu/courses/2230/pages/reading-schedule?module_item_id=62397 2016-07-17T05:36:12Z 70.187.187.85\n",
      "104500 https://canvas.eee.uci.edu/courses/2230 2016-07-17T05:36:06Z 70.187.187.85\n",
      "104500 https://canvas.eee.uci.edu/courses/2230/files/742190?module_item_id=62039 2016-07-17T05:35:52Z 70.187.187.85\n",
      "104500 https://canvas.eee.uci.edu/courses/2230 2016-07-17T05:35:47Z 70.187.187.85\n",
      "104500 https://canvas.eee.uci.edu/courses/2230/files/748014?module_item_id=62417 2016-07-17T04:28:37Z 70.187.187.85\n",
      "104500 https://canvas.eee.uci.edu/courses/2230/discussion_topics/27490 2016-07-17T04:27:49Z 70.187.187.85\n",
      "104500 https://canvas.eee.uci.edu/courses/2230/announcements 2016-07-17T04:27:04Z 70.187.187.85\n",
      "104500 https://canvas.eee.uci.edu/courses/2230 2016-07-17T04:25:23Z 70.187.187.85\n",
      "104500 https://canvas.eee.uci.edu/courses/2230/pages/week-1-daily-lectures?module_item_id=62413 2016-07-17T04:24:37Z 70.187.187.85\n",
      "104500 https://canvas.eee.uci.edu/courses/2230 2016-07-17T04:24:21Z 70.187.187.85\n",
      "104500 https://canvas.eee.uci.edu/courses/2230/files/747534/download?wrap=1 2016-07-17T04:23:54Z 70.187.187.85\n",
      "104500 https://canvas.eee.uci.edu/courses/2230/pages/list-of-important-concepts?module_item_id=62386 2016-07-17T04:23:40Z 70.187.187.85\n",
      "104500 https://canvas.eee.uci.edu/courses/2230 2016-07-17T04:23:33Z 70.187.187.85\n",
      "104500 https://canvas.eee.uci.edu/courses/2230/pages/reading-schedule?module_item_id=62397 2016-07-17T04:23:22Z 70.187.187.85\n",
      "104500 https://canvas.eee.uci.edu/courses/2230 2016-07-17T04:23:17Z 70.187.187.85\n",
      "104500 https://canvas.eee.uci.edu/courses/2230/files/742190?module_item_id=62039 2016-07-17T04:22:47Z 70.187.187.85\n",
      "104500 https://canvas.eee.uci.edu/courses/2230 2016-07-17T04:22:17Z 70.187.187.85\n",
      "104500 https://canvas.eee.uci.edu/courses/2230 2016-07-17T04:21:59Z 70.187.187.85\n",
      "104500 https://canvas.eee.uci.edu/courses/2230/files/748014?module_item_id=62417 2016-07-17T04:21:32Z 70.187.187.85\n",
      "104500 https://canvas.eee.uci.edu/courses/2230 2016-07-17T04:21:25Z 70.187.187.85\n",
      "104500 https://canvas.eee.uci.edu/courses/2230/files/748099?module_item_id=62426 2016-07-17T04:20:59Z 70.187.187.85\n",
      "104500 https://canvas.eee.uci.edu/courses/2230 2016-07-17T04:20:42Z 70.187.187.85\n",
      "104500 https://canvas.eee.uci.edu/courses/2230/discussion_topics/27480?module_item_id=62443 2016-07-17T04:20:14Z 70.187.187.85\n",
      "104500 https://canvas.eee.uci.edu/courses/2230 2016-07-17T04:20:10Z 70.187.187.85\n",
      "104500 https://canvas.eee.uci.edu/courses/2230/discussion_topics/27481?module_item_id=62453 2016-07-17T04:20:08Z 70.187.187.85\n",
      "104500 https://canvas.eee.uci.edu/courses/2230 2016-07-17T04:20:03Z 70.187.187.85\n",
      "104500 https://canvas.eee.uci.edu/courses/2230/pages/week-5-daily-lectures?module_item_id=62449 2016-07-17T03:49:20Z 70.187.187.85\n",
      "104500 https://canvas.eee.uci.edu/courses/2230 2016-07-17T03:49:14Z 70.187.187.85\n",
      "104500 https://canvas.eee.uci.edu/courses/2230/pages/week-4-daily-lectures?module_item_id=62440 2016-07-17T03:49:05Z 70.187.187.85\n",
      "104500 https://canvas.eee.uci.edu/courses/2230 2016-07-17T03:48:54Z 70.187.187.85\n",
      "104500 https://canvas.eee.uci.edu/courses/2230/announcements 2016-07-16T05:05:24Z 70.187.187.85\n",
      "104500 https://canvas.eee.uci.edu/courses/2230 2016-07-16T05:05:12Z 70.187.187.85\n",
      "104500 https://canvas.eee.uci.edu/courses/2230/pages/week-4-daily-lectures?module_item_id=62440 2016-07-16T05:04:43Z 70.187.187.85\n",
      "104500 https://canvas.eee.uci.edu/courses/2230 2016-07-16T05:04:33Z 70.187.187.85\n",
      "104500 https://canvas.eee.uci.edu/courses/2230/pages/week-4-daily-lectures?module_item_id=62440 2016-07-15T04:35:42Z 70.187.187.85\n",
      "104500 https://canvas.eee.uci.edu/courses/2230 2016-07-15T04:35:36Z 70.187.187.85\n",
      "104500 https://canvas.eee.uci.edu/courses/2230/pages/week-4-daily-lectures?module_item_id=62440 2016-07-15T04:15:54Z 70.187.187.85\n",
      "104500 https://canvas.eee.uci.edu/courses/2230 2016-07-15T04:15:44Z 70.187.187.85\n",
      "104500 https://canvas.eee.uci.edu/courses/2230/assignments/49374 2016-07-15T04:15:35Z 70.187.187.85\n",
      "104500 https://canvas.eee.uci.edu/courses/2230/assignments/49374 2016-07-14T04:42:58Z 70.187.187.85\n",
      "104500 https://canvas.eee.uci.edu/courses/2230/assignments/49374/submissions 2016-07-14T04:42:58Z 70.187.187.85\n",
      "104500 https://canvas.eee.uci.edu/courses/2230/files/748112/download?wrap=1 2016-07-14T03:13:38Z 70.187.187.85\n",
      "104500 https://canvas.eee.uci.edu/courses/2230/assignments/49374 2016-07-14T03:06:40Z 70.187.187.85\n",
      "104500 https://canvas.eee.uci.edu/courses/2230 2016-07-14T03:06:24Z 70.187.187.85\n",
      "104500 https://canvas.eee.uci.edu/courses/2230/pages/week-4-daily-lectures?module_item_id=62440 2016-07-13T03:12:30Z 70.187.187.85\n",
      "104500 https://canvas.eee.uci.edu/courses/2230 2016-07-13T03:12:20Z 70.187.187.85\n",
      "104500 https://canvas.eee.uci.edu/courses/2230/pages/week-4-daily-lectures?module_item_id=62440 2016-07-12T18:40:26Z 70.187.187.85\n",
      "104500 https://canvas.eee.uci.edu/courses/2230/pages/week-4-daily-lectures?module_item_id=62440 2016-07-12T05:12:44Z 70.187.187.85\n",
      "104500 https://canvas.eee.uci.edu/courses/2230 2016-07-12T05:12:40Z 70.187.187.85\n",
      "104500 https://canvas.eee.uci.edu/courses/2230/pages/week-3-daily-lectures?module_item_id=62431 2016-07-12T05:12:38Z 70.187.187.85\n",
      "104500 https://canvas.eee.uci.edu/courses/2230 2016-07-12T05:12:19Z 70.187.187.85\n",
      "104500 https://canvas.eee.uci.edu/courses/2230/assignments/49373/submissions/11512?download=795783 2016-07-11T05:12:24Z 70.187.187.85\n",
      "104500 https://canvas.eee.uci.edu/courses/2230/assignments/49373/submissions/11512?preview=1&rand=941093 2016-07-11T05:12:20Z 70.187.187.85\n",
      "104500 https://canvas.eee.uci.edu/courses/2230/assignments/49373/submissions/11512 2016-07-11T05:12:19Z 70.187.187.85\n",
      "104500 https://canvas.eee.uci.edu/courses/2230/assignments/49373 2016-07-11T05:12:13Z 70.187.187.85\n",
      "104500 https://canvas.eee.uci.edu/courses/2230/assignments/49373/submissions 2016-07-11T05:12:13Z 70.187.187.85\n",
      "104500 https://canvas.eee.uci.edu/courses/2230/files/748122/download?wrap=1 2016-07-11T04:15:34Z 70.187.187.85\n",
      "104500 https://canvas.eee.uci.edu/courses/2230/assignments/49373 2016-07-11T04:15:18Z 70.187.187.85\n",
      "104500 https://canvas.eee.uci.edu/courses/2230 2016-07-11T04:11:00Z 70.187.187.85\n",
      "104500 https://canvas.eee.uci.edu/courses/2230/pages/week-3-daily-lectures?module_item_id=62431 2016-07-08T21:37:49Z 70.187.187.85\n",
      "104500 https://canvas.eee.uci.edu/courses/2230 2016-07-08T17:25:08Z 70.187.187.85\n",
      "104500 https://canvas.eee.uci.edu/courses/2230/pages/week-3-daily-lectures?module_item_id=62431 2016-07-08T01:18:54Z 70.187.187.85\n",
      "104500 https://canvas.eee.uci.edu/courses/2230 2016-07-08T01:18:47Z 70.187.187.85\n",
      "104500 https://canvas.eee.uci.edu/courses/2230/files/742190?module_item_id=62039 2016-07-08T01:08:30Z 70.187.187.85\n",
      "104500 https://canvas.eee.uci.edu/courses/2230 2016-07-08T01:08:19Z 70.187.187.85\n",
      "104500 https://canvas.eee.uci.edu/courses/2230/assignments/49372 2016-07-06T23:40:04Z 70.187.187.85\n",
      "104500 https://canvas.eee.uci.edu/courses/2230/assignments/49372/submissions 2016-07-06T23:40:04Z 70.187.187.85\n",
      "104500 https://canvas.eee.uci.edu/courses/2230/files/748109/download?wrap=1 2016-07-06T22:53:50Z 70.187.187.85\n",
      "104500 https://canvas.eee.uci.edu/courses/2230/assignments/49372 2016-07-06T22:53:45Z 70.187.187.85\n",
      "104500 https://canvas.eee.uci.edu/courses/2230 2016-07-06T22:53:36Z 70.187.187.85\n",
      "104500 https://canvas.eee.uci.edu/courses/2230/pages/week-3-daily-lectures?module_item_id=62431 2016-07-06T22:08:12Z 70.187.187.85\n",
      "104500 https://canvas.eee.uci.edu/courses/2230 2016-07-06T22:07:51Z 70.187.187.85\n",
      "104500 https://canvas.eee.uci.edu/courses/2230 2016-07-06T03:19:13Z 70.187.187.85\n",
      "104500 https://canvas.eee.uci.edu/courses/2230/pages/week-3-daily-lectures?module_item_id=62431 2016-07-06T03:06:38Z 70.187.187.85\n",
      "104500 https://canvas.eee.uci.edu/courses/2230 2016-07-06T03:06:31Z 70.187.187.85\n",
      "104500 https://canvas.eee.uci.edu/courses/2230/pages/week-3-daily-lectures?module_item_id=62431 2016-07-05T01:08:34Z 99.109.146.209\n",
      "104500 https://canvas.eee.uci.edu/courses/2230/pages/week-3-daily-lectures?module_item_id=62431 2016-07-05T00:45:55Z 99.109.146.209\n",
      "104500 https://canvas.eee.uci.edu/courses/2230 2016-07-05T00:45:44Z 99.109.146.209\n",
      "104500 https://canvas.eee.uci.edu/courses/2230/assignments/49371 2016-07-05T00:45:39Z 99.109.146.209\n",
      "104500 https://ucirvine.instructure.com/courses/2230/assignments/49379 2016-07-03T20:14:38Z 23.241.154.49\n",
      "104500 https://ucirvine.instructure.com/courses/2230/assignments/49370 2016-07-03T08:01:48Z 23.241.154.49\n",
      "104500 https://ucirvine.instructure.com/courses/2230/assignments/49401 2016-07-03T08:01:36Z 23.241.154.49\n",
      "104500 https://ucirvine.instructure.com/courses/2230/assignments/49402 2016-07-03T08:01:21Z 23.241.154.49\n",
      "104500 https://ucirvine.instructure.com/courses/2230/assignments/49379 2016-07-03T08:01:02Z 23.241.154.49\n",
      "104500 https://canvas.eee.uci.edu/courses/2230 2016-07-03T08:00:31Z 23.241.154.49\n",
      "104500 https://canvas.eee.uci.edu/courses/2230/assignments/49371 2016-07-03T04:36:18Z 23.241.154.49\n",
      "104500 https://canvas.eee.uci.edu/courses/2230/assignments/49371/submissions 2016-07-03T04:36:17Z 23.241.154.49\n",
      "104500 https://canvas.eee.uci.edu/courses/2230/assignments/49371 2016-07-03T04:34:52Z 23.241.154.49\n",
      "104500 https://canvas.eee.uci.edu/courses/2230 2016-07-03T04:34:44Z 23.241.154.49\n",
      "104500 https://canvas.eee.uci.edu/courses/2230/pages/week-2-daily-lectures?module_item_id=62422 2016-07-03T02:42:18Z 23.241.154.49\n",
      "104500 https://canvas.eee.uci.edu/courses/2230/pages/week-2-daily-lectures?module_item_id=62422 2016-07-03T02:40:09Z 23.241.154.49\n",
      "104500 https://canvas.eee.uci.edu/courses/2230 2016-07-03T02:39:46Z 23.241.154.49\n",
      "104500 https://canvas.eee.uci.edu/courses/2230 2016-07-02T04:41:28Z 70.187.187.85\n",
      "104500 https://canvas.eee.uci.edu/courses/2230/pages/week-2-daily-lectures?module_item_id=62422 2016-07-01T23:16:54Z 70.187.187.85\n",
      "104500 https://canvas.eee.uci.edu/courses/2230/pages/week-2-daily-lectures?module_item_id=62422 2016-07-01T22:26:13Z 70.187.187.85\n",
      "104500 https://canvas.eee.uci.edu/courses/2230/pages/week-2-daily-lectures?module_item_id=62422 2016-07-01T22:22:33Z 70.187.187.85\n",
      "104500 https://canvas.eee.uci.edu/courses/2230 2016-06-30T22:22:03Z 169.234.63.151\n",
      "104500 https://canvas.eee.uci.edu/courses/2230/pages/week-1-daily-lectures?module_item_id=62413 2016-06-30T22:21:40Z 169.234.63.151\n",
      "104500 https://canvas.eee.uci.edu/courses/2230 2016-06-30T22:21:36Z 169.234.63.151\n",
      "104500 https://canvas.eee.uci.edu/courses/2230/discussion_topics/27477?module_item_id=62416 2016-06-30T22:21:33Z 169.234.63.151\n",
      "104500 https://canvas.eee.uci.edu/courses/2230 2016-06-30T22:21:24Z 169.234.63.151\n",
      "104500 https://canvas.eee.uci.edu/courses/2230/pages/reading-schedule?module_item_id=62397 2016-06-30T22:21:18Z 169.234.63.151\n",
      "104500 https://canvas.eee.uci.edu/courses/2230 2016-06-30T22:21:14Z 169.234.63.151\n",
      "104500 https://canvas.eee.uci.edu/courses/2230/files/747534/download?wrap=1 2016-06-30T21:36:27Z 169.234.63.151\n",
      "104500 https://canvas.eee.uci.edu/courses/2230/pages/list-of-important-concepts?module_item_id=62386 2016-06-30T21:26:03Z 169.234.63.151\n",
      "104500 https://canvas.eee.uci.edu/courses/2230 2016-06-30T21:25:45Z 169.234.63.151\n",
      "104500 https://canvas.eee.uci.edu/courses/2230/pages/week-2-daily-lectures?module_item_id=62422 2016-06-30T21:15:09Z 169.234.63.151\n",
      "104500 https://canvas.eee.uci.edu/courses/2230/pages/week-2-daily-lectures?module_item_id=62422 2016-06-30T21:14:48Z 169.234.63.151\n",
      "104500 https://canvas.eee.uci.edu/courses/2230 2016-06-30T21:14:16Z 169.234.63.151\n",
      "104500 https://canvas.eee.uci.edu/courses/2230 2016-06-30T21:13:55Z 169.234.63.151\n",
      "104500 https://canvas.eee.uci.edu/courses/2230/assignments/49370 2016-06-30T04:07:47Z 70.187.187.85\n",
      "104500 https://canvas.eee.uci.edu/courses/2230 2016-06-30T01:02:32Z 70.187.187.85\n",
      "104500 https://canvas.eee.uci.edu/courses/2230/pages/week-2-daily-lectures?module_item_id=62422 2016-06-30T01:01:48Z 70.187.187.85\n",
      "104500 https://canvas.eee.uci.edu/courses/2230 2016-06-29T17:34:55Z 70.187.187.85\n",
      "104500 https://canvas.eee.uci.edu/courses/2230/assignments 2016-06-29T17:34:55Z 70.187.187.85\n",
      "104500 https://canvas.eee.uci.edu/courses/2230/assignments/49369 2016-06-29T17:34:46Z 70.187.187.85\n",
      "104500 https://canvas.eee.uci.edu/courses/2230/assignments/49369 2016-06-29T05:17:58Z 70.187.187.85\n",
      "104500 https://canvas.eee.uci.edu/courses/2230/assignments/49369/submissions 2016-06-29T05:17:58Z 70.187.187.85\n",
      "104500 https://canvas.eee.uci.edu/courses/2230/files/748068/download?wrap=1 2016-06-29T04:40:58Z 70.187.187.85\n",
      "104500 https://canvas.eee.uci.edu/courses/2230/assignments/49369 2016-06-29T04:40:42Z 70.187.187.85\n",
      "104500 https://canvas.eee.uci.edu/courses/2230/pages/week-2-daily-lectures?module_item_id=62422 2016-06-29T02:53:43Z 70.187.187.85\n",
      "104500 https://canvas.eee.uci.edu/courses/2230 2016-06-29T01:39:45Z 70.187.187.85\n",
      "104500 https://canvas.eee.uci.edu/courses/2230/files/748110/download?wrap=1 2016-06-29T01:39:03Z 70.187.187.85\n",
      "104500 https://canvas.eee.uci.edu/courses/2230/assignments/49370 2016-06-29T01:38:48Z 70.187.187.85\n",
      "104500 https://canvas.eee.uci.edu/courses/2230 2016-06-29T01:38:01Z 70.187.187.85\n",
      "104500 https://canvas.eee.uci.edu/courses/2230/pages/week-2-daily-lectures?module_item_id=62422 2016-06-28T03:49:42Z 70.187.187.85\n",
      "104500 https://canvas.eee.uci.edu/courses/2230 2016-06-28T03:49:34Z 70.187.187.85\n",
      "104500 https://canvas.eee.uci.edu/courses/2230/pages 2016-06-28T03:49:34Z 70.187.187.85\n",
      "104500 https://canvas.eee.uci.edu/courses/2230/pages/week-1-daily-lectures?module_item_id=62413 2016-06-28T03:49:29Z 70.187.187.85\n",
      "104500 https://canvas.eee.uci.edu/courses/2230/pages/week-1-daily-lectures?module_item_id=62413 2016-06-28T03:49:19Z 70.187.187.85\n",
      "104500 https://canvas.eee.uci.edu/courses/2230 2016-06-28T03:49:10Z 70.187.187.85\n",
      "104500 https://canvas.eee.uci.edu/courses/2230/files/742190/download?download_frd=1 2016-06-28T03:02:35Z 184.189.203.244\n",
      "104500 https://canvas.eee.uci.edu/courses/2230/files/742190?module_item_id=62039 2016-06-28T03:02:28Z 184.189.203.244\n",
      "104500 https://canvas.eee.uci.edu/courses/2230 2016-06-28T03:02:17Z 184.189.203.244\n",
      "104500 https://canvas.eee.uci.edu/courses/2230/assignments/49368 2016-06-27T17:48:41Z 70.187.187.85\n",
      "104500 https://canvas.eee.uci.edu/courses/2230/assignments/49368 2016-06-27T03:54:50Z 70.187.187.85\n",
      "104500 https://canvas.eee.uci.edu/courses/2230 2016-06-26T20:46:01Z 70.187.187.85\n",
      "104500 https://canvas.eee.uci.edu/courses/2230/files/748012/download?wrap=1 2016-06-26T17:56:49Z 70.187.187.85\n",
      "104500 https://canvas.eee.uci.edu/courses/2230/assignments/49368 2016-06-26T06:36:51Z 70.187.187.85\n",
      "104500 https://canvas.eee.uci.edu/courses/2230 2016-06-26T06:36:41Z 70.187.187.85\n",
      "104500 https://canvas.eee.uci.edu/courses/2230/pages/week-1-daily-lectures?module_item_id=62413 2016-06-25T04:41:05Z 70.187.187.85\n",
      "104500 https://canvas.eee.uci.edu/courses/2230/pages/week-1-daily-lectures?module_item_id=62413 2016-06-25T03:45:55Z 70.187.187.85\n",
      "104500 https://canvas.eee.uci.edu/courses/2230/pages/week-1-daily-lectures?module_item_id=62413 2016-06-25T02:56:17Z 70.187.187.85\n",
      "104500 https://canvas.eee.uci.edu/courses/2230/pages/week-1-daily-lectures?module_item_id=62413 2016-06-25T00:07:26Z 70.187.187.85\n",
      "104500 https://canvas.eee.uci.edu/courses/2230 2016-06-24T01:28:34Z 70.187.187.85\n",
      "104500 https://canvas.eee.uci.edu/courses/2230/files/742190?module_item_id=62039 2016-06-24T01:27:41Z 70.187.187.85\n",
      "104500 https://canvas.eee.uci.edu/courses/2230 2016-06-24T01:27:31Z 70.187.187.85\n",
      "104500 https://canvas.eee.uci.edu/courses/2230/pages/week-1-daily-lectures?module_item_id=62413 2016-06-24T00:40:13Z 70.187.187.85\n",
      "104500 https://canvas.eee.uci.edu/courses/2230 2016-06-24T00:39:57Z 70.187.187.85\n",
      "104500 https://canvas.eee.uci.edu/courses/2230/files/742190/download?download_frd=1 2016-06-24T00:39:21Z 70.187.187.85\n",
      "104500 https://canvas.eee.uci.edu/courses/2230/files/742190?module_item_id=62039 2016-06-24T00:39:19Z 70.187.187.85\n",
      "104500 https://canvas.eee.uci.edu/courses/2230 2016-06-24T00:39:15Z 70.187.187.85\n",
      "104500 https://canvas.eee.uci.edu/courses/2230/announcements 2016-06-24T00:39:10Z 70.187.187.85\n",
      "104500 https://canvas.eee.uci.edu/courses/2230/pages/week-1-daily-lectures?module_item_id=62413 2016-06-24T00:38:05Z 70.187.187.85\n",
      "104500 https://canvas.eee.uci.edu/courses/2230 2016-06-24T00:38:00Z 70.187.187.85\n",
      "104500 https://canvas.eee.uci.edu/courses/2230/pages/reading-schedule?module_item_id=62397 2016-06-23T00:09:15Z 70.187.187.85\n",
      "104500 https://canvas.eee.uci.edu/courses/2230 2016-06-23T00:09:05Z 70.187.187.85\n",
      "104500 https://canvas.eee.uci.edu/courses/2230/pages/week-1-daily-lectures?module_item_id=62413 2016-06-22T23:01:53Z 70.187.187.85\n",
      "104500 https://canvas.eee.uci.edu/courses/2230 2016-06-22T23:01:47Z 70.187.187.85\n",
      "104500 https://canvas.eee.uci.edu/courses/2230/pages/reading-schedule?module_item_id=62397 2016-06-22T05:40:48Z 70.187.187.85\n",
      "104500 https://canvas.eee.uci.edu/courses/2230 2016-06-22T05:40:45Z 70.187.187.85\n",
      "104500 https://canvas.eee.uci.edu/courses/2230/pages/5-box-solution-format?module_item_id=62400 2016-06-22T05:40:41Z 70.187.187.85\n",
      "104500 https://canvas.eee.uci.edu/courses/2230 2016-06-22T05:40:28Z 70.187.187.85\n",
      "104500 https://canvas.eee.uci.edu/courses/2230/users 2016-06-22T05:40:15Z 70.187.187.85\n",
      "104500 https://canvas.eee.uci.edu/courses/2230/discussion_topics 2016-06-22T05:40:14Z 70.187.187.85\n",
      "104500 https://canvas.eee.uci.edu/courses/2230 2016-06-22T05:40:05Z 70.187.187.85\n",
      "104500 https://canvas.eee.uci.edu/courses/2230/discussion_topics/27498 2016-06-22T05:40:01Z 70.187.187.85\n",
      "104500 https://canvas.eee.uci.edu/courses/2230/discussion_topics 2016-06-22T05:39:51Z 70.187.187.85\n",
      "104500 https://canvas.eee.uci.edu/courses/2230/announcements 2016-06-22T05:39:42Z 70.187.187.85\n",
      "104500 https://canvas.eee.uci.edu/courses/2230/pages/week-1-daily-lectures?module_item_id=62413 2016-06-22T05:39:08Z 70.187.187.85\n",
      "104500 https://canvas.eee.uci.edu/courses/2230 2016-06-22T05:38:52Z 70.187.187.85\n",
      "104500 https://canvas.eee.uci.edu/courses/2230/discussion_topics/27477?module_item_id=62416 2016-06-22T05:38:47Z 70.187.187.85\n",
      "104500 https://canvas.eee.uci.edu/courses/2230/files/742190/download?download_frd=1 2016-06-22T05:25:11Z 70.187.187.85\n",
      "104500 https://canvas.eee.uci.edu/courses/2230/files/742190?module_item_id=62039 2016-06-22T05:25:08Z 70.187.187.85\n",
      "104500 https://canvas.eee.uci.edu/courses/2230 2016-06-22T05:24:57Z 70.187.187.85\n",
      "104500 https://canvas.eee.uci.edu/courses/2230/pages/week-1-daily-lectures?module_item_id=62413 2016-06-22T05:09:47Z 70.187.187.85\n",
      "104500 https://canvas.eee.uci.edu/courses/2230 2016-06-22T05:09:36Z 70.187.187.85\n",
      "104500 https://canvas.eee.uci.edu/courses/2230/assignments/49403?module_item_id=62408 2016-06-22T05:09:29Z 70.187.187.85\n",
      "104500 https://canvas.eee.uci.edu/courses/2230 2016-06-22T05:08:17Z 70.187.187.85\n",
      "104500 https://canvas.eee.uci.edu/courses/2230/files/742190/download?download_frd=1 2016-06-22T05:07:15Z 70.187.187.85\n",
      "104500 https://canvas.eee.uci.edu/courses/2230/files/742190?module_item_id=62039 2016-06-22T05:07:13Z 70.187.187.85\n",
      "104500 https://canvas.eee.uci.edu/courses/2230 2016-06-22T05:07:04Z 70.187.187.85\n",
      "104500 https://canvas.eee.uci.edu/courses/2230/files/748073/download?wrap=1 2016-06-20T19:06:58Z 70.187.187.85\n",
      "104500 https://canvas.eee.uci.edu/courses/2230/files/748073/download?wrap=1 2016-06-20T17:50:44Z 70.187.187.85\n",
      "104500 https://canvas.eee.uci.edu/courses/2230/discussion_topics/27494 2016-06-20T17:50:25Z 70.187.187.85\n",
      "104500 https://canvas.eee.uci.edu/courses/2230/announcements 2016-06-20T17:50:20Z 70.187.187.85\n",
      "104500 https://canvas.eee.uci.edu/courses/2230/announcements 2016-06-20T17:50:02Z 70.187.187.85\n",
      "104500 https://canvas.eee.uci.edu/courses/2230/pages/week-1-daily-lectures?module_item_id=62413 2016-06-20T04:18:57Z 70.187.187.85\n",
      "104500 https://canvas.eee.uci.edu/courses/2230 2016-06-20T04:18:07Z 70.187.187.85\n"
     ]
    }
   ],
   "source": [
    "# Instead of printing the lists out, we are going to put each entry in a list as a variable\n",
    "with open(csv_file, 'r') as f:\n",
    "    reader = csv.reader(f, delimiter=\",\")\n",
    "    header = reader.next()\n",
    "\n",
    "    for line in reader:\n",
    "        rid = int(line[0])\n",
    "        url = line[1]\n",
    "        timestamp = line[3]\n",
    "        ip = line[5]\n",
    "        print rid, url, timestamp, ip"
   ]
  },
  {
   "cell_type": "markdown",
   "metadata": {},
   "source": [
    "### Things to add\n",
    "1. Create another key `category` and store the categories using the URL and the function `get_cats_from_url()`.<br>\n",
    "2. Use `datetime.strptime()` to convert the string into a datetime object, and then store that datetime object instead of string."
   ]
  },
  {
   "cell_type": "code",
   "execution_count": 44,
   "metadata": {
    "collapsed": false
   },
   "outputs": [],
   "source": [
    "dt_format = \"%Y-%m-%dT%H:%M:%SZ\"\n",
    "\n",
    "# Declare four lists\n",
    "url_list = []\n",
    "category_list = []\n",
    "time_list = []\n",
    "ip_list = []\n",
    "\n",
    "with open(csv_file, 'r') as f:\n",
    "    reader = csv.reader(f, delimiter=',')\n",
    "    header = reader.next()\n",
    "    for line in reader:\n",
    "        rid = int(line[0])\n",
    "        url = line[1]\n",
    "        timestamp = datetime.strptime(line[3], dt_format)\n",
    "        ip = line[-1]\n",
    "        cat = get_cats_from_url(url)\n",
    "       \n",
    "        # Put the values in the list\n",
    "        url_list.append(url)\n",
    "        time_list.append(timestamp)\n",
    "        ip_list.append(ip)\n",
    "        category_list.append(cat)\n",
    "     "
   ]
  },
  {
   "cell_type": "code",
   "execution_count": 45,
   "metadata": {
    "collapsed": false
   },
   "outputs": [
    {
     "data": {
      "text/plain": [
       "[datetime.datetime(2016, 8, 1, 17, 29, 47),\n",
       " datetime.datetime(2016, 8, 1, 17, 29, 37),\n",
       " datetime.datetime(2016, 8, 1, 17, 29, 25),\n",
       " datetime.datetime(2016, 8, 1, 17, 29, 2),\n",
       " datetime.datetime(2016, 8, 1, 17, 28, 51),\n",
       " datetime.datetime(2016, 7, 27, 1, 50, 13),\n",
       " datetime.datetime(2016, 7, 27, 1, 50, 7),\n",
       " datetime.datetime(2016, 7, 27, 1, 49, 56),\n",
       " datetime.datetime(2016, 7, 27, 1, 6, 27),\n",
       " datetime.datetime(2016, 7, 27, 1, 6, 23)]"
      ]
     },
     "execution_count": 45,
     "metadata": {},
     "output_type": "execute_result"
    }
   ],
   "source": [
    "time_list[:10]"
   ]
  },
  {
   "cell_type": "code",
   "execution_count": 46,
   "metadata": {
    "collapsed": false
   },
   "outputs": [
    {
     "name": "stdout",
     "output_type": "stream",
     "text": [
      "319 319 319\n"
     ]
    }
   ],
   "source": [
    "print len(category_list), len(url_list), len(ip_list)"
   ]
  },
  {
   "cell_type": "markdown",
   "metadata": {},
   "source": [
    "Create a dictionary where the keys are \"url\", \"created_at\", \"ip\", and \"category\",<br>\n",
    "and the values are the corresponding lists generated above."
   ]
  },
  {
   "cell_type": "code",
   "execution_count": 47,
   "metadata": {
    "collapsed": true
   },
   "outputs": [],
   "source": [
    "student_data = {}\n",
    "student_data[\"url\"] = url_list\n",
    "student_data[\"created_at\"] = time_list\n",
    "student_data[\"category\"] = category_list\n",
    "student_data[\"ip\"] = ip_list"
   ]
  },
  {
   "cell_type": "code",
   "execution_count": 48,
   "metadata": {
    "collapsed": false
   },
   "outputs": [
    {
     "name": "stdout",
     "output_type": "stream",
     "text": [
      "['url', 'category', 'created_at', 'ip']\n"
     ]
    }
   ],
   "source": [
    "print student_data.keys()"
   ]
  },
  {
   "cell_type": "code",
   "execution_count": 49,
   "metadata": {
    "collapsed": false
   },
   "outputs": [
    {
     "name": "stdout",
     "output_type": "stream",
     "text": [
      "{'url': ['https://canvas.eee.uci.edu/courses/2230/files/742190/download?download_frd=1', 'https://canvas.eee.uci.edu/courses/2230/files/742190?module_item_id=62039', 'https://canvas.eee.uci.edu/courses/2230/pages/5-box-solution-format?module_item_id=62400', 'https://canvas.eee.uci.edu/courses/2230/files/742190?module_item_id=62039', 'https://canvas.eee.uci.edu/courses/2230', 'https://canvas.eee.uci.edu/courses/2230/files/747534/download?wrap=1', 'https://canvas.eee.uci.edu/courses/2230/pages/list-of-important-concepts?module_item_id=62386', 'https://canvas.eee.uci.edu/courses/2230', 'https://canvas.eee.uci.edu/courses/2230/files/748147?module_item_id=62454', 'https://canvas.eee.uci.edu/courses/2230', 'https://canvas.eee.uci.edu/courses/2230/files/748131?module_item_id=62444', 'https://canvas.eee.uci.edu/courses/2230', 'https://canvas.eee.uci.edu/courses/2230/files/748142/download?wrap=1', 'https://canvas.eee.uci.edu/courses/2230/files/748132/download?wrap=1', 'https://canvas.eee.uci.edu/courses/2230/files/748141/download?wrap=1', 'https://canvas.eee.uci.edu/courses/2230/files/748130/download?wrap=1', 'https://canvas.eee.uci.edu/courses/2230/files/748132/download?wrap=1', 'https://canvas.eee.uci.edu/courses/2230/files/748142/download?wrap=1', 'https://canvas.eee.uci.edu/courses/2230/files/748132/download?wrap=1', 'https://canvas.eee.uci.edu/courses/2230/files/748162/download?wrap=1', 'https://canvas.eee.uci.edu/courses/2230/files/748133/download?wrap=1', 'https://canvas.eee.uci.edu/courses/2230/pages/practice-exams?module_item_id=62459', 'https://canvas.eee.uci.edu/courses/2230', 'https://canvas.eee.uci.edu/courses/2230/files/748057/download?wrap=1', 'https://canvas.eee.uci.edu/courses/2230/files/748149/download?wrap=1', 'https://canvas.eee.uci.edu/courses/2230/files/748150/download?wrap=1', 'https://canvas.eee.uci.edu/courses/2230/files/748140/download?wrap=1', 'https://canvas.eee.uci.edu/courses/2230/pages/practice-exams?module_item_id=62459', 'https://ucirvine.instructure.com/courses/2230/assignments/49369', 'https://canvas.eee.uci.edu/courses/2230', 'https://canvas.eee.uci.edu/courses/2230/assignments/49374?module_item_id=62441', 'https://canvas.eee.uci.edu/courses/2230', 'https://canvas.eee.uci.edu/courses/2230/pages/reading-schedule?module_item_id=62397', 'https://canvas.eee.uci.edu/courses/2230', 'https://canvas.eee.uci.edu/courses/2230/assignments/49367/submissions', 'https://canvas.eee.uci.edu/courses/2230/assignments/49367', 'https://canvas.eee.uci.edu/courses/2230/files/748152/download?wrap=1', 'https://canvas.eee.uci.edu/courses/2230/assignments/49367', 'https://canvas.eee.uci.edu/courses/2230', 'https://canvas.eee.uci.edu/courses/2230/pages/week-5-daily-lectures?module_item_id=62449', 'https://canvas.eee.uci.edu/courses/2230', 'https://canvas.eee.uci.edu/courses/2230/pages/week-5-checklist?module_item_id=62448', 'https://canvas.eee.uci.edu/courses/2230/pages/reading-schedule', 'https://canvas.eee.uci.edu/courses/2230', 'https://canvas.eee.uci.edu/courses/2230/files/747534/download?wrap=1', 'https://canvas.eee.uci.edu/courses/2230/pages/list-of-important-concepts?module_item_id=62386', 'https://canvas.eee.uci.edu/courses/2230', 'https://canvas.eee.uci.edu/courses/2230/pages/week-5-daily-lectures?module_item_id=62449', 'https://canvas.eee.uci.edu/courses/2230', 'https://canvas.eee.uci.edu/courses/2230/pages/reading-schedule?module_item_id=62397', 'https://canvas.eee.uci.edu/courses/2230', 'https://canvas.eee.uci.edu/courses/2230/files/748131?module_item_id=62444', 'https://canvas.eee.uci.edu/courses/2230', 'https://canvas.eee.uci.edu/courses/2230/pages/week-4-daily-lectures?module_item_id=62440', 'https://canvas.eee.uci.edu/courses/2230', 'https://canvas.eee.uci.edu/courses/2230/assignments/49373?module_item_id=62433', 'https://canvas.eee.uci.edu/courses/2230', 'https://canvas.eee.uci.edu/courses/2230/assignments/49376', 'https://canvas.eee.uci.edu/courses/2230/assignments/49376/submissions', 'https://canvas.eee.uci.edu/courses/2230/assignments/49375/submissions/11512?preview=1&rand=272760', 'https://canvas.eee.uci.edu/courses/2230/assignments/49375/submissions/11512', 'https://canvas.eee.uci.edu/courses/2230', 'https://canvas.eee.uci.edu/courses/2230/files/748154/download?wrap=1', 'https://canvas.eee.uci.edu/courses/2230/assignments/49376', 'https://canvas.eee.uci.edu/courses/2230', 'https://canvas.eee.uci.edu/courses/2230/pages/week-5-daily-lectures?module_item_id=62449', 'https://canvas.eee.uci.edu/courses/2230/pages/week-5-daily-lectures?module_item_id=62449', 'https://canvas.eee.uci.edu/courses/2230', 'https://canvas.eee.uci.edu/courses/2230/assignments/49372?module_item_id=62432', 'https://canvas.eee.uci.edu/courses/2230', 'https://canvas.eee.uci.edu/courses/2230/pages/week-5-daily-lectures?module_item_id=62449', 'https://canvas.eee.uci.edu/courses/2230', 'https://canvas.eee.uci.edu/courses/2230/files/748121?module_item_id=62435', 'https://canvas.eee.uci.edu/courses/2230', 'https://canvas.eee.uci.edu/courses/2230/pages/reading-schedule?module_item_id=62397', 'https://canvas.eee.uci.edu/courses/2230', 'https://canvas.eee.uci.edu/courses/2230/files/748121?module_item_id=62435', 'https://canvas.eee.uci.edu/courses/2230', 'https://canvas.eee.uci.edu/courses/2230/files/748099?module_item_id=62426', 'https://canvas.eee.uci.edu/courses/2230', 'https://canvas.eee.uci.edu/courses/2230/assignments/49371/submissions/11512?preview=1&rand=370241', 'https://canvas.eee.uci.edu/courses/2230/assignments/49371/submissions/11512', 'https://canvas.eee.uci.edu/courses/2230', 'https://canvas.eee.uci.edu/courses/2230/files/748105?module_item_id=62429', 'https://canvas.eee.uci.edu/courses/2230', 'https://canvas.eee.uci.edu/courses/2230/pages/reading-schedule?module_item_id=62397', 'https://canvas.eee.uci.edu/courses/2230', 'https://canvas.eee.uci.edu/courses/2230/pages/week-5-daily-lectures?module_item_id=62449', 'https://canvas.eee.uci.edu/courses/2230', 'https://canvas.eee.uci.edu/courses/2230/files/748107/download?wrap=1', 'https://canvas.eee.uci.edu/courses/2230/assignments/49371?module_item_id=62424', 'https://canvas.eee.uci.edu/courses/2230', 'https://canvas.eee.uci.edu/courses/2230/files/748105?module_item_id=62429', 'https://canvas.eee.uci.edu/courses/2230', 'https://canvas.eee.uci.edu/courses/2230/files/748108?module_item_id=62428', 'https://canvas.eee.uci.edu/courses/2230', 'https://canvas.eee.uci.edu/courses/2230/assignments/49370?module_item_id=62423', 'https://canvas.eee.uci.edu/courses/2230', 'https://canvas.eee.uci.edu/courses/2230/pages/reading-schedule?module_item_id=62397', 'https://canvas.eee.uci.edu/courses/2230/files/748099?module_item_id=62426', 'https://canvas.eee.uci.edu/courses/2230', 'https://canvas.eee.uci.edu/courses/2230/files/748134?module_item_id=62436', 'https://canvas.eee.uci.edu/courses/2230', 'https://canvas.eee.uci.edu/courses/2230/files/748159?module_item_id=62427', 'https://canvas.eee.uci.edu/courses/2230', 'https://canvas.eee.uci.edu/courses/2230', 'https://canvas.eee.uci.edu/courses/2230/assignments/49375', 'https://canvas.eee.uci.edu/courses/2230/assignments/49375/submissions', 'https://canvas.eee.uci.edu/courses/2230/assignments/49375', 'https://canvas.eee.uci.edu/courses/2230', 'https://canvas.eee.uci.edu/courses/2230/assignments/49371/submissions/11512?preview=1&rand=273613', 'https://canvas.eee.uci.edu/courses/2230/assignments/49371/submissions/11512', 'https://canvas.eee.uci.edu/courses/2230', 'https://canvas.eee.uci.edu/courses/2230/assignments/49372/submissions/11512?preview=1&rand=433531', 'https://canvas.eee.uci.edu/courses/2230/assignments/49372/submissions/11512', 'https://canvas.eee.uci.edu/courses/2230', 'https://canvas.eee.uci.edu/courses/2230/assignments/49373/submissions/11512?preview=1&rand=363004', 'https://canvas.eee.uci.edu/courses/2230/assignments/49373/submissions/11512', 'https://canvas.eee.uci.edu/courses/2230', 'https://canvas.eee.uci.edu/courses/2230/files/748111/download?wrap=1', 'https://canvas.eee.uci.edu/courses/2230/assignments/49375', 'https://canvas.eee.uci.edu/courses/2230', 'https://canvas.eee.uci.edu/courses/2230/files/748104?module_item_id=62420', 'https://canvas.eee.uci.edu/courses/2230', 'https://canvas.eee.uci.edu/courses/2230/files/748068/download?wrap=1', 'https://canvas.eee.uci.edu/courses/2230/assignments/49369?module_item_id=62415', 'https://canvas.eee.uci.edu/courses/2230', 'https://canvas.eee.uci.edu/courses/2230/files/748012/download?wrap=1', 'https://canvas.eee.uci.edu/courses/2230/assignments/49368?module_item_id=62414', 'https://canvas.eee.uci.edu/courses/2230', 'https://canvas.eee.uci.edu/courses/2230/pages/reading-schedule?module_item_id=62397', 'https://canvas.eee.uci.edu/courses/2230', 'https://canvas.eee.uci.edu/courses/2230/files/742190?module_item_id=62039', 'https://canvas.eee.uci.edu/courses/2230', 'https://canvas.eee.uci.edu/courses/2230/files/748014?module_item_id=62417', 'https://canvas.eee.uci.edu/courses/2230/discussion_topics/27490', 'https://canvas.eee.uci.edu/courses/2230/announcements', 'https://canvas.eee.uci.edu/courses/2230', 'https://canvas.eee.uci.edu/courses/2230/pages/week-1-daily-lectures?module_item_id=62413', 'https://canvas.eee.uci.edu/courses/2230', 'https://canvas.eee.uci.edu/courses/2230/files/747534/download?wrap=1', 'https://canvas.eee.uci.edu/courses/2230/pages/list-of-important-concepts?module_item_id=62386', 'https://canvas.eee.uci.edu/courses/2230', 'https://canvas.eee.uci.edu/courses/2230/pages/reading-schedule?module_item_id=62397', 'https://canvas.eee.uci.edu/courses/2230', 'https://canvas.eee.uci.edu/courses/2230/files/742190?module_item_id=62039', 'https://canvas.eee.uci.edu/courses/2230', 'https://canvas.eee.uci.edu/courses/2230', 'https://canvas.eee.uci.edu/courses/2230/files/748014?module_item_id=62417', 'https://canvas.eee.uci.edu/courses/2230', 'https://canvas.eee.uci.edu/courses/2230/files/748099?module_item_id=62426', 'https://canvas.eee.uci.edu/courses/2230', 'https://canvas.eee.uci.edu/courses/2230/discussion_topics/27480?module_item_id=62443', 'https://canvas.eee.uci.edu/courses/2230', 'https://canvas.eee.uci.edu/courses/2230/discussion_topics/27481?module_item_id=62453', 'https://canvas.eee.uci.edu/courses/2230', 'https://canvas.eee.uci.edu/courses/2230/pages/week-5-daily-lectures?module_item_id=62449', 'https://canvas.eee.uci.edu/courses/2230', 'https://canvas.eee.uci.edu/courses/2230/pages/week-4-daily-lectures?module_item_id=62440', 'https://canvas.eee.uci.edu/courses/2230', 'https://canvas.eee.uci.edu/courses/2230/announcements', 'https://canvas.eee.uci.edu/courses/2230', 'https://canvas.eee.uci.edu/courses/2230/pages/week-4-daily-lectures?module_item_id=62440', 'https://canvas.eee.uci.edu/courses/2230', 'https://canvas.eee.uci.edu/courses/2230/pages/week-4-daily-lectures?module_item_id=62440', 'https://canvas.eee.uci.edu/courses/2230', 'https://canvas.eee.uci.edu/courses/2230/pages/week-4-daily-lectures?module_item_id=62440', 'https://canvas.eee.uci.edu/courses/2230', 'https://canvas.eee.uci.edu/courses/2230/assignments/49374', 'https://canvas.eee.uci.edu/courses/2230/assignments/49374', 'https://canvas.eee.uci.edu/courses/2230/assignments/49374/submissions', 'https://canvas.eee.uci.edu/courses/2230/files/748112/download?wrap=1', 'https://canvas.eee.uci.edu/courses/2230/assignments/49374', 'https://canvas.eee.uci.edu/courses/2230', 'https://canvas.eee.uci.edu/courses/2230/pages/week-4-daily-lectures?module_item_id=62440', 'https://canvas.eee.uci.edu/courses/2230', 'https://canvas.eee.uci.edu/courses/2230/pages/week-4-daily-lectures?module_item_id=62440', 'https://canvas.eee.uci.edu/courses/2230/pages/week-4-daily-lectures?module_item_id=62440', 'https://canvas.eee.uci.edu/courses/2230', 'https://canvas.eee.uci.edu/courses/2230/pages/week-3-daily-lectures?module_item_id=62431', 'https://canvas.eee.uci.edu/courses/2230', 'https://canvas.eee.uci.edu/courses/2230/assignments/49373/submissions/11512?download=795783', 'https://canvas.eee.uci.edu/courses/2230/assignments/49373/submissions/11512?preview=1&rand=941093', 'https://canvas.eee.uci.edu/courses/2230/assignments/49373/submissions/11512', 'https://canvas.eee.uci.edu/courses/2230/assignments/49373', 'https://canvas.eee.uci.edu/courses/2230/assignments/49373/submissions', 'https://canvas.eee.uci.edu/courses/2230/files/748122/download?wrap=1', 'https://canvas.eee.uci.edu/courses/2230/assignments/49373', 'https://canvas.eee.uci.edu/courses/2230', 'https://canvas.eee.uci.edu/courses/2230/pages/week-3-daily-lectures?module_item_id=62431', 'https://canvas.eee.uci.edu/courses/2230', 'https://canvas.eee.uci.edu/courses/2230/pages/week-3-daily-lectures?module_item_id=62431', 'https://canvas.eee.uci.edu/courses/2230', 'https://canvas.eee.uci.edu/courses/2230/files/742190?module_item_id=62039', 'https://canvas.eee.uci.edu/courses/2230', 'https://canvas.eee.uci.edu/courses/2230/assignments/49372', 'https://canvas.eee.uci.edu/courses/2230/assignments/49372/submissions', 'https://canvas.eee.uci.edu/courses/2230/files/748109/download?wrap=1', 'https://canvas.eee.uci.edu/courses/2230/assignments/49372', 'https://canvas.eee.uci.edu/courses/2230', 'https://canvas.eee.uci.edu/courses/2230/pages/week-3-daily-lectures?module_item_id=62431', 'https://canvas.eee.uci.edu/courses/2230', 'https://canvas.eee.uci.edu/courses/2230', 'https://canvas.eee.uci.edu/courses/2230/pages/week-3-daily-lectures?module_item_id=62431', 'https://canvas.eee.uci.edu/courses/2230', 'https://canvas.eee.uci.edu/courses/2230/pages/week-3-daily-lectures?module_item_id=62431', 'https://canvas.eee.uci.edu/courses/2230/pages/week-3-daily-lectures?module_item_id=62431', 'https://canvas.eee.uci.edu/courses/2230', 'https://canvas.eee.uci.edu/courses/2230/assignments/49371', 'https://ucirvine.instructure.com/courses/2230/assignments/49379', 'https://ucirvine.instructure.com/courses/2230/assignments/49370', 'https://ucirvine.instructure.com/courses/2230/assignments/49401', 'https://ucirvine.instructure.com/courses/2230/assignments/49402', 'https://ucirvine.instructure.com/courses/2230/assignments/49379', 'https://canvas.eee.uci.edu/courses/2230', 'https://canvas.eee.uci.edu/courses/2230/assignments/49371', 'https://canvas.eee.uci.edu/courses/2230/assignments/49371/submissions', 'https://canvas.eee.uci.edu/courses/2230/assignments/49371', 'https://canvas.eee.uci.edu/courses/2230', 'https://canvas.eee.uci.edu/courses/2230/pages/week-2-daily-lectures?module_item_id=62422', 'https://canvas.eee.uci.edu/courses/2230/pages/week-2-daily-lectures?module_item_id=62422', 'https://canvas.eee.uci.edu/courses/2230', 'https://canvas.eee.uci.edu/courses/2230', 'https://canvas.eee.uci.edu/courses/2230/pages/week-2-daily-lectures?module_item_id=62422', 'https://canvas.eee.uci.edu/courses/2230/pages/week-2-daily-lectures?module_item_id=62422', 'https://canvas.eee.uci.edu/courses/2230/pages/week-2-daily-lectures?module_item_id=62422', 'https://canvas.eee.uci.edu/courses/2230', 'https://canvas.eee.uci.edu/courses/2230/pages/week-1-daily-lectures?module_item_id=62413', 'https://canvas.eee.uci.edu/courses/2230', 'https://canvas.eee.uci.edu/courses/2230/discussion_topics/27477?module_item_id=62416', 'https://canvas.eee.uci.edu/courses/2230', 'https://canvas.eee.uci.edu/courses/2230/pages/reading-schedule?module_item_id=62397', 'https://canvas.eee.uci.edu/courses/2230', 'https://canvas.eee.uci.edu/courses/2230/files/747534/download?wrap=1', 'https://canvas.eee.uci.edu/courses/2230/pages/list-of-important-concepts?module_item_id=62386', 'https://canvas.eee.uci.edu/courses/2230', 'https://canvas.eee.uci.edu/courses/2230/pages/week-2-daily-lectures?module_item_id=62422', 'https://canvas.eee.uci.edu/courses/2230/pages/week-2-daily-lectures?module_item_id=62422', 'https://canvas.eee.uci.edu/courses/2230', 'https://canvas.eee.uci.edu/courses/2230', 'https://canvas.eee.uci.edu/courses/2230/assignments/49370', 'https://canvas.eee.uci.edu/courses/2230', 'https://canvas.eee.uci.edu/courses/2230/pages/week-2-daily-lectures?module_item_id=62422', 'https://canvas.eee.uci.edu/courses/2230', 'https://canvas.eee.uci.edu/courses/2230/assignments', 'https://canvas.eee.uci.edu/courses/2230/assignments/49369', 'https://canvas.eee.uci.edu/courses/2230/assignments/49369', 'https://canvas.eee.uci.edu/courses/2230/assignments/49369/submissions', 'https://canvas.eee.uci.edu/courses/2230/files/748068/download?wrap=1', 'https://canvas.eee.uci.edu/courses/2230/assignments/49369', 'https://canvas.eee.uci.edu/courses/2230/pages/week-2-daily-lectures?module_item_id=62422', 'https://canvas.eee.uci.edu/courses/2230', 'https://canvas.eee.uci.edu/courses/2230/files/748110/download?wrap=1', 'https://canvas.eee.uci.edu/courses/2230/assignments/49370', 'https://canvas.eee.uci.edu/courses/2230', 'https://canvas.eee.uci.edu/courses/2230/pages/week-2-daily-lectures?module_item_id=62422', 'https://canvas.eee.uci.edu/courses/2230', 'https://canvas.eee.uci.edu/courses/2230/pages', 'https://canvas.eee.uci.edu/courses/2230/pages/week-1-daily-lectures?module_item_id=62413', 'https://canvas.eee.uci.edu/courses/2230/pages/week-1-daily-lectures?module_item_id=62413', 'https://canvas.eee.uci.edu/courses/2230', 'https://canvas.eee.uci.edu/courses/2230/files/742190/download?download_frd=1', 'https://canvas.eee.uci.edu/courses/2230/files/742190?module_item_id=62039', 'https://canvas.eee.uci.edu/courses/2230', 'https://canvas.eee.uci.edu/courses/2230/assignments/49368', 'https://canvas.eee.uci.edu/courses/2230/assignments/49368', 'https://canvas.eee.uci.edu/courses/2230', 'https://canvas.eee.uci.edu/courses/2230/files/748012/download?wrap=1', 'https://canvas.eee.uci.edu/courses/2230/assignments/49368', 'https://canvas.eee.uci.edu/courses/2230', 'https://canvas.eee.uci.edu/courses/2230/pages/week-1-daily-lectures?module_item_id=62413', 'https://canvas.eee.uci.edu/courses/2230/pages/week-1-daily-lectures?module_item_id=62413', 'https://canvas.eee.uci.edu/courses/2230/pages/week-1-daily-lectures?module_item_id=62413', 'https://canvas.eee.uci.edu/courses/2230/pages/week-1-daily-lectures?module_item_id=62413', 'https://canvas.eee.uci.edu/courses/2230', 'https://canvas.eee.uci.edu/courses/2230/files/742190?module_item_id=62039', 'https://canvas.eee.uci.edu/courses/2230', 'https://canvas.eee.uci.edu/courses/2230/pages/week-1-daily-lectures?module_item_id=62413', 'https://canvas.eee.uci.edu/courses/2230', 'https://canvas.eee.uci.edu/courses/2230/files/742190/download?download_frd=1', 'https://canvas.eee.uci.edu/courses/2230/files/742190?module_item_id=62039', 'https://canvas.eee.uci.edu/courses/2230', 'https://canvas.eee.uci.edu/courses/2230/announcements', 'https://canvas.eee.uci.edu/courses/2230/pages/week-1-daily-lectures?module_item_id=62413', 'https://canvas.eee.uci.edu/courses/2230', 'https://canvas.eee.uci.edu/courses/2230/pages/reading-schedule?module_item_id=62397', 'https://canvas.eee.uci.edu/courses/2230', 'https://canvas.eee.uci.edu/courses/2230/pages/week-1-daily-lectures?module_item_id=62413', 'https://canvas.eee.uci.edu/courses/2230', 'https://canvas.eee.uci.edu/courses/2230/pages/reading-schedule?module_item_id=62397', 'https://canvas.eee.uci.edu/courses/2230', 'https://canvas.eee.uci.edu/courses/2230/pages/5-box-solution-format?module_item_id=62400', 'https://canvas.eee.uci.edu/courses/2230', 'https://canvas.eee.uci.edu/courses/2230/users', 'https://canvas.eee.uci.edu/courses/2230/discussion_topics', 'https://canvas.eee.uci.edu/courses/2230', 'https://canvas.eee.uci.edu/courses/2230/discussion_topics/27498', 'https://canvas.eee.uci.edu/courses/2230/discussion_topics', 'https://canvas.eee.uci.edu/courses/2230/announcements', 'https://canvas.eee.uci.edu/courses/2230/pages/week-1-daily-lectures?module_item_id=62413', 'https://canvas.eee.uci.edu/courses/2230', 'https://canvas.eee.uci.edu/courses/2230/discussion_topics/27477?module_item_id=62416', 'https://canvas.eee.uci.edu/courses/2230/files/742190/download?download_frd=1', 'https://canvas.eee.uci.edu/courses/2230/files/742190?module_item_id=62039', 'https://canvas.eee.uci.edu/courses/2230', 'https://canvas.eee.uci.edu/courses/2230/pages/week-1-daily-lectures?module_item_id=62413', 'https://canvas.eee.uci.edu/courses/2230', 'https://canvas.eee.uci.edu/courses/2230/assignments/49403?module_item_id=62408', 'https://canvas.eee.uci.edu/courses/2230', 'https://canvas.eee.uci.edu/courses/2230/files/742190/download?download_frd=1', 'https://canvas.eee.uci.edu/courses/2230/files/742190?module_item_id=62039', 'https://canvas.eee.uci.edu/courses/2230', 'https://canvas.eee.uci.edu/courses/2230/files/748073/download?wrap=1', 'https://canvas.eee.uci.edu/courses/2230/files/748073/download?wrap=1', 'https://canvas.eee.uci.edu/courses/2230/discussion_topics/27494', 'https://canvas.eee.uci.edu/courses/2230/announcements', 'https://canvas.eee.uci.edu/courses/2230/announcements', 'https://canvas.eee.uci.edu/courses/2230/pages/week-1-daily-lectures?module_item_id=62413', 'https://canvas.eee.uci.edu/courses/2230'], 'category': ['files', 'files', 'pages', 'files', 'homepage', 'files', 'pages', 'homepage', 'files', 'homepage', 'files', 'homepage', 'files', 'files', 'files', 'files', 'files', 'files', 'files', 'files', 'files', 'pages', 'homepage', 'files', 'files', 'files', 'files', 'pages', 'assignments', 'homepage', 'assignments', 'homepage', 'pages', 'homepage', 'assignments', 'assignments', 'files', 'assignments', 'homepage', 'pages', 'homepage', 'pages', 'pages', 'homepage', 'files', 'pages', 'homepage', 'pages', 'homepage', 'pages', 'homepage', 'files', 'homepage', 'pages', 'homepage', 'assignments', 'homepage', 'assignments', 'assignments', 'assignments', 'assignments', 'homepage', 'files', 'assignments', 'homepage', 'pages', 'pages', 'homepage', 'assignments', 'homepage', 'pages', 'homepage', 'files', 'homepage', 'pages', 'homepage', 'files', 'homepage', 'files', 'homepage', 'assignments', 'assignments', 'homepage', 'files', 'homepage', 'pages', 'homepage', 'pages', 'homepage', 'files', 'assignments', 'homepage', 'files', 'homepage', 'files', 'homepage', 'assignments', 'homepage', 'pages', 'files', 'homepage', 'files', 'homepage', 'files', 'homepage', 'homepage', 'assignments', 'assignments', 'assignments', 'homepage', 'assignments', 'assignments', 'homepage', 'assignments', 'assignments', 'homepage', 'assignments', 'assignments', 'homepage', 'files', 'assignments', 'homepage', 'files', 'homepage', 'files', 'assignments', 'homepage', 'files', 'assignments', 'homepage', 'pages', 'homepage', 'files', 'homepage', 'files', 'discussion_topics', 'announcements', 'homepage', 'pages', 'homepage', 'files', 'pages', 'homepage', 'pages', 'homepage', 'files', 'homepage', 'homepage', 'files', 'homepage', 'files', 'homepage', 'discussion_topics', 'homepage', 'discussion_topics', 'homepage', 'pages', 'homepage', 'pages', 'homepage', 'announcements', 'homepage', 'pages', 'homepage', 'pages', 'homepage', 'pages', 'homepage', 'assignments', 'assignments', 'assignments', 'files', 'assignments', 'homepage', 'pages', 'homepage', 'pages', 'pages', 'homepage', 'pages', 'homepage', 'assignments', 'assignments', 'assignments', 'assignments', 'assignments', 'files', 'assignments', 'homepage', 'pages', 'homepage', 'pages', 'homepage', 'files', 'homepage', 'assignments', 'assignments', 'files', 'assignments', 'homepage', 'pages', 'homepage', 'homepage', 'pages', 'homepage', 'pages', 'pages', 'homepage', 'assignments', 'assignments', 'assignments', 'assignments', 'assignments', 'assignments', 'homepage', 'assignments', 'assignments', 'assignments', 'homepage', 'pages', 'pages', 'homepage', 'homepage', 'pages', 'pages', 'pages', 'homepage', 'pages', 'homepage', 'discussion_topics', 'homepage', 'pages', 'homepage', 'files', 'pages', 'homepage', 'pages', 'pages', 'homepage', 'homepage', 'assignments', 'homepage', 'pages', 'homepage', 'assignments', 'assignments', 'assignments', 'assignments', 'files', 'assignments', 'pages', 'homepage', 'files', 'assignments', 'homepage', 'pages', 'homepage', 'pages', 'pages', 'pages', 'homepage', 'files', 'files', 'homepage', 'assignments', 'assignments', 'homepage', 'files', 'assignments', 'homepage', 'pages', 'pages', 'pages', 'pages', 'homepage', 'files', 'homepage', 'pages', 'homepage', 'files', 'files', 'homepage', 'announcements', 'pages', 'homepage', 'pages', 'homepage', 'pages', 'homepage', 'pages', 'homepage', 'pages', 'homepage', 'users', 'discussion_topics', 'homepage', 'discussion_topics', 'discussion_topics', 'announcements', 'pages', 'homepage', 'discussion_topics', 'files', 'files', 'homepage', 'pages', 'homepage', 'assignments', 'homepage', 'files', 'files', 'homepage', 'files', 'files', 'discussion_topics', 'announcements', 'announcements', 'pages', 'homepage'], 'created_at': [datetime.datetime(2016, 8, 1, 17, 29, 47), datetime.datetime(2016, 8, 1, 17, 29, 37), datetime.datetime(2016, 8, 1, 17, 29, 25), datetime.datetime(2016, 8, 1, 17, 29, 2), datetime.datetime(2016, 8, 1, 17, 28, 51), datetime.datetime(2016, 7, 27, 1, 50, 13), datetime.datetime(2016, 7, 27, 1, 50, 7), datetime.datetime(2016, 7, 27, 1, 49, 56), datetime.datetime(2016, 7, 27, 1, 6, 27), datetime.datetime(2016, 7, 27, 1, 6, 23), datetime.datetime(2016, 7, 27, 1, 5, 57), datetime.datetime(2016, 7, 27, 1, 5, 40), datetime.datetime(2016, 7, 26, 21, 35, 12), datetime.datetime(2016, 7, 26, 21, 35, 11), datetime.datetime(2016, 7, 26, 21, 27, 23), datetime.datetime(2016, 7, 26, 21, 27, 19), datetime.datetime(2016, 7, 26, 19, 50, 6), datetime.datetime(2016, 7, 26, 19, 49, 59), datetime.datetime(2016, 7, 26, 19, 49, 57), datetime.datetime(2016, 7, 26, 18, 15, 14), datetime.datetime(2016, 7, 26, 18, 15, 11), datetime.datetime(2016, 7, 26, 18, 15, 3), datetime.datetime(2016, 7, 26, 18, 14, 54), datetime.datetime(2016, 7, 26, 0, 41, 4), datetime.datetime(2016, 7, 26, 0, 40, 55), datetime.datetime(2016, 7, 25, 0, 7, 48), datetime.datetime(2016, 7, 25, 0, 4, 39), datetime.datetime(2016, 7, 25, 0, 4, 27), datetime.datetime(2016, 7, 24, 23, 6, 20), datetime.datetime(2016, 7, 24, 21, 36, 7), datetime.datetime(2016, 7, 24, 19, 5, 23), datetime.datetime(2016, 7, 24, 19, 5, 13), datetime.datetime(2016, 7, 24, 18, 35), datetime.datetime(2016, 7, 24, 18, 34, 41), datetime.datetime(2016, 7, 24, 6, 0, 44), datetime.datetime(2016, 7, 24, 6, 0, 16), datetime.datetime(2016, 7, 24, 5, 35, 58), datetime.datetime(2016, 7, 24, 5, 35, 50), datetime.datetime(2016, 7, 24, 5, 31, 54), datetime.datetime(2016, 7, 23, 4, 3, 45), datetime.datetime(2016, 7, 23, 4, 3, 39), datetime.datetime(2016, 7, 23, 4, 3, 34), datetime.datetime(2016, 7, 23, 2, 4, 56), datetime.datetime(2016, 7, 23, 1, 55, 24), datetime.datetime(2016, 7, 22, 18, 49, 31), datetime.datetime(2016, 7, 22, 18, 48, 49), datetime.datetime(2016, 7, 22, 18, 48, 40), datetime.datetime(2016, 7, 22, 4, 19, 26), datetime.datetime(2016, 7, 22, 4, 19, 21), datetime.datetime(2016, 7, 22, 0, 57, 49), datetime.datetime(2016, 7, 22, 0, 57, 44), datetime.datetime(2016, 7, 21, 22, 32, 42), datetime.datetime(2016, 7, 21, 22, 32, 22), datetime.datetime(2016, 7, 21, 22, 7, 20), datetime.datetime(2016, 7, 21, 22, 7, 1), datetime.datetime(2016, 7, 21, 4, 17, 59), datetime.datetime(2016, 7, 21, 4, 17, 48), datetime.datetime(2016, 7, 21, 4, 11, 28), datetime.datetime(2016, 7, 21, 4, 11, 28), datetime.datetime(2016, 7, 21, 4, 11, 11), datetime.datetime(2016, 7, 21, 4, 11, 10), datetime.datetime(2016, 7, 21, 4, 11, 2), datetime.datetime(2016, 7, 21, 3, 42, 20), datetime.datetime(2016, 7, 21, 3, 42, 11), datetime.datetime(2016, 7, 21, 3, 19, 19), datetime.datetime(2016, 7, 21, 2, 21, 4), datetime.datetime(2016, 7, 20, 23, 34, 5), datetime.datetime(2016, 7, 20, 23, 33, 58), datetime.datetime(2016, 7, 20, 23, 2, 8), datetime.datetime(2016, 7, 20, 23, 1, 51), datetime.datetime(2016, 7, 20, 5, 19, 34), datetime.datetime(2016, 7, 20, 5, 19, 26), datetime.datetime(2016, 7, 19, 18, 3, 9), datetime.datetime(2016, 7, 19, 18, 3, 1), datetime.datetime(2016, 7, 19, 18, 2, 3), datetime.datetime(2016, 7, 19, 18, 1, 57), datetime.datetime(2016, 7, 19, 17, 12, 1), datetime.datetime(2016, 7, 19, 17, 11, 53), datetime.datetime(2016, 7, 19, 17, 11, 42), datetime.datetime(2016, 7, 19, 17, 11, 26), datetime.datetime(2016, 7, 19, 6, 17, 53), datetime.datetime(2016, 7, 19, 6, 17, 52), datetime.datetime(2016, 7, 19, 6, 17, 45), datetime.datetime(2016, 7, 19, 6, 16, 48), datetime.datetime(2016, 7, 19, 6, 16, 41), datetime.datetime(2016, 7, 19, 5, 7, 59), datetime.datetime(2016, 7, 19, 5, 7, 55), datetime.datetime(2016, 7, 19, 4, 15, 30), datetime.datetime(2016, 7, 19, 4, 15, 20), datetime.datetime(2016, 7, 18, 23, 3, 32), datetime.datetime(2016, 7, 18, 23, 3, 23), datetime.datetime(2016, 7, 18, 23, 3, 19), datetime.datetime(2016, 7, 18, 23, 3, 16), datetime.datetime(2016, 7, 18, 23, 2, 29), datetime.datetime(2016, 7, 18, 22, 10, 17), datetime.datetime(2016, 7, 18, 22, 10, 9), datetime.datetime(2016, 7, 18, 21, 49, 54), datetime.datetime(2016, 7, 18, 21, 49, 33), datetime.datetime(2016, 7, 18, 17, 18, 35), datetime.datetime(2016, 7, 18, 17, 18, 1), datetime.datetime(2016, 7, 18, 3, 58), datetime.datetime(2016, 7, 18, 3, 57, 3), datetime.datetime(2016, 7, 18, 3, 56, 58), datetime.datetime(2016, 7, 18, 3, 56, 27), datetime.datetime(2016, 7, 18, 3, 56, 19), datetime.datetime(2016, 7, 18, 2, 48, 2), datetime.datetime(2016, 7, 18, 2, 14), datetime.datetime(2016, 7, 18, 2, 14), datetime.datetime(2016, 7, 18, 2, 11, 37), datetime.datetime(2016, 7, 18, 2, 9, 10), datetime.datetime(2016, 7, 18, 2, 9, 5), datetime.datetime(2016, 7, 18, 2, 9, 4), datetime.datetime(2016, 7, 18, 2, 8, 39), datetime.datetime(2016, 7, 18, 2, 8, 25), datetime.datetime(2016, 7, 18, 2, 8, 24), datetime.datetime(2016, 7, 18, 2, 7, 59), datetime.datetime(2016, 7, 18, 2, 7, 58), datetime.datetime(2016, 7, 18, 2, 7, 56), datetime.datetime(2016, 7, 18, 2, 7, 46), datetime.datetime(2016, 7, 18, 0, 24, 24), datetime.datetime(2016, 7, 18, 0, 23, 46), datetime.datetime(2016, 7, 18, 0, 16, 12), datetime.datetime(2016, 7, 17, 21, 9, 56), datetime.datetime(2016, 7, 17, 21, 9, 50), datetime.datetime(2016, 7, 17, 20, 57, 25), datetime.datetime(2016, 7, 17, 20, 57, 19), datetime.datetime(2016, 7, 17, 20, 57, 16), datetime.datetime(2016, 7, 17, 20, 56, 47), datetime.datetime(2016, 7, 17, 20, 56, 38), datetime.datetime(2016, 7, 17, 20, 56, 30), datetime.datetime(2016, 7, 17, 5, 36, 12), datetime.datetime(2016, 7, 17, 5, 36, 6), datetime.datetime(2016, 7, 17, 5, 35, 52), datetime.datetime(2016, 7, 17, 5, 35, 47), datetime.datetime(2016, 7, 17, 4, 28, 37), datetime.datetime(2016, 7, 17, 4, 27, 49), datetime.datetime(2016, 7, 17, 4, 27, 4), datetime.datetime(2016, 7, 17, 4, 25, 23), datetime.datetime(2016, 7, 17, 4, 24, 37), datetime.datetime(2016, 7, 17, 4, 24, 21), datetime.datetime(2016, 7, 17, 4, 23, 54), datetime.datetime(2016, 7, 17, 4, 23, 40), datetime.datetime(2016, 7, 17, 4, 23, 33), datetime.datetime(2016, 7, 17, 4, 23, 22), datetime.datetime(2016, 7, 17, 4, 23, 17), datetime.datetime(2016, 7, 17, 4, 22, 47), datetime.datetime(2016, 7, 17, 4, 22, 17), datetime.datetime(2016, 7, 17, 4, 21, 59), datetime.datetime(2016, 7, 17, 4, 21, 32), datetime.datetime(2016, 7, 17, 4, 21, 25), datetime.datetime(2016, 7, 17, 4, 20, 59), datetime.datetime(2016, 7, 17, 4, 20, 42), datetime.datetime(2016, 7, 17, 4, 20, 14), datetime.datetime(2016, 7, 17, 4, 20, 10), datetime.datetime(2016, 7, 17, 4, 20, 8), datetime.datetime(2016, 7, 17, 4, 20, 3), datetime.datetime(2016, 7, 17, 3, 49, 20), datetime.datetime(2016, 7, 17, 3, 49, 14), datetime.datetime(2016, 7, 17, 3, 49, 5), datetime.datetime(2016, 7, 17, 3, 48, 54), datetime.datetime(2016, 7, 16, 5, 5, 24), datetime.datetime(2016, 7, 16, 5, 5, 12), datetime.datetime(2016, 7, 16, 5, 4, 43), datetime.datetime(2016, 7, 16, 5, 4, 33), datetime.datetime(2016, 7, 15, 4, 35, 42), datetime.datetime(2016, 7, 15, 4, 35, 36), datetime.datetime(2016, 7, 15, 4, 15, 54), datetime.datetime(2016, 7, 15, 4, 15, 44), datetime.datetime(2016, 7, 15, 4, 15, 35), datetime.datetime(2016, 7, 14, 4, 42, 58), datetime.datetime(2016, 7, 14, 4, 42, 58), datetime.datetime(2016, 7, 14, 3, 13, 38), datetime.datetime(2016, 7, 14, 3, 6, 40), datetime.datetime(2016, 7, 14, 3, 6, 24), datetime.datetime(2016, 7, 13, 3, 12, 30), datetime.datetime(2016, 7, 13, 3, 12, 20), datetime.datetime(2016, 7, 12, 18, 40, 26), datetime.datetime(2016, 7, 12, 5, 12, 44), datetime.datetime(2016, 7, 12, 5, 12, 40), datetime.datetime(2016, 7, 12, 5, 12, 38), datetime.datetime(2016, 7, 12, 5, 12, 19), datetime.datetime(2016, 7, 11, 5, 12, 24), datetime.datetime(2016, 7, 11, 5, 12, 20), datetime.datetime(2016, 7, 11, 5, 12, 19), datetime.datetime(2016, 7, 11, 5, 12, 13), datetime.datetime(2016, 7, 11, 5, 12, 13), datetime.datetime(2016, 7, 11, 4, 15, 34), datetime.datetime(2016, 7, 11, 4, 15, 18), datetime.datetime(2016, 7, 11, 4, 11), datetime.datetime(2016, 7, 8, 21, 37, 49), datetime.datetime(2016, 7, 8, 17, 25, 8), datetime.datetime(2016, 7, 8, 1, 18, 54), datetime.datetime(2016, 7, 8, 1, 18, 47), datetime.datetime(2016, 7, 8, 1, 8, 30), datetime.datetime(2016, 7, 8, 1, 8, 19), datetime.datetime(2016, 7, 6, 23, 40, 4), datetime.datetime(2016, 7, 6, 23, 40, 4), datetime.datetime(2016, 7, 6, 22, 53, 50), datetime.datetime(2016, 7, 6, 22, 53, 45), datetime.datetime(2016, 7, 6, 22, 53, 36), datetime.datetime(2016, 7, 6, 22, 8, 12), datetime.datetime(2016, 7, 6, 22, 7, 51), datetime.datetime(2016, 7, 6, 3, 19, 13), datetime.datetime(2016, 7, 6, 3, 6, 38), datetime.datetime(2016, 7, 6, 3, 6, 31), datetime.datetime(2016, 7, 5, 1, 8, 34), datetime.datetime(2016, 7, 5, 0, 45, 55), datetime.datetime(2016, 7, 5, 0, 45, 44), datetime.datetime(2016, 7, 5, 0, 45, 39), datetime.datetime(2016, 7, 3, 20, 14, 38), datetime.datetime(2016, 7, 3, 8, 1, 48), datetime.datetime(2016, 7, 3, 8, 1, 36), datetime.datetime(2016, 7, 3, 8, 1, 21), datetime.datetime(2016, 7, 3, 8, 1, 2), datetime.datetime(2016, 7, 3, 8, 0, 31), datetime.datetime(2016, 7, 3, 4, 36, 18), datetime.datetime(2016, 7, 3, 4, 36, 17), datetime.datetime(2016, 7, 3, 4, 34, 52), datetime.datetime(2016, 7, 3, 4, 34, 44), datetime.datetime(2016, 7, 3, 2, 42, 18), datetime.datetime(2016, 7, 3, 2, 40, 9), datetime.datetime(2016, 7, 3, 2, 39, 46), datetime.datetime(2016, 7, 2, 4, 41, 28), datetime.datetime(2016, 7, 1, 23, 16, 54), datetime.datetime(2016, 7, 1, 22, 26, 13), datetime.datetime(2016, 7, 1, 22, 22, 33), datetime.datetime(2016, 6, 30, 22, 22, 3), datetime.datetime(2016, 6, 30, 22, 21, 40), datetime.datetime(2016, 6, 30, 22, 21, 36), datetime.datetime(2016, 6, 30, 22, 21, 33), datetime.datetime(2016, 6, 30, 22, 21, 24), datetime.datetime(2016, 6, 30, 22, 21, 18), datetime.datetime(2016, 6, 30, 22, 21, 14), datetime.datetime(2016, 6, 30, 21, 36, 27), datetime.datetime(2016, 6, 30, 21, 26, 3), datetime.datetime(2016, 6, 30, 21, 25, 45), datetime.datetime(2016, 6, 30, 21, 15, 9), datetime.datetime(2016, 6, 30, 21, 14, 48), datetime.datetime(2016, 6, 30, 21, 14, 16), datetime.datetime(2016, 6, 30, 21, 13, 55), datetime.datetime(2016, 6, 30, 4, 7, 47), datetime.datetime(2016, 6, 30, 1, 2, 32), datetime.datetime(2016, 6, 30, 1, 1, 48), datetime.datetime(2016, 6, 29, 17, 34, 55), datetime.datetime(2016, 6, 29, 17, 34, 55), datetime.datetime(2016, 6, 29, 17, 34, 46), datetime.datetime(2016, 6, 29, 5, 17, 58), datetime.datetime(2016, 6, 29, 5, 17, 58), datetime.datetime(2016, 6, 29, 4, 40, 58), datetime.datetime(2016, 6, 29, 4, 40, 42), datetime.datetime(2016, 6, 29, 2, 53, 43), datetime.datetime(2016, 6, 29, 1, 39, 45), datetime.datetime(2016, 6, 29, 1, 39, 3), datetime.datetime(2016, 6, 29, 1, 38, 48), datetime.datetime(2016, 6, 29, 1, 38, 1), datetime.datetime(2016, 6, 28, 3, 49, 42), datetime.datetime(2016, 6, 28, 3, 49, 34), datetime.datetime(2016, 6, 28, 3, 49, 34), datetime.datetime(2016, 6, 28, 3, 49, 29), datetime.datetime(2016, 6, 28, 3, 49, 19), datetime.datetime(2016, 6, 28, 3, 49, 10), datetime.datetime(2016, 6, 28, 3, 2, 35), datetime.datetime(2016, 6, 28, 3, 2, 28), datetime.datetime(2016, 6, 28, 3, 2, 17), datetime.datetime(2016, 6, 27, 17, 48, 41), datetime.datetime(2016, 6, 27, 3, 54, 50), datetime.datetime(2016, 6, 26, 20, 46, 1), datetime.datetime(2016, 6, 26, 17, 56, 49), datetime.datetime(2016, 6, 26, 6, 36, 51), datetime.datetime(2016, 6, 26, 6, 36, 41), datetime.datetime(2016, 6, 25, 4, 41, 5), datetime.datetime(2016, 6, 25, 3, 45, 55), datetime.datetime(2016, 6, 25, 2, 56, 17), datetime.datetime(2016, 6, 25, 0, 7, 26), datetime.datetime(2016, 6, 24, 1, 28, 34), datetime.datetime(2016, 6, 24, 1, 27, 41), datetime.datetime(2016, 6, 24, 1, 27, 31), datetime.datetime(2016, 6, 24, 0, 40, 13), datetime.datetime(2016, 6, 24, 0, 39, 57), datetime.datetime(2016, 6, 24, 0, 39, 21), datetime.datetime(2016, 6, 24, 0, 39, 19), datetime.datetime(2016, 6, 24, 0, 39, 15), datetime.datetime(2016, 6, 24, 0, 39, 10), datetime.datetime(2016, 6, 24, 0, 38, 5), datetime.datetime(2016, 6, 24, 0, 38), datetime.datetime(2016, 6, 23, 0, 9, 15), datetime.datetime(2016, 6, 23, 0, 9, 5), datetime.datetime(2016, 6, 22, 23, 1, 53), datetime.datetime(2016, 6, 22, 23, 1, 47), datetime.datetime(2016, 6, 22, 5, 40, 48), datetime.datetime(2016, 6, 22, 5, 40, 45), datetime.datetime(2016, 6, 22, 5, 40, 41), datetime.datetime(2016, 6, 22, 5, 40, 28), datetime.datetime(2016, 6, 22, 5, 40, 15), datetime.datetime(2016, 6, 22, 5, 40, 14), datetime.datetime(2016, 6, 22, 5, 40, 5), datetime.datetime(2016, 6, 22, 5, 40, 1), datetime.datetime(2016, 6, 22, 5, 39, 51), datetime.datetime(2016, 6, 22, 5, 39, 42), datetime.datetime(2016, 6, 22, 5, 39, 8), datetime.datetime(2016, 6, 22, 5, 38, 52), datetime.datetime(2016, 6, 22, 5, 38, 47), datetime.datetime(2016, 6, 22, 5, 25, 11), datetime.datetime(2016, 6, 22, 5, 25, 8), datetime.datetime(2016, 6, 22, 5, 24, 57), datetime.datetime(2016, 6, 22, 5, 9, 47), datetime.datetime(2016, 6, 22, 5, 9, 36), datetime.datetime(2016, 6, 22, 5, 9, 29), datetime.datetime(2016, 6, 22, 5, 8, 17), datetime.datetime(2016, 6, 22, 5, 7, 15), datetime.datetime(2016, 6, 22, 5, 7, 13), datetime.datetime(2016, 6, 22, 5, 7, 4), datetime.datetime(2016, 6, 20, 19, 6, 58), datetime.datetime(2016, 6, 20, 17, 50, 44), datetime.datetime(2016, 6, 20, 17, 50, 25), datetime.datetime(2016, 6, 20, 17, 50, 20), datetime.datetime(2016, 6, 20, 17, 50, 2), datetime.datetime(2016, 6, 20, 4, 18, 57), datetime.datetime(2016, 6, 20, 4, 18, 7)], 'ip': ['70.209.201.77', '70.209.201.77', '70.209.201.77', '70.209.201.77', '70.209.201.77', '70.209.208.98', '70.209.208.98', '70.209.208.98', '70.187.187.85', '70.187.187.85', '70.187.187.85', '70.187.187.85', '70.187.187.85', '70.187.187.85', '70.187.187.85', '70.187.187.85', '70.187.187.85', '70.187.187.85', '70.187.187.85', '70.187.187.85', '70.187.187.85', '70.187.187.85', '70.187.187.85', '70.187.187.85', '70.187.187.85', '70.187.187.85', '70.187.187.85', '70.187.187.85', '70.187.187.85', '70.187.187.85', '70.187.187.85', '70.187.187.85', '70.187.187.85', '70.187.187.85', '70.187.187.85', '70.187.187.85', '70.187.187.85', '70.187.187.85', '70.187.187.85', '68.231.213.182', '68.231.213.182', '68.231.213.182', '68.231.213.182', '68.231.213.182', '70.187.187.85', '70.187.187.85', '70.187.187.85', '68.231.213.182', '68.231.213.182', '68.231.213.182', '68.231.213.182', '68.231.213.182', '68.231.213.182', '68.231.213.182', '68.231.213.182', '68.231.213.182', '68.231.213.182', '68.231.213.182', '68.231.213.182', '68.231.213.182', '68.231.213.182', '68.231.213.182', '68.231.213.182', '68.231.213.182', '68.231.213.182', '68.231.213.182', '70.187.187.85', '70.187.187.85', '70.187.187.85', '70.187.187.85', '70.187.187.85', '70.187.187.85', '70.187.187.85', '70.187.187.85', '70.187.187.85', '70.187.187.85', '70.187.187.85', '70.187.187.85', '70.187.187.85', '70.187.187.85', '70.187.187.85', '70.187.187.85', '70.187.187.85', '70.187.187.85', '70.187.187.85', '70.187.187.85', '70.187.187.85', '70.187.187.85', '70.187.187.85', '70.187.187.85', '70.187.187.85', '70.187.187.85', '70.187.187.85', '70.187.187.85', '70.187.187.85', '70.187.187.85', '70.187.187.85', '70.187.187.85', '70.187.187.85', '70.187.187.85', '70.187.187.85', '70.187.187.85', '70.187.187.85', '70.187.187.85', '70.187.187.85', '70.187.187.85', '70.187.187.85', '70.187.187.85', '70.187.187.85', '70.187.187.85', '70.187.187.85', '70.187.187.85', '70.187.187.85', '70.187.187.85', '70.187.187.85', '70.187.187.85', '70.187.187.85', '70.187.187.85', '70.187.187.85', '70.187.187.85', '70.187.187.85', '70.187.187.85', '70.187.187.85', '70.187.187.85', '70.187.187.85', '70.187.187.85', '70.187.187.85', '70.187.187.85', '70.187.187.85', '70.187.187.85', '70.187.187.85', '70.187.187.85', '70.187.187.85', '70.187.187.85', '70.187.187.85', '70.187.187.85', '70.187.187.85', '70.187.187.85', '70.187.187.85', '70.187.187.85', '70.187.187.85', '70.187.187.85', '70.187.187.85', '70.187.187.85', '70.187.187.85', '70.187.187.85', '70.187.187.85', '70.187.187.85', '70.187.187.85', '70.187.187.85', '70.187.187.85', '70.187.187.85', '70.187.187.85', '70.187.187.85', '70.187.187.85', '70.187.187.85', '70.187.187.85', '70.187.187.85', '70.187.187.85', '70.187.187.85', '70.187.187.85', '70.187.187.85', '70.187.187.85', '70.187.187.85', '70.187.187.85', '70.187.187.85', '70.187.187.85', '70.187.187.85', '70.187.187.85', '70.187.187.85', '70.187.187.85', '70.187.187.85', '70.187.187.85', '70.187.187.85', '70.187.187.85', '70.187.187.85', '70.187.187.85', '70.187.187.85', '70.187.187.85', '70.187.187.85', '70.187.187.85', '70.187.187.85', '70.187.187.85', '70.187.187.85', '70.187.187.85', '70.187.187.85', '70.187.187.85', '70.187.187.85', '70.187.187.85', '70.187.187.85', '70.187.187.85', '70.187.187.85', '70.187.187.85', '70.187.187.85', '70.187.187.85', '70.187.187.85', '70.187.187.85', '70.187.187.85', '70.187.187.85', '70.187.187.85', '70.187.187.85', '70.187.187.85', '70.187.187.85', '70.187.187.85', '70.187.187.85', '99.109.146.209', '99.109.146.209', '99.109.146.209', '99.109.146.209', '23.241.154.49', '23.241.154.49', '23.241.154.49', '23.241.154.49', '23.241.154.49', '23.241.154.49', '23.241.154.49', '23.241.154.49', '23.241.154.49', '23.241.154.49', '23.241.154.49', '23.241.154.49', '23.241.154.49', '70.187.187.85', '70.187.187.85', '70.187.187.85', '70.187.187.85', '169.234.63.151', '169.234.63.151', '169.234.63.151', '169.234.63.151', '169.234.63.151', '169.234.63.151', '169.234.63.151', '169.234.63.151', '169.234.63.151', '169.234.63.151', '169.234.63.151', '169.234.63.151', '169.234.63.151', '169.234.63.151', '70.187.187.85', '70.187.187.85', '70.187.187.85', '70.187.187.85', '70.187.187.85', '70.187.187.85', '70.187.187.85', '70.187.187.85', '70.187.187.85', '70.187.187.85', '70.187.187.85', '70.187.187.85', '70.187.187.85', '70.187.187.85', '70.187.187.85', '70.187.187.85', '70.187.187.85', '70.187.187.85', '70.187.187.85', '70.187.187.85', '70.187.187.85', '184.189.203.244', '184.189.203.244', '184.189.203.244', '70.187.187.85', '70.187.187.85', '70.187.187.85', '70.187.187.85', '70.187.187.85', '70.187.187.85', '70.187.187.85', '70.187.187.85', '70.187.187.85', '70.187.187.85', '70.187.187.85', '70.187.187.85', '70.187.187.85', '70.187.187.85', '70.187.187.85', '70.187.187.85', '70.187.187.85', '70.187.187.85', '70.187.187.85', '70.187.187.85', '70.187.187.85', '70.187.187.85', '70.187.187.85', '70.187.187.85', '70.187.187.85', '70.187.187.85', '70.187.187.85', '70.187.187.85', '70.187.187.85', '70.187.187.85', '70.187.187.85', '70.187.187.85', '70.187.187.85', '70.187.187.85', '70.187.187.85', '70.187.187.85', '70.187.187.85', '70.187.187.85', '70.187.187.85', '70.187.187.85', '70.187.187.85', '70.187.187.85', '70.187.187.85', '70.187.187.85', '70.187.187.85', '70.187.187.85', '70.187.187.85', '70.187.187.85', '70.187.187.85', '70.187.187.85', '70.187.187.85', '70.187.187.85', '70.187.187.85', '70.187.187.85', '70.187.187.85']}\n"
     ]
    }
   ],
   "source": [
    "print student_data"
   ]
  },
  {
   "cell_type": "markdown",
   "metadata": {},
   "source": [
    "## 2.2 Load multiple csv files from a folder"
   ]
  },
  {
   "cell_type": "markdown",
   "metadata": {},
   "source": [
    "We have .csv file for each student.<br>\n",
    "Each csv file has columns `url`, `created_at` (timestamp), `remote_ip` (IP address), and etc.\n",
    "\n",
    "`student_data1 = {\"url\":[url1, url2, ...], \"created_at\":[time1, time2, ...], \"remote_ip\":[ip1, ip2, ip3, ..], ...}`\n",
    "\n",
    "Total data will be a dictionary, where the keys are the student ID's and the values are the data of that student (above `student_data`). <br>\n",
    "If the ID of the first three students were 1,2 and 3, the total data would look something like below.\n",
    "\n",
    "`data = {1:student_data1, 2:student_data2, 3:student_data3, ...}`"
   ]
  },
  {
   "cell_type": "code",
   "execution_count": 50,
   "metadata": {
    "collapsed": false,
    "scrolled": true
   },
   "outputs": [
    {
     "name": "stdout",
     "output_type": "stream",
     "text": [
      "./deidentified_data/104500.csv\n",
      "./deidentified_data/104716.csv\n",
      "./deidentified_data/105751.csv\n",
      "./deidentified_data/106707.csv\n",
      "./deidentified_data/130996.csv\n",
      "./deidentified_data/133180.csv\n",
      "./deidentified_data/140533.csv\n",
      "./deidentified_data/141747.csv\n",
      "./deidentified_data/141925.csv\n",
      "./deidentified_data/143914.csv\n",
      "./deidentified_data/145670.csv\n",
      "./deidentified_data/146863.csv\n",
      "./deidentified_data/147718.csv\n",
      "./deidentified_data/149531.csv\n",
      "./deidentified_data/161048.csv\n",
      "./deidentified_data/168272.csv\n",
      "./deidentified_data/170223.csv\n",
      "./deidentified_data/170432.csv\n",
      "./deidentified_data/175489.csv\n",
      "./deidentified_data/177681.csv\n",
      "./deidentified_data/178174.csv\n",
      "./deidentified_data/180174.csv\n",
      "./deidentified_data/182504.csv\n",
      "./deidentified_data/183023.csv\n",
      "./deidentified_data/197521.csv\n",
      "./deidentified_data/198967.csv\n",
      "./deidentified_data/199241.csv\n",
      "./deidentified_data/200213.csv\n",
      "./deidentified_data/204748.csv\n",
      "./deidentified_data/205399.csv\n",
      "./deidentified_data/214859.csv\n",
      "./deidentified_data/215400.csv\n",
      "./deidentified_data/219450.csv\n",
      "./deidentified_data/226412.csv\n",
      "./deidentified_data/231943.csv\n",
      "./deidentified_data/235765.csv\n",
      "./deidentified_data/237519.csv\n",
      "./deidentified_data/238015.csv\n",
      "./deidentified_data/243861.csv\n",
      "./deidentified_data/261820.csv\n",
      "./deidentified_data/276402.csv\n",
      "./deidentified_data/281031.csv\n",
      "./deidentified_data/288266.csv\n",
      "./deidentified_data/295360.csv\n",
      "./deidentified_data/299868.csv\n",
      "./deidentified_data/300495.csv\n",
      "./deidentified_data/304461.csv\n",
      "./deidentified_data/307656.csv\n",
      "./deidentified_data/321628.csv\n",
      "./deidentified_data/321917.csv\n",
      "./deidentified_data/325700.csv\n",
      "./deidentified_data/331387.csv\n",
      "./deidentified_data/334203.csv\n",
      "./deidentified_data/334953.csv\n",
      "./deidentified_data/340310.csv\n",
      "./deidentified_data/345089.csv\n",
      "./deidentified_data/346931.csv\n",
      "./deidentified_data/351132.csv\n",
      "./deidentified_data/358425.csv\n",
      "./deidentified_data/362123.csv\n",
      "./deidentified_data/364842.csv\n",
      "./deidentified_data/367687.csv\n",
      "./deidentified_data/371246.csv\n",
      "./deidentified_data/372017.csv\n",
      "./deidentified_data/385563.csv\n",
      "./deidentified_data/400323.csv\n",
      "./deidentified_data/407162.csv\n",
      "./deidentified_data/409639.csv\n",
      "./deidentified_data/411700.csv\n",
      "./deidentified_data/429492.csv\n",
      "./deidentified_data/432697.csv\n",
      "./deidentified_data/438165.csv\n",
      "./deidentified_data/438171.csv\n",
      "./deidentified_data/450617.csv\n",
      "./deidentified_data/453902.csv\n",
      "./deidentified_data/455346.csv\n",
      "./deidentified_data/462383.csv\n",
      "./deidentified_data/475486.csv\n",
      "./deidentified_data/480786.csv\n",
      "./deidentified_data/482931.csv\n",
      "./deidentified_data/491579.csv\n",
      "./deidentified_data/498458.csv\n",
      "./deidentified_data/499769.csv\n",
      "./deidentified_data/507347.csv\n",
      "./deidentified_data/508735.csv\n",
      "./deidentified_data/518321.csv\n",
      "./deidentified_data/529371.csv\n",
      "./deidentified_data/531161.csv\n",
      "./deidentified_data/538148.csv\n",
      "./deidentified_data/548808.csv\n",
      "./deidentified_data/556811.csv\n",
      "./deidentified_data/557446.csv\n",
      "./deidentified_data/568332.csv\n",
      "./deidentified_data/571486.csv\n",
      "./deidentified_data/571608.csv\n",
      "./deidentified_data/575990.csv\n",
      "./deidentified_data/578062.csv\n",
      "./deidentified_data/589476.csv\n",
      "./deidentified_data/591403.csv\n",
      "./deidentified_data/592464.csv\n"
     ]
    }
   ],
   "source": [
    "deidentified_data_dir = './deidentified_data'\n",
    "\n",
    "for filename in os.listdir(deidentified_data_dir):\n",
    "#     print filename\n",
    "    csv_file = os.path.join(deidentified_data_dir, filename)\n",
    "    print csv_file"
   ]
  },
  {
   "cell_type": "code",
   "execution_count": 51,
   "metadata": {
    "collapsed": false
   },
   "outputs": [
    {
     "data": {
      "text/plain": [
       "'592464'"
      ]
     },
     "execution_count": 51,
     "metadata": {},
     "output_type": "execute_result"
    }
   ],
   "source": [
    "filename.split(\".\")[0]"
   ]
  },
  {
   "cell_type": "code",
   "execution_count": 54,
   "metadata": {
    "collapsed": true
   },
   "outputs": [],
   "source": [
    "### Create a dictionary that will store all the students data!\n",
    "data = {}\n",
    "dt_format = \"%Y-%m-%dT%H:%M:%SZ\"\n",
    "\n",
    "for filename in os.listdir(deidentified_data_dir):\n",
    "    \n",
    "    csv_file = os.path.join(deidentified_data_dir, filename)\n",
    "\n",
    "    url_list =[]\n",
    "    category_list = []\n",
    "    time_list = []\n",
    "    ip_list = []\n",
    "    \n",
    "    rid = int( filename.split(\".\")[0]  )\n",
    "    \n",
    "    with open(csv_file, 'r') as f:\n",
    "        reader = csv.reader(f, delimiter=\",\")\n",
    "        header = reader.next()\n",
    "        \n",
    "        for line in reader:\n",
    "#             rid = int(line[0])\n",
    "            url = line[1]\n",
    "            timestamp = datetime.strptime(line[3], dt_format)\n",
    "            ip = line[5]\n",
    "            cat = get_cats_from_url(url)\n",
    "            \n",
    "            url_list.append(url)\n",
    "            category_list.append(cat)\n",
    "            time_list.append(timestamp)\n",
    "            ip_list.append(ip)\n",
    "    \n",
    "    student_data = {\"url\":url_list, \"created_at\":time_list, \"ip\":ip_list, \"category\":category_list}\n",
    "    \n",
    "    # Save \"student_data\" dict (each student's data) to the \"data\" dictionary\n",
    "    # where the key is the student's random ID \n",
    "    data[rid] = student_data"
   ]
  },
  {
   "cell_type": "code",
   "execution_count": 55,
   "metadata": {
    "collapsed": false,
    "scrolled": true
   },
   "outputs": [
    {
     "data": {
      "text/plain": [
       "[345089,\n",
       " 231943,\n",
       " 288266,\n",
       " 568332,\n",
       " 578062,\n",
       " 177681,\n",
       " 480786,\n",
       " 200213,\n",
       " 358425,\n",
       " 149531,\n",
       " 538148,\n",
       " 145670,\n",
       " 409639,\n",
       " 143914,\n",
       " 591403,\n",
       " 371246,\n",
       " 462383,\n",
       " 104500,\n",
       " 432697,\n",
       " 491579,\n",
       " 133180,\n",
       " 325700,\n",
       " 367687,\n",
       " 199241,\n",
       " 592464,\n",
       " 205399,\n",
       " 321628,\n",
       " 571486,\n",
       " 141925,\n",
       " 334953,\n",
       " 226412,\n",
       " 482931,\n",
       " 548808,\n",
       " 407162,\n",
       " 331387,\n",
       " 170432,\n",
       " 362123,\n",
       " 243861,\n",
       " 385563,\n",
       " 589476,\n",
       " 518321,\n",
       " 455346,\n",
       " 261820,\n",
       " 170223,\n",
       " 106707,\n",
       " 571608,\n",
       " 531161,\n",
       " 300495,\n",
       " 182504,\n",
       " 183023,\n",
       " 235765,\n",
       " 147718,\n",
       " 556811,\n",
       " 104716,\n",
       " 453902,\n",
       " 105751,\n",
       " 161048,\n",
       " 498458,\n",
       " 364842,\n",
       " 372017,\n",
       " 346931,\n",
       " 198967,\n",
       " 411700,\n",
       " 219450,\n",
       " 508735,\n",
       " 214859,\n",
       " 304461,\n",
       " 168272,\n",
       " 340310,\n",
       " 450617,\n",
       " 299868,\n",
       " 475486,\n",
       " 215400,\n",
       " 238015,\n",
       " 334203,\n",
       " 321917,\n",
       " 175489,\n",
       " 557446,\n",
       " 429492,\n",
       " 197521,\n",
       " 438165,\n",
       " 438171,\n",
       " 351132,\n",
       " 146863,\n",
       " 276402,\n",
       " 141747,\n",
       " 130996,\n",
       " 499769,\n",
       " 140533,\n",
       " 295360,\n",
       " 400323,\n",
       " 281031,\n",
       " 307656,\n",
       " 204748,\n",
       " 180174,\n",
       " 237519,\n",
       " 507347,\n",
       " 529371,\n",
       " 575990,\n",
       " 178174]"
      ]
     },
     "execution_count": 55,
     "metadata": {},
     "output_type": "execute_result"
    }
   ],
   "source": [
    "data.keys()"
   ]
  },
  {
   "cell_type": "code",
   "execution_count": 56,
   "metadata": {
    "collapsed": false
   },
   "outputs": [
    {
     "data": {
      "text/plain": [
       "'https://canvas.eee.uci.edu/courses/2230/files/742190/download?download_frd=1'"
      ]
     },
     "execution_count": 56,
     "metadata": {},
     "output_type": "execute_result"
    }
   ],
   "source": [
    "# Try accessing a single student's data using \"data\" dictionary and student's random id\n",
    "data[104500][\"url\"][0]"
   ]
  },
  {
   "cell_type": "markdown",
   "metadata": {},
   "source": [
    " "
   ]
  },
  {
   "cell_type": "markdown",
   "metadata": {},
   "source": [
    "<br>\n",
    "<br>\n",
    "\n",
    "# Part 3 : Convert the data into a matrix\n",
    "-------------------------------\n",
    "\n",
    "We want to convert the whole data as a matrix where the rows are the students and the columns are the days,<br>\n",
    "and each value in a matrix is a **number of click events per day for each student**."
   ]
  },
  {
   "cell_type": "markdown",
   "metadata": {},
   "source": [
    "## `numpy` array"
   ]
  },
  {
   "cell_type": "code",
   "execution_count": 57,
   "metadata": {
    "collapsed": true
   },
   "outputs": [],
   "source": [
    "import numpy as np"
   ]
  },
  {
   "cell_type": "code",
   "execution_count": 58,
   "metadata": {
    "collapsed": false
   },
   "outputs": [
    {
     "data": {
      "text/plain": [
       "array([[1, 2, 3],\n",
       "       [4, 5, 6]])"
      ]
     },
     "execution_count": 58,
     "metadata": {},
     "output_type": "execute_result"
    }
   ],
   "source": [
    "list_2d = [[1,2,3], [4,5,6]]\n",
    "# list_2d[0][0]\n",
    "np.array(list_2d)"
   ]
  },
  {
   "cell_type": "markdown",
   "metadata": {},
   "source": [
    "#### `np.array` is useful when initialization is needed\n",
    "- `np.zeros()` : Initializing numpy arrays to zeros\n",
    "- `np.ones()` : Initializaing numpy arrays to ones"
   ]
  },
  {
   "cell_type": "code",
   "execution_count": 59,
   "metadata": {
    "collapsed": false
   },
   "outputs": [
    {
     "data": {
      "text/plain": [
       "array([[ 1.,  1.,  1.,  1.,  1.,  1.],\n",
       "       [ 1.,  1.,  1.,  1.,  1.,  1.],\n",
       "       [ 1.,  1.,  1.,  1.,  1.,  1.],\n",
       "       [ 1.,  1.,  1.,  1.,  1.,  1.],\n",
       "       [ 1.,  1.,  1.,  1.,  1.,  1.]])"
      ]
     },
     "execution_count": 59,
     "metadata": {},
     "output_type": "execute_result"
    }
   ],
   "source": [
    "# np.zeros((2,3))\n",
    "np.ones((5,6))"
   ]
  },
  {
   "cell_type": "code",
   "execution_count": 60,
   "metadata": {
    "collapsed": false
   },
   "outputs": [
    {
     "data": {
      "text/plain": [
       "array([ 0.,  0.,  0.,  0.,  0.,  0.,  0.,  0.,  0.,  0.,  0.,  0.,  0.,\n",
       "        0.,  0.,  0.,  0.,  0.,  0.,  0.,  0.,  0.,  0.,  0.,  0.,  0.,\n",
       "        0.,  0.,  0.,  0.,  0.,  0.,  0.,  0.,  0.,  0.,  0.,  0.,  0.,\n",
       "        0.,  0.,  0.,  0.,  0.,  0.,  0.,  0.,  0.,  0.,  0.])"
      ]
     },
     "execution_count": 60,
     "metadata": {},
     "output_type": "execute_result"
    }
   ],
   "source": [
    "np.zeros(50)"
   ]
  },
  {
   "cell_type": "markdown",
   "metadata": {},
   "source": [
    "Create an array for a single student first. "
   ]
  },
  {
   "cell_type": "code",
   "execution_count": 61,
   "metadata": {
    "collapsed": true
   },
   "outputs": [],
   "source": [
    "# For a single student \n",
    "student_data = data[104500]\n",
    "\n",
    "max_days = 50\n",
    "first_day = datetime(2016 ,6 ,13 ,0 ,0 ,0)\n",
    "\n",
    "# n^th entry in this array corresponds to the \n",
    "# number of clicks per day on the n^th day since the first day\n",
    "nclicks_per_day = np.zeros(max_days, dtype=np.int32)\n",
    "\n",
    "# number of all clicks\n",
    "for time in student_data['created_at']:\n",
    "    delta = time - first_day\n",
    "    if 0 <= delta.days < max_days:\n",
    "        nclicks_per_day[delta.days] += 1\n",
    "#         nclicks_per_day[delta.days] = nclicks_per_day[delta.days] + 1"
   ]
  },
  {
   "cell_type": "code",
   "execution_count": 62,
   "metadata": {
    "collapsed": false
   },
   "outputs": [
    {
     "data": {
      "text/plain": [
       "array([ 0,  0,  0,  0,  0,  0,  0,  7,  0, 25,  2, 11,  4,  4,  2,  9, 12,\n",
       "       17,  3,  1, 13,  0,  4, 10,  0,  6,  0,  0,  8,  5,  2,  5,  5,  4,\n",
       "       38, 33, 17,  6, 15,  7,  5, 11,  3, 13,  7,  0,  0,  0,  0,  5], dtype=int32)"
      ]
     },
     "execution_count": 62,
     "metadata": {},
     "output_type": "execute_result"
    }
   ],
   "source": [
    "nclicks_per_day"
   ]
  },
  {
   "cell_type": "markdown",
   "metadata": {},
   "source": [
    "Make it as a function"
   ]
  },
  {
   "cell_type": "code",
   "execution_count": 63,
   "metadata": {
    "collapsed": true
   },
   "outputs": [],
   "source": [
    "def get_nclicks_per_day(student_data, max_days=50, first_day=datetime(2016,6,13,0,0,0)):\n",
    "    nclicks_per_day = np.zeros(max_days, dtype=np.int32)\n",
    "\n",
    "    \"\"\"Fill in the body of the function\"\"\"\n",
    "    for time in student_data['created_at']:\n",
    "        delta = time - first_day\n",
    "        if 0 <= delta.days < max_days:\n",
    "            nclicks_per_day[delta.days] += 1\n",
    "            \n",
    "    return nclicks_per_day"
   ]
  },
  {
   "cell_type": "code",
   "execution_count": 64,
   "metadata": {
    "collapsed": false
   },
   "outputs": [
    {
     "data": {
      "text/plain": [
       "array([ 0,  0,  0,  0,  0,  0,  0,  0,  0,  3,  0,  0, 10, 16, 71,  4,  1,\n",
       "        3,  0,  3,  7,  3,  1,  9,  5,  0,  9,  1, 12,  0, 14,  9,  0,  0,\n",
       "        0, 10,  0,  9, 20,  0,  1,  4,  7, 12,  2,  0,  4,  0,  1,  0], dtype=int32)"
      ]
     },
     "execution_count": 64,
     "metadata": {},
     "output_type": "execute_result"
    }
   ],
   "source": [
    "# Test the above function\n",
    "get_nclicks_per_day(data[104716])"
   ]
  },
  {
   "cell_type": "markdown",
   "metadata": {},
   "source": [
    "Use the above function and generate a matrix with size (n_students, max_days) for all student data. "
   ]
  },
  {
   "cell_type": "code",
   "execution_count": 65,
   "metadata": {
    "collapsed": false
   },
   "outputs": [],
   "source": [
    "n_students = len(data)\n",
    "n_students = len(data.keys())\n",
    "max_days = 50\n",
    "\n",
    "# Each row of this matrix corresponds to each student,\n",
    "# and each column is the days since the first day\n",
    "nclicks_per_day_mat = np.zeros((n_students, max_days)) #, dtype=np.int32)\n",
    "\n",
    "idx = 0\n",
    "for rid in data.keys():\n",
    "    nclicks_per_day_mat[idx,:] = get_nclicks_per_day(data[rid])\n",
    "#     nclicks_per_day_mat[idx] = get_nclicks_per_day(data[rid])\n",
    "    idx += 1 # idx = idx + 1"
   ]
  },
  {
   "cell_type": "code",
   "execution_count": 66,
   "metadata": {
    "collapsed": false,
    "scrolled": true
   },
   "outputs": [],
   "source": [
    "for idx, rid in enumerate(data.keys()):\n",
    "    nclicks_per_day_mat[idx] = get_nclicks_per_day(data[rid])"
   ]
  },
  {
   "cell_type": "markdown",
   "metadata": {},
   "source": [
    "Same as above, but now we will create two additional mapping data structures: <br>\n",
    "`index2id` that maps the index to the random ID,  and `id2index` that maps random ID to the index.  Index starts from 0 to (n_students-1).\n",
    "\n",
    "These will be useful when working with the matrix, where each row is a student with index=row index."
   ]
  },
  {
   "cell_type": "code",
   "execution_count": 69,
   "metadata": {
    "collapsed": true
   },
   "outputs": [],
   "source": [
    "id2index = {}  # dictionary with keys : random id , value : index\n",
    "index2id = []  # We don't need to use dictionary here since the index starts from 0.\n",
    "for idx, rid in enumerate(data.keys()):\n",
    "    id2index[rid] = idx\n",
    "    index2id.append(rid)\n",
    "    nclicks_per_day_mat[idx] = get_nclicks_per_day(data[rid])"
   ]
  },
  {
   "cell_type": "code",
   "execution_count": 70,
   "metadata": {
    "collapsed": false
   },
   "outputs": [
    {
     "data": {
      "text/plain": [
       "array([[  0.,  11.,   0., ...,   0.,   0.,   0.],\n",
       "       [  0.,   0.,   0., ...,   0.,   0.,   0.],\n",
       "       [  0.,   0.,   0., ...,   0.,   0.,   1.],\n",
       "       ..., \n",
       "       [ 44.,  35.,   0., ...,   1.,   0.,   0.],\n",
       "       [ 15.,   0.,   0., ...,   2.,   0.,   3.],\n",
       "       [  0.,   0.,  18., ...,  16.,   0.,   0.]])"
      ]
     },
     "execution_count": 70,
     "metadata": {},
     "output_type": "execute_result"
    }
   ],
   "source": [
    "nclicks_per_day_mat"
   ]
  },
  {
   "cell_type": "code",
   "execution_count": 73,
   "metadata": {
    "collapsed": false,
    "scrolled": true
   },
   "outputs": [
    {
     "data": {
      "text/plain": [
       "[345089,\n",
       " 231943,\n",
       " 288266,\n",
       " 568332,\n",
       " 578062,\n",
       " 177681,\n",
       " 480786,\n",
       " 200213,\n",
       " 358425,\n",
       " 149531,\n",
       " 538148,\n",
       " 145670,\n",
       " 409639,\n",
       " 143914,\n",
       " 591403,\n",
       " 371246,\n",
       " 462383,\n",
       " 104500,\n",
       " 432697,\n",
       " 491579,\n",
       " 133180,\n",
       " 325700,\n",
       " 367687,\n",
       " 199241,\n",
       " 592464,\n",
       " 205399,\n",
       " 321628,\n",
       " 571486,\n",
       " 141925,\n",
       " 334953,\n",
       " 226412,\n",
       " 482931,\n",
       " 548808,\n",
       " 407162,\n",
       " 331387,\n",
       " 170432,\n",
       " 362123,\n",
       " 243861,\n",
       " 385563,\n",
       " 589476,\n",
       " 518321,\n",
       " 455346,\n",
       " 261820,\n",
       " 170223,\n",
       " 106707,\n",
       " 571608,\n",
       " 531161,\n",
       " 300495,\n",
       " 182504,\n",
       " 183023,\n",
       " 235765,\n",
       " 147718,\n",
       " 556811,\n",
       " 104716,\n",
       " 453902,\n",
       " 105751,\n",
       " 161048,\n",
       " 498458,\n",
       " 364842,\n",
       " 372017,\n",
       " 346931,\n",
       " 198967,\n",
       " 411700,\n",
       " 219450,\n",
       " 508735,\n",
       " 214859,\n",
       " 304461,\n",
       " 168272,\n",
       " 340310,\n",
       " 450617,\n",
       " 299868,\n",
       " 475486,\n",
       " 215400,\n",
       " 238015,\n",
       " 334203,\n",
       " 321917,\n",
       " 175489,\n",
       " 557446,\n",
       " 429492,\n",
       " 197521,\n",
       " 438165,\n",
       " 438171,\n",
       " 351132,\n",
       " 146863,\n",
       " 276402,\n",
       " 141747,\n",
       " 130996,\n",
       " 499769,\n",
       " 140533,\n",
       " 295360,\n",
       " 400323,\n",
       " 281031,\n",
       " 307656,\n",
       " 204748,\n",
       " 180174,\n",
       " 237519,\n",
       " 507347,\n",
       " 529371,\n",
       " 575990,\n",
       " 178174]"
      ]
     },
     "execution_count": 73,
     "metadata": {},
     "output_type": "execute_result"
    }
   ],
   "source": [
    "index2id"
   ]
  },
  {
   "cell_type": "code",
   "execution_count": 116,
   "metadata": {
    "collapsed": false
   },
   "outputs": [
    {
     "data": {
      "text/plain": [
       "(100, 50)"
      ]
     },
     "execution_count": 116,
     "metadata": {},
     "output_type": "execute_result"
    }
   ],
   "source": [
    "nclicks_per_day_mat.shape"
   ]
  },
  {
   "cell_type": "code",
   "execution_count": 119,
   "metadata": {
    "collapsed": false
   },
   "outputs": [
    {
     "data": {
      "text/plain": [
       "(3, 5, 6)"
      ]
     },
     "execution_count": 119,
     "metadata": {},
     "output_type": "execute_result"
    }
   ],
   "source": [
    "arr_3d = np.zeros((3,5,6))\n",
    "arr_3d.shape"
   ]
  },
  {
   "cell_type": "markdown",
   "metadata": {},
   "source": [
    "<br>\n",
    "<br>\n",
    "\n",
    "# Part 4 : Save matrix into a csv file"
   ]
  },
  {
   "cell_type": "code",
   "execution_count": 120,
   "metadata": {
    "collapsed": true
   },
   "outputs": [],
   "source": [
    "# Use csv.writer()\n",
    "\n",
    "outfile = './nclicks_per_day_mat.csv'\n",
    "with open(outfile, 'w') as f:\n",
    "    writer = csv.writer(f, delimiter=\",\")\n",
    "    writer.writerows(nclicks_per_day_mat)"
   ]
  },
  {
   "cell_type": "code",
   "execution_count": 123,
   "metadata": {
    "collapsed": false,
    "scrolled": true
   },
   "outputs": [
    {
     "data": {
      "text/plain": [
       "[0,\n",
       " 1,\n",
       " 2,\n",
       " 3,\n",
       " 4,\n",
       " 5,\n",
       " 6,\n",
       " 7,\n",
       " 8,\n",
       " 9,\n",
       " 10,\n",
       " 11,\n",
       " 12,\n",
       " 13,\n",
       " 14,\n",
       " 15,\n",
       " 16,\n",
       " 17,\n",
       " 18,\n",
       " 19,\n",
       " 20,\n",
       " 21,\n",
       " 22,\n",
       " 23,\n",
       " 24,\n",
       " 25,\n",
       " 26,\n",
       " 27,\n",
       " 28,\n",
       " 29,\n",
       " 30,\n",
       " 31,\n",
       " 32,\n",
       " 33,\n",
       " 34,\n",
       " 35,\n",
       " 36,\n",
       " 37,\n",
       " 38,\n",
       " 39,\n",
       " 40,\n",
       " 41,\n",
       " 42,\n",
       " 43,\n",
       " 44,\n",
       " 45,\n",
       " 46,\n",
       " 47,\n",
       " 48,\n",
       " 49]"
      ]
     },
     "execution_count": 123,
     "metadata": {},
     "output_type": "execute_result"
    }
   ],
   "source": [
    "range(50)"
   ]
  },
  {
   "cell_type": "code",
   "execution_count": 124,
   "metadata": {
    "collapsed": true
   },
   "outputs": [],
   "source": [
    "header = ['day'+str(i) for i in range(max_days)]"
   ]
  },
  {
   "cell_type": "code",
   "execution_count": 129,
   "metadata": {
    "collapsed": true
   },
   "outputs": [],
   "source": [
    "header = []\n",
    "for i in range(max_days):\n",
    "    header.append('day'+str(i))"
   ]
  },
  {
   "cell_type": "code",
   "execution_count": 130,
   "metadata": {
    "collapsed": false
   },
   "outputs": [
    {
     "name": "stdout",
     "output_type": "stream",
     "text": [
      "['day0', 'day1', 'day2', 'day3', 'day4', 'day5', 'day6', 'day7', 'day8', 'day9', 'day10', 'day11', 'day12', 'day13', 'day14', 'day15', 'day16', 'day17', 'day18', 'day19', 'day20', 'day21', 'day22', 'day23', 'day24', 'day25', 'day26', 'day27', 'day28', 'day29', 'day30', 'day31', 'day32', 'day33', 'day34', 'day35', 'day36', 'day37', 'day38', 'day39', 'day40', 'day41', 'day42', 'day43', 'day44', 'day45', 'day46', 'day47', 'day48', 'day49']\n"
     ]
    }
   ],
   "source": [
    "print header"
   ]
  },
  {
   "cell_type": "code",
   "execution_count": 131,
   "metadata": {
    "collapsed": true
   },
   "outputs": [],
   "source": [
    "# if you want to add a column header ['day0', 'day1', 'day2', ...]\n",
    "\n",
    "outfile = './nclicks_per_day_mat_with_header.csv'\n",
    "with open(outfile, 'w') as f:\n",
    "    writer = csv.writer(f, delimiter=',')\n",
    "    writer.writerow(header)\n",
    "    writer.writerows(nclicks_per_day_mat)"
   ]
  },
  {
   "cell_type": "markdown",
   "metadata": {},
   "source": [
    "## Save matrix with the random ID in the first column"
   ]
  },
  {
   "cell_type": "code",
   "execution_count": 89,
   "metadata": {
    "collapsed": false
   },
   "outputs": [],
   "source": [
    "# First convert the index2id list to the numpy array, and then make it into a column array.\n",
    "index2id_ar = np.array(index2id)[:, None]\n",
    "\n",
    "# Concatenate two arrays 1)index2id 2)nclicks_per_day_mat using 'np.concatenate'\n",
    "nclicks_per_day_mat_rid = np.concatenate((index2id_ar, nclicks_per_day_mat), axis=1)\n",
    "# Set the array data type to integer\n",
    "nclicks_per_day_mat_rid = np.array(nclicks_per_day_mat_rid, dtype=np.int) "
   ]
  },
  {
   "cell_type": "code",
   "execution_count": 90,
   "metadata": {
    "collapsed": false
   },
   "outputs": [
    {
     "data": {
      "text/plain": [
       "array([[345089,      0,     11, ...,      0,      0,      0],\n",
       "       [231943,      0,      0, ...,      0,      0,      0],\n",
       "       [288266,      0,      0, ...,      0,      0,      1],\n",
       "       ..., \n",
       "       [529371,     44,     35, ...,      1,      0,      0],\n",
       "       [575990,     15,      0, ...,      2,      0,      3],\n",
       "       [178174,      0,      0, ...,     16,      0,      0]])"
      ]
     },
     "execution_count": 90,
     "metadata": {},
     "output_type": "execute_result"
    }
   ],
   "source": [
    "# print\n",
    "nclicks_per_day_mat_rid"
   ]
  },
  {
   "cell_type": "code",
   "execution_count": 92,
   "metadata": {
    "collapsed": true
   },
   "outputs": [],
   "source": [
    "outfile = './nclicks_per_day_mat_rid.csv'\n",
    "with open(outfile, 'w') as f:\n",
    "    writer = csv.writer(f, delimiter=\",\")\n",
    "    writer.writerows(nclicks_per_day_mat_rid)"
   ]
  },
  {
   "cell_type": "code",
   "execution_count": 94,
   "metadata": {
    "collapsed": false
   },
   "outputs": [],
   "source": [
    "# With header\n",
    "header = ['roster_randomid'] + ['day'+str(i) for i in range(max_days)]\n",
    "\n",
    "outfile = './nclicks_per_day_mat_rid_with_header.csv'\n",
    "with open(outfile, 'w') as f:\n",
    "    writer = csv.writer(f, delimiter=',')\n",
    "    writer.writerow(header)\n",
    "    writer.writerows(nclicks_per_day_mat_rid)"
   ]
  },
  {
   "cell_type": "markdown",
   "metadata": {},
   "source": [
    "<br>\n",
    "<br>\n",
    "\n",
    "# Part 5 : Plotting with `matplotlib.pyplot`"
   ]
  },
  {
   "cell_type": "code",
   "execution_count": 134,
   "metadata": {
    "collapsed": false
   },
   "outputs": [],
   "source": [
    "import matplotlib.pyplot as plt\n",
    "%matplotlib inline"
   ]
  },
  {
   "cell_type": "markdown",
   "metadata": {},
   "source": [
    "### Barplot using `plt.bar()`\n",
    "documentation : http://matplotlib.org/api/pyplot_api.html#matplotlib.pyplot.bar <br>\n",
    "Plot the average number of clicks per day by student using the above `nclicks_per_day_mat` matrix"
   ]
  },
  {
   "cell_type": "code",
   "execution_count": 141,
   "metadata": {
    "collapsed": false
   },
   "outputs": [
    {
     "data": {
      "text/plain": [
       "(50,)"
      ]
     },
     "execution_count": 141,
     "metadata": {},
     "output_type": "execute_result"
    }
   ],
   "source": [
    "avg_nclicks = np.mean(nclicks_per_day_mat, axis=0)\n",
    "avg_nclicks\n",
    "avg_nclicks.shape"
   ]
  },
  {
   "cell_type": "code",
   "execution_count": 153,
   "metadata": {
    "collapsed": false
   },
   "outputs": [
    {
     "data": {
      "image/png": "[encoded data removed]",
      "text/plain": [
       "<matplotlib.figure.Figure at 0x1072d6d10>"
      ]
     },
     "metadata": {},
     "output_type": "display_data"
    }
   ],
   "source": [
    "\n",
    "fig = plt.figure(figsize=(6,4))\n",
    "plt.bar(range(max_days), avg_nclicks, linewidth=0, figure=fig)\n",
    "plt.xlabel('DAYS')\n",
    "plt.ylabel('AVERAGE NUMBER OF CLICKS PER DAY BY STUDENT')\n",
    "plt.grid(alpha=0.2)\n",
    "# plt.show()\n",
    "# Save figure\n",
    "barplot_fname = './barplot.pdf'\n",
    "plt.savefig(barplot_fname)\n",
    "# plt.close()"
   ]
  },
  {
   "cell_type": "code",
   "execution_count": 150,
   "metadata": {
    "collapsed": false
   },
   "outputs": [
    {
     "data": {
      "text/plain": [
       "<matplotlib.figure.Figure at 0x106923210>"
      ]
     },
     "metadata": {},
     "output_type": "display_data"
    }
   ],
   "source": [
    "\n"
   ]
  },
  {
   "cell_type": "markdown",
   "metadata": {
    "collapsed": true
   },
   "source": [
    "### Plot heatmap using `plt.imshow()`\n",
    "Documentation : http://matplotlib.org/api/pyplot_api.html#matplotlib.pyplot.imshow <br>\n",
    "Plot `nclicks_per_day_mat` matrix"
   ]
  },
  {
   "cell_type": "code",
   "execution_count": 139,
   "metadata": {
    "collapsed": false
   },
   "outputs": [
    {
     "data": {
      "image/png": "[encoded data removed]",
      "text/plain": [
       "<matplotlib.figure.Figure at 0x1075527d0>"
      ]
     },
     "metadata": {},
     "output_type": "display_data"
    }
   ],
   "source": [
    "fig = plt.figure(figsize=(7,6))\n",
    "plt.imshow(nclicks_per_day_mat, interpolation='nearest', aspect='auto', cmap='Greys', figure=fig)\n",
    "plt.xlabel('DAYS', fontsize=13)\n",
    "plt.ylabel('STUDENTS', fontsize=13)\n",
    "plt.colorbar()\n",
    "\n",
    "## To remove x and y ticks\n",
    "# plt.xticks([])\n",
    "# plt.yticks([])\n",
    "\n",
    "\n",
    "# Save figure\n",
    "heatmap_fname = './heatmap.pdf'\n",
    "plt.savefig(heatmap_fname)\n"
   ]
  },
  {
   "cell_type": "code",
   "execution_count": 136,
   "metadata": {
    "collapsed": true
   },
   "outputs": [],
   "source": [
    "plt.close()"
   ]
  },
  {
   "cell_type": "markdown",
   "metadata": {},
   "source": [
    "<br>\n",
    "<br>\n",
    "# Part 6 : Different Click Matrices\n",
    "\n",
    "Taking subset of the data by data types (e.g. by categories, preview activities.. )"
   ]
  },
  {
   "cell_type": "markdown",
   "metadata": {},
   "source": [
    "#### Quick introduction to `enumerate` and `zip`"
   ]
  },
  {
   "cell_type": "code",
   "execution_count": 154,
   "metadata": {
    "collapsed": false
   },
   "outputs": [
    {
     "name": "stdout",
     "output_type": "stream",
     "text": [
      "0 a\n",
      "1 b\n",
      "2 c\n"
     ]
    }
   ],
   "source": [
    "lst = [\"a\", \"b\", \"c\"]\n",
    "for i, item in enumerate(lst):\n",
    "    print i, item"
   ]
  },
  {
   "cell_type": "code",
   "execution_count": 155,
   "metadata": {
    "collapsed": false
   },
   "outputs": [
    {
     "name": "stdout",
     "output_type": "stream",
     "text": [
      "a z\n",
      "b y\n",
      "c x\n"
     ]
    }
   ],
   "source": [
    "lst2 = [\"z\", \"y\", \"x\"]\n",
    "for item1, item2 in zip(lst, lst2):\n",
    "    print item1, item2"
   ]
  },
  {
   "cell_type": "markdown",
   "metadata": {},
   "source": [
    "### Number of *category* clicks for each student "
   ]
  },
  {
   "cell_type": "markdown",
   "metadata": {},
   "source": [
    "Use **`get_cats_from_url`** function and **`enumerate`** to get an array of category clicks.\n",
    "<br>\n",
    "Note that we need to access both the **timestamp** and the **URL** of the same event. "
   ]
  },
  {
   "cell_type": "code",
   "execution_count": 156,
   "metadata": {
    "collapsed": true
   },
   "outputs": [],
   "source": [
    "nclicks_per_day_cat = np.zeros(max_days, dtype=np.int32)\n",
    "student_data = data[104500]\n",
    "\n",
    "for i, time in enumerate(student_data['created_at']):\n",
    "    cat = get_cats_from_url(student_data['url'][i])\n",
    "    if cat == \"homepage\":\n",
    "        delta = time - first_day\n",
    "        if 0 <= delta.days < max_days:\n",
    "            nclicks_per_day_cat[delta.days] += 1"
   ]
  },
  {
   "cell_type": "code",
   "execution_count": 157,
   "metadata": {
    "collapsed": false
   },
   "outputs": [
    {
     "data": {
      "text/plain": [
       "array([ 0,  0,  0,  0,  0,  0,  0,  1,  0,  9,  1,  5,  0,  2,  0,  3,  3,\n",
       "        8,  0,  1,  3,  0,  1,  4,  0,  3,  0,  0,  1,  2,  1,  1,  2,  2,\n",
       "       17, 13,  8,  3,  5,  3,  2,  4,  0,  1,  3,  0,  0,  0,  0,  1], dtype=int32)"
      ]
     },
     "execution_count": 157,
     "metadata": {},
     "output_type": "execute_result"
    }
   ],
   "source": [
    "nclicks_per_day_cat"
   ]
  },
  {
   "cell_type": "code",
   "execution_count": 158,
   "metadata": {
    "collapsed": true
   },
   "outputs": [],
   "source": [
    "nclicks_per_day_cat2 = np.zeros(max_days)\n",
    "\n",
    "for time, url in zip(student_data['created_at'], student_data['url']):\n",
    "    cat = get_cats_from_url(url)\n",
    "    if cat == \"homepage\":\n",
    "        delta = time - first_day\n",
    "        if 0 <= delta.days < max_days:\n",
    "            nclicks_per_day_cat2[delta.days] += 1"
   ]
  },
  {
   "cell_type": "markdown",
   "metadata": {},
   "source": [
    "Make it as a function. Use either `zip` or `enumerate`."
   ]
  },
  {
   "cell_type": "code",
   "execution_count": 160,
   "metadata": {
    "collapsed": false
   },
   "outputs": [],
   "source": [
    "# For each student, return a row\n",
    "def get_nclicks_per_day_cat(student_data, category='homepage', max_days=50, first_day=datetime(2016,6,13,0,0,0)):\n",
    "    nclicks_per_day_cat = np.zeros(max_days, dtype=np.int32)\n",
    "\n",
    "    for time, url in zip(student_data['created_at'], student_data['url']):\n",
    "        cat = get_cats_from_url(url)\n",
    "        if cat == category:\n",
    "            delta = time - first_day\n",
    "            if 0 <= delta.days < max_days:\n",
    "                nclicks_per_day_cat[delta.days] += 1\n",
    "    \n",
    "    return nclicks_per_day_cat"
   ]
  },
  {
   "cell_type": "code",
   "execution_count": 163,
   "metadata": {
    "collapsed": false
   },
   "outputs": [
    {
     "data": {
      "text/plain": [
       "array([ 0,  0,  0,  0,  0,  0,  0,  1,  0,  9,  1,  5,  0,  2,  0,  3,  3,\n",
       "        8,  0,  1,  3,  0,  1,  4,  0,  3,  0,  0,  1,  2,  1,  1,  2,  2,\n",
       "       17, 13,  8,  3,  5,  3,  2,  4,  0,  1,  3,  0,  0,  0,  0,  1], dtype=int32)"
      ]
     },
     "execution_count": 163,
     "metadata": {},
     "output_type": "execute_result"
    }
   ],
   "source": [
    "# Test\n",
    "get_nclicks_per_day_cat(student_data, category='homepage')"
   ]
  },
  {
   "cell_type": "markdown",
   "metadata": {},
   "source": [
    "### Get a matrix of number of *homepage* clicks"
   ]
  },
  {
   "cell_type": "code",
   "execution_count": 165,
   "metadata": {
    "collapsed": false
   },
   "outputs": [],
   "source": [
    "n_students = len(data)\n",
    "max_days = 50\n",
    "\n",
    "nclicks_per_day_mat_hp = np.zeros((n_students, max_days))\n",
    "\n",
    "for idx, rid in enumerate(data.keys()):\n",
    "    nclicks_per_day_mat_hp[idx] = get_nclicks_per_day_cat(data[rid], category='homepage')"
   ]
  },
  {
   "cell_type": "code",
   "execution_count": 166,
   "metadata": {
    "collapsed": false
   },
   "outputs": [
    {
     "data": {
      "text/plain": [
       "array([[  0.,   5.,   0., ...,   0.,   0.,   0.],\n",
       "       [  0.,   0.,   0., ...,   0.,   0.,   0.],\n",
       "       [  0.,   0.,   0., ...,   0.,   0.,   1.],\n",
       "       ..., \n",
       "       [ 15.,  10.,   0., ...,   0.,   0.,   0.],\n",
       "       [  7.,   0.,   0., ...,   1.,   0.,   1.],\n",
       "       [  0.,   0.,   4., ...,   8.,   0.,   0.]])"
      ]
     },
     "execution_count": 166,
     "metadata": {},
     "output_type": "execute_result"
    }
   ],
   "source": [
    "nclicks_per_day_mat_hp"
   ]
  },
  {
   "cell_type": "code",
   "execution_count": 167,
   "metadata": {
    "collapsed": false
   },
   "outputs": [
    {
     "data": {
      "text/plain": [
       "array([[  0.,  11.,   0., ...,   0.,   0.,   0.],\n",
       "       [  0.,   0.,   0., ...,   0.,   0.,   0.],\n",
       "       [  0.,   0.,   0., ...,   0.,   0.,   1.],\n",
       "       ..., \n",
       "       [ 44.,  35.,   0., ...,   1.,   0.,   0.],\n",
       "       [ 15.,   0.,   0., ...,   2.,   0.,   3.],\n",
       "       [  0.,   0.,  18., ...,  16.,   0.,   0.]])"
      ]
     },
     "execution_count": 167,
     "metadata": {},
     "output_type": "execute_result"
    }
   ],
   "source": [
    "nclicks_per_day_mat"
   ]
  },
  {
   "cell_type": "markdown",
   "metadata": {
    "collapsed": true
   },
   "source": [
    "### Exercise : Save the matrix"
   ]
  },
  {
   "cell_type": "code",
   "execution_count": 168,
   "metadata": {
    "collapsed": false
   },
   "outputs": [],
   "source": [
    "import csv\n",
    "outfile = './homepage_nclicks_per_day_mat.csv'\n",
    "\n",
    "with open(outfile, 'w') as f:\n",
    "    writer = csv.writer(f, delimiter=\",\")\n",
    "    writer.writerows(nclicks_per_day_mat_hp)"
   ]
  },
  {
   "cell_type": "markdown",
   "metadata": {},
   "source": [
    "### Exercise : Plot the matrix using `plt.imshow()`"
   ]
  },
  {
   "cell_type": "code",
   "execution_count": null,
   "metadata": {
    "collapsed": false
   },
   "outputs": [],
   "source": [
    "fig = plt.figure(figsize=(7,6))\n",
    "\"\"\"Plot the matrix using plt.imshow()\"\"\""
   ]
  },
  {
   "cell_type": "markdown",
   "metadata": {},
   "source": [
    "<br>\n",
    "<br>\n",
    "# Part 7: Students with more/less activities\n",
    "\n",
    "Split the students in to two different groups by the total number of clicks. <br>\n",
    "Let's try by simply thresholding using **`np.where()`**. Use the median value as a threshold."
   ]
  },
  {
   "cell_type": "code",
   "execution_count": null,
   "metadata": {
    "collapsed": false
   },
   "outputs": [],
   "source": [
    "tot_nclicks = np.sum(nclicks_per_day_mat, axis=1)\n",
    "print np.max(tot_nclicks), np.min(tot_nclicks), np.median(tot_nclicks)"
   ]
  },
  {
   "cell_type": "code",
   "execution_count": null,
   "metadata": {
    "collapsed": false
   },
   "outputs": [],
   "source": [
    "thresh = np.median(tot_nclicks)\n",
    "more_active_idx = np.where(tot_nclicks >= thresh)[0]\n",
    "less_active_idx = np.where(tot_nclicks < thresh)[0]"
   ]
  },
  {
   "cell_type": "markdown",
   "metadata": {},
   "source": [
    "Generate two matrices using the two index arrays.<br>\n",
    "First, we need to concatenate two numpy arrays into a list or a numpy array. We introduce two ways to do this. <br>\n",
    "- Convert each numpy arrays into a `list`, concatenate them using **+** sign  : `list(a) + list(b)`\n",
    "- Use `np.concatenate((a,b))` "
   ]
  },
  {
   "cell_type": "code",
   "execution_count": null,
   "metadata": {
    "collapsed": false
   },
   "outputs": [],
   "source": [
    "idx_reordered = list(more_active_idx) + list(less_active_idx)\n",
    "nclicks_per_day_mat_reordered = nclicks_per_day_mat[idx_reordered, :]"
   ]
  },
  {
   "cell_type": "markdown",
   "metadata": {},
   "source": [
    "Plot the matrix with re-ordered rows."
   ]
  },
  {
   "cell_type": "code",
   "execution_count": null,
   "metadata": {
    "collapsed": false
   },
   "outputs": [],
   "source": [
    "fig = plt.figure(figsize=(7,6))\n",
    "plt.imshow(nclicks_per_day_mat_reordered, interpolation='nearest', aspect='auto', cmap='Greys', figure=fig)\n",
    "plt.xlabel('DAYS', fontsize=13)\n",
    "plt.ylabel('STUDENTS', fontsize=13)\n",
    "plt.colorbar()"
   ]
  },
  {
   "cell_type": "markdown",
   "metadata": {},
   "source": [
    "The matrix is too white. This is because there are a few entries with very large counts (dark black color), which hides all the granularity of the data. <br>\n",
    "To have a better look at the data, we can choose a maximum value (threshold) that we want to plot, and set all the values in the matrix higher than the threshold to the value of the threshold.<br>\n",
    "What would be the adequate value for the threshold?"
   ]
  },
  {
   "cell_type": "code",
   "execution_count": null,
   "metadata": {
    "collapsed": false
   },
   "outputs": [],
   "source": [
    "# print out the min, max, mean, median values. We can see that the data is very skewed!\n",
    "print np.min(nclicks_per_day_mat_reordered), np.max(nclicks_per_day_mat_reordered)\n",
    "print np.mean(nclicks_per_day_mat_reordered), np.median(nclicks_per_day_mat_reordered)"
   ]
  },
  {
   "cell_type": "code",
   "execution_count": null,
   "metadata": {
    "collapsed": false
   },
   "outputs": [],
   "source": [
    "nclicks_per_day_mat_reordered[np.where(nclicks_per_day_mat_reordered > 100)] = 100"
   ]
  },
  {
   "cell_type": "code",
   "execution_count": null,
   "metadata": {
    "collapsed": false
   },
   "outputs": [],
   "source": [
    "fig = plt.figure(figsize=(7,6))\n",
    "plt.imshow(nclicks_per_day_mat_reordered, interpolation='nearest', aspect='auto', cmap='Greys', figure=fig)\n",
    "plt.xlabel('DAYS', fontsize=13)\n",
    "plt.ylabel('STUDENTS', fontsize=13)\n",
    "plt.colorbar()"
   ]
  },
  {
   "cell_type": "markdown",
   "metadata": {},
   "source": [
    "### Extra exercise\n",
    "Sort the rows by the number of total clicks, and order the rows from the most active student to the least active student using `np.argsort()`."
   ]
  },
  {
   "cell_type": "code",
   "execution_count": null,
   "metadata": {
    "collapsed": true
   },
   "outputs": [],
   "source": [
    "sorted_idx = np.argsort(tot_nclicks)[::-1]\n",
    "sorted_mat = nclicks_per_day_mat[sorted_idx]"
   ]
  },
  {
   "cell_type": "code",
   "execution_count": null,
   "metadata": {
    "collapsed": false
   },
   "outputs": [],
   "source": [
    "fig = plt.figure(figsize=(7,6))\n",
    "plt.imshow(sorted_mat, interpolation='nearest', aspect='auto', cmap='Greys', figure=fig)\n",
    "plt.xlabel('DAYS', fontsize=13)\n",
    "plt.ylabel('STUDENTS', fontsize=13)\n",
    "plt.colorbar()\n",
    "plt.show()"
   ]
  }
 ],
 "metadata": {
  "anaconda-cloud": {},
  "kernelspec": {
   "display_name": "Python [conda root]",
   "language": "python",
   "name": "conda-root-py"
  },
  "language_info": {
   "codemirror_mode": {
    "name": "ipython",
    "version": 2
   },
   "file_extension": ".py",
   "mimetype": "text/x-python",
   "name": "python",
   "nbconvert_exporter": "python",
   "pygments_lexer": "ipython2",
   "version": "2.7.12"
  }
 },
 "nbformat": 4,
 "nbformat_minor": 1
}
