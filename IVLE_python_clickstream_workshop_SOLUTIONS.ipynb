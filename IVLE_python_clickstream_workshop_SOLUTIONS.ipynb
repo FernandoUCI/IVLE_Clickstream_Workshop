{
 "cells": [
  {
   "cell_type": "markdown",
   "metadata": {
    "collapsed": true
   },
   "source": [
    "# IVLE Python Clickstream Workshop\n",
    "-------------------------------\n",
    "**An entry-level tutorial using Python and its packages to work with the Canvas LMS clickstream data.**\n",
    "\n",
    "By Jihyun Park (`jihyunp@ics.uci.edu`)<br>\n",
    "Department of Computer Science, University of California, Irvine<br>\n",
    "June 2, 2017\n",
    "(Modified on Aug 25, 2017)\n"
   ]
  },
  {
   "cell_type": "markdown",
   "metadata": {
    "collapsed": true
   },
   "source": [
    "## Outline\n",
    "-----------------------\n",
    "### Part 1 : Warm Up\n",
    "- Basics of List\n",
    "- Useful functions for string\n",
    "- Working with folder and file paths\n",
    "- Dictionary\n",
    "\n",
    "### Part 2 : Load Data\n",
    "- Load data from a single csv file\n",
    "- Load multiple csv files from a folder\n",
    "\n",
    "### Part 3 : Convert the Data into a Matrix\n",
    "- numpy arrays\n",
    "- Transform loaded data to a mtrix\n",
    "\n",
    "### Part 4 : Save Matrix into a csv File\n",
    "- Save a matrix into a text .csv file using csv package\n",
    "\n",
    "### Part 5 : Plotting with `matplotlib.pyplot` \n",
    "- Bar plot\n",
    "- Heatmap\n",
    "\n",
    "### Part 6 : Different Click Matrices\n",
    "- Number of homepage/file clicks\n",
    "- repeat the part 3-5\n",
    "\n",
    "### Part 7: Students with more/less activities\n",
    "- Thresholding with `np.where()`\n",
    "- Re-ordering the rows in a matrix (2D np.array)\n",
    "\n",
    "<br>"
   ]
  },
  {
   "cell_type": "markdown",
   "metadata": {},
   "source": [
    "## Requirements\n",
    "----------------------------\n",
    "You need to know basic syntax of python language, such as `for ` loop, `if` statements, defining functions (`def`), and etc. \n",
    "\n",
    "Python 2.7 should be installed.<br>\n",
    "The following list of packages should be installed as well. <br>\n",
    "[Installing python via anaconda](https://www.continuum.io/downloads) can be helpful since it includes all of them!\n",
    "- Jupyter notebook! (You won't be able to see this if it's not installed)\n",
    "- numpy\n",
    "- matplotlib\n",
    "- datetime\n",
    "- csv\n",
    "- os\n",
    "\n",
    "<br>"
   ]
  },
  {
   "cell_type": "markdown",
   "metadata": {
    "collapsed": true
   },
   "source": [
    "# Part 1 : Warm Up\n",
    "---------------------------"
   ]
  },
  {
   "cell_type": "markdown",
   "metadata": {},
   "source": [
    "## 1.0 List"
   ]
  },
  {
   "cell_type": "code",
   "execution_count": null,
   "metadata": {
    "collapsed": true
   },
   "outputs": [],
   "source": [
    "# 1. Define a list with values in the first place\n",
    "lst1 = [1,2,3]\n",
    "lst2 = [\"a\", \"b\", \"c\"]"
   ]
  },
  {
   "cell_type": "code",
   "execution_count": null,
   "metadata": {
    "collapsed": false
   },
   "outputs": [],
   "source": [
    "# 2. Define an empty list and then append the list\n",
    "lst3 = []\n",
    "lst3.append(1)\n",
    "lst3.append(2)"
   ]
  },
  {
   "cell_type": "code",
   "execution_count": null,
   "metadata": {
    "collapsed": false
   },
   "outputs": [],
   "source": [
    "lst3"
   ]
  },
  {
   "cell_type": "code",
   "execution_count": null,
   "metadata": {
    "collapsed": false
   },
   "outputs": [],
   "source": [
    "lst1"
   ]
  },
  {
   "cell_type": "markdown",
   "metadata": {},
   "source": [
    "Access the list using an index using square brackets"
   ]
  },
  {
   "cell_type": "code",
   "execution_count": null,
   "metadata": {
    "collapsed": false
   },
   "outputs": [],
   "source": [
    "# Index starts from 0\n",
    "lst3[0]"
   ]
  },
  {
   "cell_type": "code",
   "execution_count": null,
   "metadata": {
    "collapsed": false
   },
   "outputs": [],
   "source": [
    "# Put the first element in the lst3 into a variable 'value', and print the 'value'\n",
    "value = lst3[0]\n",
    "print value"
   ]
  },
  {
   "cell_type": "markdown",
   "metadata": {},
   "source": [
    "## 1.1 URL, String\n",
    "### Split function"
   ]
  },
  {
   "cell_type": "code",
   "execution_count": null,
   "metadata": {
    "collapsed": false
   },
   "outputs": [],
   "source": [
    "soe_url = \"http://education.uci.edu\"\n",
    "# soe_url = 'http://education.uci.edu'\n",
    "soe_phd_url = \"http://education.uci.edu/phd-in-education.html\""
   ]
  },
  {
   "cell_type": "code",
   "execution_count": null,
   "metadata": {
    "collapsed": false
   },
   "outputs": [],
   "source": [
    "# Try using .split(\"/\") to above strings and print them out\n",
    "soe_url.split(\"/\")"
   ]
  },
  {
   "cell_type": "code",
   "execution_count": null,
   "metadata": {
    "collapsed": false
   },
   "outputs": [],
   "source": [
    "# Save the list as a variable and try printing it out\n",
    "# Also try printing out the length of the list\n",
    "split_list = soe_url.split(\"/\")\n",
    "print len(split_list)\n",
    "print split_list"
   ]
  },
  {
   "cell_type": "code",
   "execution_count": null,
   "metadata": {
    "collapsed": true
   },
   "outputs": [],
   "source": [
    "# Function that returns the length of the URL, split with \"/\"\n",
    "# Make url as an argument\n",
    "\n",
    "def get_slash_split_len(url):\n",
    "    split_list = url.split(\"/\")\n",
    "    result = len(split_list)\n",
    "    return result"
   ]
  },
  {
   "cell_type": "code",
   "execution_count": null,
   "metadata": {
    "collapsed": false
   },
   "outputs": [],
   "source": [
    "# Test\n",
    "get_slash_split_len(\"a/b/c/d/e\")"
   ]
  },
  {
   "cell_type": "markdown",
   "metadata": {},
   "source": [
    "Take a look at the real URLs from the csv files. <br>\n",
    "We want to categorize the URLs into categories such as 'homepage', 'files', 'assignments' and etc. <br>\n",
    "The easiest way to do this is take the 5th element of the list, which is the URL split by delimiter \"/\"."
   ]
  },
  {
   "cell_type": "code",
   "execution_count": null,
   "metadata": {
    "collapsed": false
   },
   "outputs": [],
   "source": [
    "url_file = \"https://canvas.eee.uci.edu/courses/2230/files/742190?module_item_id=62039\"  # -> categorize as \"files\"\n",
    "url_assignment = \"https://canvas.eee.uci.edu/courses/2230/assignments/49367/submissions\"  # -> categorize as \"assignments\"\n",
    "url_home = \"https://canvas.eee.uci.edu/courses/2230\"  # -> categorize as \"homepage\""
   ]
  },
  {
   "cell_type": "markdown",
   "metadata": {
    "collapsed": true
   },
   "source": [
    "- Homepage : Only 4 slashes exist. We can filter this case out.\n",
    "- Others : More than 5 slashes exist. "
   ]
  },
  {
   "cell_type": "code",
   "execution_count": null,
   "metadata": {
    "collapsed": false
   },
   "outputs": [],
   "source": [
    "url_file.split(\"/\")"
   ]
  },
  {
   "cell_type": "code",
   "execution_count": null,
   "metadata": {
    "collapsed": false
   },
   "outputs": [],
   "source": [
    "url_assignment.split(\"/\")[5]"
   ]
  },
  {
   "cell_type": "code",
   "execution_count": null,
   "metadata": {
    "collapsed": true
   },
   "outputs": [],
   "source": [
    "def get_cats_from_url(url):\n",
    "    \"\"\"If there are 5 or more slashes, \n",
    "       return the 6th element in the array (that we get from .split() function)\"\"\"\n",
    "    if len(url.split(\"/\")) < 6:\n",
    "        return \"homepage\"\n",
    "    else:\n",
    "        return url.split(\"/\")[5]"
   ]
  },
  {
   "cell_type": "code",
   "execution_count": null,
   "metadata": {
    "collapsed": false
   },
   "outputs": [],
   "source": [
    "# Test\n",
    "print get_cats_from_url(url_file)\n",
    "print get_cats_from_url(url_home)"
   ]
  },
  {
   "cell_type": "markdown",
   "metadata": {},
   "source": [
    "## 1.2 `datetime`"
   ]
  },
  {
   "cell_type": "code",
   "execution_count": null,
   "metadata": {
    "collapsed": true
   },
   "outputs": [],
   "source": [
    "from datetime import datetime, timedelta"
   ]
  },
  {
   "cell_type": "code",
   "execution_count": null,
   "metadata": {
    "collapsed": true
   },
   "outputs": [],
   "source": []
  },
  {
   "cell_type": "code",
   "execution_count": null,
   "metadata": {
    "collapsed": false
   },
   "outputs": [],
   "source": [
    "dt1 = datetime(2016, 7, 20)\n",
    "print dt1"
   ]
  },
  {
   "cell_type": "markdown",
   "metadata": {},
   "source": [
    "### Extracting date time information and create a datetime object\n",
    "More information at : https://docs.python.org/2/library/datetime.html#strftime-and-strptime-behavior"
   ]
  },
  {
   "cell_type": "code",
   "execution_count": null,
   "metadata": {
    "collapsed": false
   },
   "outputs": [],
   "source": [
    "# From the string, we want to extract the date and time information.\n",
    "example_date = \"2016-07-24T21:36:07Z\"\n",
    "dt_format = \"%Y-%m-%dT%H:%M:%SZ\"\n",
    "\n",
    "dt2 = datetime.strptime(example_date, dt_format)"
   ]
  },
  {
   "cell_type": "code",
   "execution_count": null,
   "metadata": {
    "collapsed": false
   },
   "outputs": [],
   "source": [
    "print dt2\n",
    "print type(dt2)"
   ]
  },
  {
   "cell_type": "code",
   "execution_count": null,
   "metadata": {
    "collapsed": false
   },
   "outputs": [],
   "source": [
    "dt2 "
   ]
  },
  {
   "cell_type": "markdown",
   "metadata": {},
   "source": [
    "### `timedelta`"
   ]
  },
  {
   "cell_type": "code",
   "execution_count": null,
   "metadata": {
    "collapsed": false
   },
   "outputs": [],
   "source": [
    "print dt1\n",
    "print dt2"
   ]
  },
  {
   "cell_type": "code",
   "execution_count": null,
   "metadata": {
    "collapsed": false
   },
   "outputs": [],
   "source": [
    "dt_delta = dt2-dt1\n",
    "print dt_delta"
   ]
  },
  {
   "cell_type": "code",
   "execution_count": null,
   "metadata": {
    "collapsed": false
   },
   "outputs": [],
   "source": [
    "dt_delta"
   ]
  },
  {
   "cell_type": "code",
   "execution_count": null,
   "metadata": {
    "collapsed": false
   },
   "outputs": [],
   "source": [
    "time_diff_days = dt_delta.days\n",
    "time_diff_secs = dt_delta.seconds\n",
    "print time_diff_days, \"days and \", time_diff_secs, \"seconds\""
   ]
  },
  {
   "cell_type": "code",
   "execution_count": null,
   "metadata": {
    "collapsed": false
   },
   "outputs": [],
   "source": [
    "4* 3600*24 + 77767"
   ]
  },
  {
   "cell_type": "code",
   "execution_count": null,
   "metadata": {
    "collapsed": false
   },
   "outputs": [],
   "source": [
    "time_diff_in_seconds = dt_delta.total_seconds()\n",
    "print time_diff_in_seconds"
   ]
  },
  {
   "cell_type": "code",
   "execution_count": null,
   "metadata": {
    "collapsed": false
   },
   "outputs": [],
   "source": [
    "dt1"
   ]
  },
  {
   "cell_type": "code",
   "execution_count": null,
   "metadata": {
    "collapsed": false
   },
   "outputs": [],
   "source": [
    "dt1 + timedelta(0, 3600*8)"
   ]
  },
  {
   "cell_type": "markdown",
   "metadata": {},
   "source": [
    "## 1.3 Accessing File/Folder Paths\n",
    "\n",
    "All the folders and files have paths that are similar to URLs. <br>\n",
    "We can access the files and folders using the paths. "
   ]
  },
  {
   "cell_type": "markdown",
   "metadata": {},
   "source": [
    "### List files in a directory :  `os.listdir`"
   ]
  },
  {
   "cell_type": "code",
   "execution_count": null,
   "metadata": {
    "collapsed": false,
    "scrolled": true
   },
   "outputs": [],
   "source": [
    "import os\n",
    "os.listdir(\"./deidentified_data\")"
   ]
  },
  {
   "cell_type": "code",
   "execution_count": null,
   "metadata": {
    "collapsed": false
   },
   "outputs": [],
   "source": [
    "len(os.listdir(\"./deidentified_data\"))"
   ]
  },
  {
   "cell_type": "markdown",
   "metadata": {},
   "source": [
    "### Concatenate folder/file paths : `os.path.join`\n",
    "\n",
    "You can also do this by string concatenation (using `+`), but this is less confusing and is less prone to errors."
   ]
  },
  {
   "cell_type": "code",
   "execution_count": null,
   "metadata": {
    "collapsed": false
   },
   "outputs": [],
   "source": [
    "directory = './deidentified_data'\n",
    "file_name = '199241.csv'\n",
    "print directory + \"/\" + file_name"
   ]
  },
  {
   "cell_type": "code",
   "execution_count": null,
   "metadata": {
    "collapsed": false
   },
   "outputs": [],
   "source": [
    "os.path.join(directory, file_name)"
   ]
  },
  {
   "cell_type": "markdown",
   "metadata": {},
   "source": [
    "## 1.4 Dictionary\n",
    "\n",
    "Access `value` using `key`. <br>\n",
    "`key` doesn't have to be an integer as in list.<br>\n",
    "Let's say we want to have a dictionary where the `key` is a `string` and the `value` is a `list`"
   ]
  },
  {
   "cell_type": "code",
   "execution_count": null,
   "metadata": {
    "collapsed": false
   },
   "outputs": [],
   "source": [
    "# Different ways to define the same dictionary\n",
    "# 1. Define a dictionary with values in the first place\n",
    "d = {\"a\":[1,2,3], \"b\":[4,5,6]}\n",
    "print d\n"
   ]
  },
  {
   "cell_type": "code",
   "execution_count": null,
   "metadata": {
    "collapsed": false
   },
   "outputs": [],
   "source": [
    "\n",
    "# 2. Define an empty dictionary and then \n",
    "d = {} # equivalent to d = dict()\n",
    "# Access the dictionary like a list\n",
    "d[\"a\"] = [1,2,3]\n",
    "d[\"b\"] = [4,5,6]\n",
    "print d"
   ]
  },
  {
   "cell_type": "markdown",
   "metadata": {},
   "source": [
    "### Example\n",
    "Store the following data into a dictionary where the column \"URL\" and \"created_at\" are the `keys`.\n",
    "\n",
    "| random_id  | URL           | created_at  |\n",
    "| - |------------- | ----|\n",
    "| 123  |  https://canvas.eee.uci.edu/courses/2230/files |2016-07-24T21:36:07Z |\n",
    "| 123  |  https://canvas.eee.uci.edu/courses/2230/    |2016-08-01T17:29:47Z |"
   ]
  },
  {
   "cell_type": "code",
   "execution_count": null,
   "metadata": {
    "collapsed": false
   },
   "outputs": [],
   "source": [
    "d1 = {} \n",
    "d1[\"created_at\"] = [\"2016-07-24T21:36:07Z\", \"2016-08-01T17:29:47Z\"]\n",
    "d1[\"url\"] = [\"https://canvas.eee.uci.edu/courses/2230/files\", \"https://canvas.eee.uci.edu/courses/2230/\"]\n",
    "\n",
    "# print d1\n",
    "print d1.keys()"
   ]
  },
  {
   "cell_type": "code",
   "execution_count": null,
   "metadata": {
    "collapsed": false
   },
   "outputs": [],
   "source": [
    "# dt_format = \"%Y-%m-%dT%H:%M:%SZ\"\n",
    "d2 = {}\n",
    "d2[\"created_at\"] = [datetime.strptime(\"2016-07-24T21:36:07Z\", dt_format), \n",
    "                    datetime.strptime(\"2016-08-01T17:29:47Z\", dt_format)]\n",
    "d2[\"url\"] = [\"https://canvas.eee.uci.edu/courses/2230/files\", \"https://canvas.eee.uci.edu/courses/2230/\"]\n",
    "\n",
    "print d2['created_at']"
   ]
  },
  {
   "cell_type": "markdown",
   "metadata": {},
   "source": [
    "<br>\n",
    "<br>\n",
    "\n",
    "# Part 2 : Load Data\n",
    "---------------------------"
   ]
  },
  {
   "cell_type": "markdown",
   "metadata": {},
   "source": [
    "## 2.1 Load data from a csv file"
   ]
  },
  {
   "cell_type": "code",
   "execution_count": null,
   "metadata": {
    "collapsed": true
   },
   "outputs": [],
   "source": [
    "import csv"
   ]
  },
  {
   "cell_type": "code",
   "execution_count": null,
   "metadata": {
    "collapsed": false,
    "scrolled": true
   },
   "outputs": [],
   "source": [
    "# csv_file = './deidentified_data/104500.csv'\n",
    "\n",
    "deidentified_data_dir = './deidentified_data'\n",
    "csv_file = os.path.join(deidentified_data_dir, '104500.csv')  \n",
    "\n",
    "# Print out the lines that are being read using a csv reader\n",
    "with open(csv_file, 'r') as f:\n",
    "    reader = csv.reader(f, delimiter=\",\")\n",
    "    for line in reader:\n",
    "        print line"
   ]
  },
  {
   "cell_type": "code",
   "execution_count": null,
   "metadata": {
    "collapsed": false
   },
   "outputs": [],
   "source": [
    "# Instead of printing the lists out, we are going to put each entry in a list as a variable\n",
    "with open(csv_file, 'r') as f:\n",
    "    reader = csv.reader(f, delimiter=\",\")\n",
    "    header = reader.next()\n",
    "\n",
    "    for line in reader:\n",
    "        rid = int(line[0])\n",
    "        url = line[1]\n",
    "        timestamp = line[3]\n",
    "        ip = line[5]\n",
    "        print rid, url, timestamp, ip"
   ]
  },
  {
   "cell_type": "markdown",
   "metadata": {},
   "source": [
    "### Things to add\n",
    "1. Create another key `category` and store the categories using the URL and the function `get_cats_from_url()`.<br>\n",
    "2. Use `datetime.strptime()` to convert the string into a datetime object, and then store that datetime object instead of string."
   ]
  },
  {
   "cell_type": "code",
   "execution_count": null,
   "metadata": {
    "collapsed": false
   },
   "outputs": [],
   "source": [
    "dt_format = \"%Y-%m-%dT%H:%M:%SZ\"\n",
    "\n",
    "# Declare four lists\n",
    "url_list = []\n",
    "category_list = []\n",
    "time_list = []\n",
    "ip_list = []\n",
    "\n",
    "with open(csv_file, 'r') as f:\n",
    "    reader = csv.reader(f, delimiter=',')\n",
    "    header = reader.next()\n",
    "    for line in reader:\n",
    "        rid = int(line[0])\n",
    "        url = line[1]\n",
    "        timestamp = datetime.strptime(line[3], dt_format)\n",
    "        ip = line[-1]\n",
    "        cat = get_cats_from_url(url)\n",
    "       \n",
    "        # Put the values in the list\n",
    "        url_list.append(url)\n",
    "        time_list.append(timestamp)\n",
    "        ip_list.append(ip)\n",
    "        category_list.append(cat)\n",
    "     "
   ]
  },
  {
   "cell_type": "code",
   "execution_count": null,
   "metadata": {
    "collapsed": false
   },
   "outputs": [],
   "source": [
    "time_list[:10]"
   ]
  },
  {
   "cell_type": "code",
   "execution_count": null,
   "metadata": {
    "collapsed": false
   },
   "outputs": [],
   "source": [
    "print len(category_list), len(url_list), len(ip_list)"
   ]
  },
  {
   "cell_type": "markdown",
   "metadata": {},
   "source": [
    "Create a dictionary where the keys are \"url\", \"created_at\", \"ip\", and \"category\",<br>\n",
    "and the values are the corresponding lists generated above."
   ]
  },
  {
   "cell_type": "code",
   "execution_count": null,
   "metadata": {
    "collapsed": true
   },
   "outputs": [],
   "source": [
    "student_data = {}\n",
    "student_data[\"url\"] = url_list\n",
    "student_data[\"created_at\"] = time_list\n",
    "student_data[\"category\"] = category_list\n",
    "student_data[\"ip\"] = ip_list"
   ]
  },
  {
   "cell_type": "code",
   "execution_count": null,
   "metadata": {
    "collapsed": false
   },
   "outputs": [],
   "source": [
    "print student_data.keys()"
   ]
  },
  {
   "cell_type": "code",
   "execution_count": null,
   "metadata": {
    "collapsed": false
   },
   "outputs": [],
   "source": [
    "print student_data"
   ]
  },
  {
   "cell_type": "markdown",
   "metadata": {},
   "source": [
    "## 2.2 Load multiple csv files from a folder"
   ]
  },
  {
   "cell_type": "markdown",
   "metadata": {},
   "source": [
    "We have .csv file for each student.<br>\n",
    "Each csv file has columns `url`, `created_at` (timestamp), `remote_ip` (IP address), and etc.\n",
    "\n",
    "`student_data1 = {\"url\":[url1, url2, ...], \"created_at\":[time1, time2, ...], \"remote_ip\":[ip1, ip2, ip3, ..], ...}`\n",
    "\n",
    "Total data will be a dictionary, where the keys are the student ID's and the values are the data of that student (above `student_data`). <br>\n",
    "If the ID of the first three students were 1,2 and 3, the total data would look something like below.\n",
    "\n",
    "`data = {1:student_data1, 2:student_data2, 3:student_data3, ...}`"
   ]
  },
  {
   "cell_type": "code",
   "execution_count": null,
   "metadata": {
    "collapsed": false,
    "scrolled": true
   },
   "outputs": [],
   "source": [
    "deidentified_data_dir = './deidentified_data'\n",
    "\n",
    "for filename in os.listdir(deidentified_data_dir):\n",
    "#     print filename\n",
    "    csv_file = os.path.join(deidentified_data_dir, filename)\n",
    "    print csv_file"
   ]
  },
  {
   "cell_type": "code",
   "execution_count": null,
   "metadata": {
    "collapsed": false
   },
   "outputs": [],
   "source": [
    "filename.split(\".\")[0]"
   ]
  },
  {
   "cell_type": "code",
   "execution_count": null,
   "metadata": {
    "collapsed": true
   },
   "outputs": [],
   "source": [
    "### Create a dictionary that will store all the students data!\n",
    "data = {}\n",
    "dt_format = \"%Y-%m-%dT%H:%M:%SZ\"\n",
    "\n",
    "for filename in os.listdir(deidentified_data_dir):\n",
    "    \n",
    "    csv_file = os.path.join(deidentified_data_dir, filename)\n",
    "\n",
    "    url_list =[]\n",
    "    category_list = []\n",
    "    time_list = []\n",
    "    ip_list = []\n",
    "    \n",
    "    rid = int( filename.split(\".\")[0]  )\n",
    "    \n",
    "    with open(csv_file, 'r') as f:\n",
    "        reader = csv.reader(f, delimiter=\",\")\n",
    "        header = reader.next()\n",
    "        \n",
    "        for line in reader:\n",
    "#             rid = int(line[0])\n",
    "            url = line[1]\n",
    "            timestamp = datetime.strptime(line[3], dt_format)\n",
    "            ip = line[5]\n",
    "            cat = get_cats_from_url(url)\n",
    "            \n",
    "            url_list.append(url)\n",
    "            category_list.append(cat)\n",
    "            time_list.append(timestamp)\n",
    "            ip_list.append(ip)\n",
    "    \n",
    "    student_data = {\"url\":url_list, \"created_at\":time_list, \"ip\":ip_list, \"category\":category_list}\n",
    "    \n",
    "    # Save \"student_data\" dict (each student's data) to the \"data\" dictionary\n",
    "    # where the key is the student's random ID \n",
    "    data[rid] = student_data"
   ]
  },
  {
   "cell_type": "code",
   "execution_count": null,
   "metadata": {
    "collapsed": false,
    "scrolled": true
   },
   "outputs": [],
   "source": [
    "data.keys()"
   ]
  },
  {
   "cell_type": "code",
   "execution_count": null,
   "metadata": {
    "collapsed": false
   },
   "outputs": [],
   "source": [
    "# Try accessing a single student's data using \"data\" dictionary and student's random id\n",
    "data[104500][\"url\"][0]"
   ]
  },
  {
   "cell_type": "markdown",
   "metadata": {},
   "source": [
    " "
   ]
  },
  {
   "cell_type": "markdown",
   "metadata": {},
   "source": [
    "<br>\n",
    "<br>\n",
    "\n",
    "# Part 3 : Convert the data into a matrix\n",
    "-------------------------------\n",
    "\n",
    "We want to convert the whole data as a matrix where the rows are the students and the columns are the days,<br>\n",
    "and each value in a matrix is a **number of click events per day for each student**."
   ]
  },
  {
   "cell_type": "markdown",
   "metadata": {},
   "source": [
    "## `numpy` array"
   ]
  },
  {
   "cell_type": "code",
   "execution_count": null,
   "metadata": {
    "collapsed": true
   },
   "outputs": [],
   "source": [
    "import numpy as np"
   ]
  },
  {
   "cell_type": "code",
   "execution_count": null,
   "metadata": {
    "collapsed": false
   },
   "outputs": [],
   "source": [
    "list_2d = [[1,2,3], [4,5,6]]\n",
    "# list_2d[0][0]\n",
    "np.array(list_2d)"
   ]
  },
  {
   "cell_type": "markdown",
   "metadata": {},
   "source": [
    "#### `np.array` is useful when initialization is needed\n",
    "- `np.zeros()` : Initializing numpy arrays to zeros\n",
    "- `np.ones()` : Initializaing numpy arrays to ones"
   ]
  },
  {
   "cell_type": "code",
   "execution_count": null,
   "metadata": {
    "collapsed": false
   },
   "outputs": [],
   "source": [
    "# np.zeros((2,3))\n",
    "np.ones((5,6))"
   ]
  },
  {
   "cell_type": "code",
   "execution_count": null,
   "metadata": {
    "collapsed": false
   },
   "outputs": [],
   "source": [
    "np.zeros(50)"
   ]
  },
  {
   "cell_type": "markdown",
   "metadata": {},
   "source": [
    "Create an array for a single student first. "
   ]
  },
  {
   "cell_type": "code",
   "execution_count": null,
   "metadata": {
    "collapsed": true
   },
   "outputs": [],
   "source": [
    "# For a single student \n",
    "student_data = data[104500]\n",
    "\n",
    "max_days = 50\n",
    "first_day = datetime(2016 ,6 ,13 ,0 ,0 ,0)\n",
    "\n",
    "# n^th entry in this array corresponds to the \n",
    "# number of clicks per day on the n^th day since the first day\n",
    "nclicks_per_day = np.zeros(max_days, dtype=np.int32)\n",
    "\n",
    "# number of all clicks\n",
    "for time in student_data['created_at']:\n",
    "    delta = time - first_day\n",
    "    if 0 <= delta.days < max_days:\n",
    "        nclicks_per_day[delta.days] += 1\n",
    "#         nclicks_per_day[delta.days] = nclicks_per_day[delta.days] + 1"
   ]
  },
  {
   "cell_type": "code",
   "execution_count": null,
   "metadata": {
    "collapsed": false
   },
   "outputs": [],
   "source": [
    "nclicks_per_day"
   ]
  },
  {
   "cell_type": "markdown",
   "metadata": {},
   "source": [
    "Make it as a function"
   ]
  },
  {
   "cell_type": "code",
   "execution_count": null,
   "metadata": {
    "collapsed": true
   },
   "outputs": [],
   "source": [
    "def get_nclicks_per_day(student_data, max_days=50, first_day=datetime(2016,6,13,0,0,0)):\n",
    "    nclicks_per_day = np.zeros(max_days, dtype=np.int32)\n",
    "\n",
    "    \"\"\"Fill in the body of the function\"\"\"\n",
    "    for time in student_data['created_at']:\n",
    "        delta = time - first_day\n",
    "        if 0 <= delta.days < max_days:\n",
    "            nclicks_per_day[delta.days] += 1\n",
    "            \n",
    "    return nclicks_per_day"
   ]
  },
  {
   "cell_type": "code",
   "execution_count": null,
   "metadata": {
    "collapsed": false
   },
   "outputs": [],
   "source": [
    "# Test the above function\n",
    "get_nclicks_per_day(data[104716])"
   ]
  },
  {
   "cell_type": "markdown",
   "metadata": {},
   "source": [
    "Use the above function and generate a matrix with size (n_students, max_days) for all student data. "
   ]
  },
  {
   "cell_type": "code",
   "execution_count": null,
   "metadata": {
    "collapsed": false
   },
   "outputs": [],
   "source": [
    "n_students = len(data)\n",
    "n_students = len(data.keys())\n",
    "max_days = 50\n",
    "\n",
    "# Each row of this matrix corresponds to each student,\n",
    "# and each column is the days since the first day\n",
    "nclicks_per_day_mat = np.zeros((n_students, max_days)) #, dtype=np.int32)\n",
    "\n",
    "idx = 0\n",
    "for rid in data.keys():\n",
    "    nclicks_per_day_mat[idx,:] = get_nclicks_per_day(data[rid])\n",
    "#     nclicks_per_day_mat[idx] = get_nclicks_per_day(data[rid])\n",
    "    idx += 1 # idx = idx + 1"
   ]
  },
  {
   "cell_type": "code",
   "execution_count": null,
   "metadata": {
    "collapsed": false,
    "scrolled": true
   },
   "outputs": [],
   "source": [
    "for idx, rid in enumerate(data.keys()):\n",
    "    nclicks_per_day_mat[idx] = get_nclicks_per_day(data[rid])"
   ]
  },
  {
   "cell_type": "markdown",
   "metadata": {},
   "source": [
    "Same as above, but now we will create two additional mapping data structures: <br>\n",
    "`index2id` that maps the index to the random ID,  and `id2index` that maps random ID to the index.  Index starts from 0 to (n_students-1).\n",
    "\n",
    "These will be useful when working with the matrix, where each row is a student with index=row index."
   ]
  },
  {
   "cell_type": "code",
   "execution_count": null,
   "metadata": {
    "collapsed": true
   },
   "outputs": [],
   "source": [
    "id2index = {}  # dictionary with keys : random id , value : index\n",
    "index2id = []  # We don't need to use dictionary here since the index starts from 0.\n",
    "for idx, rid in enumerate(data.keys()):\n",
    "    id2index[rid] = idx\n",
    "    index2id.append(rid)\n",
    "    nclicks_per_day_mat[idx] = get_nclicks_per_day(data[rid])"
   ]
  },
  {
   "cell_type": "code",
   "execution_count": null,
   "metadata": {
    "collapsed": false
   },
   "outputs": [],
   "source": [
    "nclicks_per_day_mat"
   ]
  },
  {
   "cell_type": "code",
   "execution_count": null,
   "metadata": {
    "collapsed": false,
    "scrolled": true
   },
   "outputs": [],
   "source": [
    "index2id"
   ]
  },
  {
   "cell_type": "code",
   "execution_count": null,
   "metadata": {
    "collapsed": false
   },
   "outputs": [],
   "source": [
    "nclicks_per_day_mat.shape"
   ]
  },
  {
   "cell_type": "code",
   "execution_count": null,
   "metadata": {
    "collapsed": false
   },
   "outputs": [],
   "source": [
    "arr_3d = np.zeros((3,5,6))\n",
    "arr_3d.shape"
   ]
  },
  {
   "cell_type": "markdown",
   "metadata": {},
   "source": [
    "<br>\n",
    "<br>\n",
    "\n",
    "# Part 4 : Save matrix into a csv file"
   ]
  },
  {
   "cell_type": "code",
   "execution_count": null,
   "metadata": {
    "collapsed": true
   },
   "outputs": [],
   "source": [
    "# Use csv.writer()\n",
    "\n",
    "outfile = './nclicks_per_day_mat.csv'\n",
    "with open(outfile, 'w') as f:\n",
    "    writer = csv.writer(f, delimiter=\",\")\n",
    "    writer.writerows(nclicks_per_day_mat)"
   ]
  },
  {
   "cell_type": "code",
   "execution_count": null,
   "metadata": {
    "collapsed": false,
    "scrolled": true
   },
   "outputs": [],
   "source": [
    "range(50)"
   ]
  },
  {
   "cell_type": "code",
   "execution_count": null,
   "metadata": {
    "collapsed": true
   },
   "outputs": [],
   "source": [
    "header = ['day'+str(i) for i in range(max_days)]"
   ]
  },
  {
   "cell_type": "code",
   "execution_count": null,
   "metadata": {
    "collapsed": true
   },
   "outputs": [],
   "source": [
    "header = []\n",
    "for i in range(max_days):\n",
    "    header.append('day'+str(i))"
   ]
  },
  {
   "cell_type": "code",
   "execution_count": null,
   "metadata": {
    "collapsed": false
   },
   "outputs": [],
   "source": [
    "print header"
   ]
  },
  {
   "cell_type": "code",
   "execution_count": null,
   "metadata": {
    "collapsed": true
   },
   "outputs": [],
   "source": [
    "# if you want to add a column header ['day0', 'day1', 'day2', ...]\n",
    "\n",
    "outfile = './nclicks_per_day_mat_with_header.csv'\n",
    "with open(outfile, 'w') as f:\n",
    "    writer = csv.writer(f, delimiter=',')\n",
    "    writer.writerow(header)\n",
    "    writer.writerows(nclicks_per_day_mat)"
   ]
  },
  {
   "cell_type": "markdown",
   "metadata": {},
   "source": [
    "## Save matrix with the random ID in the first column"
   ]
  },
  {
   "cell_type": "code",
   "execution_count": null,
   "metadata": {
    "collapsed": false
   },
   "outputs": [],
   "source": [
    "# First convert the index2id list to the numpy array, and then make it into a column array.\n",
    "index2id_ar = np.array(index2id)[:, None]\n",
    "\n",
    "# Concatenate two arrays 1)index2id 2)nclicks_per_day_mat using 'np.concatenate'\n",
    "nclicks_per_day_mat_rid = np.concatenate((index2id_ar, nclicks_per_day_mat), axis=1)\n",
    "# Set the array data type to integer\n",
    "nclicks_per_day_mat_rid = np.array(nclicks_per_day_mat_rid, dtype=np.int) "
   ]
  },
  {
   "cell_type": "code",
   "execution_count": null,
   "metadata": {
    "collapsed": false
   },
   "outputs": [],
   "source": [
    "# print\n",
    "nclicks_per_day_mat_rid"
   ]
  },
  {
   "cell_type": "code",
   "execution_count": null,
   "metadata": {
    "collapsed": true
   },
   "outputs": [],
   "source": [
    "outfile = './nclicks_per_day_mat_rid.csv'\n",
    "with open(outfile, 'w') as f:\n",
    "    writer = csv.writer(f, delimiter=\",\")\n",
    "    writer.writerows(nclicks_per_day_mat_rid)"
   ]
  },
  {
   "cell_type": "code",
   "execution_count": null,
   "metadata": {
    "collapsed": false
   },
   "outputs": [],
   "source": [
    "# With header\n",
    "header = ['roster_randomid'] + ['day'+str(i) for i in range(max_days)]\n",
    "\n",
    "outfile = './nclicks_per_day_mat_rid_with_header.csv'\n",
    "with open(outfile, 'w') as f:\n",
    "    writer = csv.writer(f, delimiter=',')\n",
    "    writer.writerow(header)\n",
    "    writer.writerows(nclicks_per_day_mat_rid)"
   ]
  },
  {
   "cell_type": "markdown",
   "metadata": {},
   "source": [
    "<br>\n",
    "<br>\n",
    "\n",
    "# Part 5 : Plotting with `matplotlib.pyplot`"
   ]
  },
  {
   "cell_type": "code",
   "execution_count": null,
   "metadata": {
    "collapsed": false
   },
   "outputs": [],
   "source": [
    "import matplotlib.pyplot as plt\n",
    "%matplotlib inline"
   ]
  },
  {
   "cell_type": "markdown",
   "metadata": {},
   "source": [
    "### Barplot using `plt.bar()`\n",
    "documentation : http://matplotlib.org/api/pyplot_api.html#matplotlib.pyplot.bar <br>\n",
    "Plot the average number of clicks per day by student using the above `nclicks_per_day_mat` matrix"
   ]
  },
  {
   "cell_type": "code",
   "execution_count": null,
   "metadata": {
    "collapsed": false
   },
   "outputs": [],
   "source": [
    "avg_nclicks = np.mean(nclicks_per_day_mat, axis=0)\n",
    "avg_nclicks\n",
    "avg_nclicks.shape"
   ]
  },
  {
   "cell_type": "code",
   "execution_count": null,
   "metadata": {
    "collapsed": false
   },
   "outputs": [],
   "source": [
    "\n",
    "fig = plt.figure(figsize=(6,4))\n",
    "plt.bar(range(max_days), avg_nclicks, linewidth=0, figure=fig)\n",
    "plt.xlabel('DAYS')\n",
    "plt.ylabel('AVERAGE NUMBER OF CLICKS PER DAY BY STUDENT')\n",
    "plt.grid(alpha=0.2)\n",
    "# plt.show()\n",
    "# Save figure\n",
    "barplot_fname = './barplot.pdf'\n",
    "plt.savefig(barplot_fname)\n",
    "# plt.close()"
   ]
  },
  {
   "cell_type": "code",
   "execution_count": null,
   "metadata": {
    "collapsed": false
   },
   "outputs": [],
   "source": [
    "\n"
   ]
  },
  {
   "cell_type": "markdown",
   "metadata": {
    "collapsed": true
   },
   "source": [
    "### Plot heatmap using `plt.imshow()`\n",
    "Documentation : http://matplotlib.org/api/pyplot_api.html#matplotlib.pyplot.imshow <br>\n",
    "Plot `nclicks_per_day_mat` matrix"
   ]
  },
  {
   "cell_type": "code",
   "execution_count": null,
   "metadata": {
    "collapsed": false
   },
   "outputs": [],
   "source": [
    "fig = plt.figure(figsize=(7,6))\n",
    "plt.imshow(nclicks_per_day_mat, interpolation='nearest', aspect='auto', cmap='Greys', figure=fig)\n",
    "plt.xlabel('DAYS', fontsize=13)\n",
    "plt.ylabel('STUDENTS', fontsize=13)\n",
    "plt.colorbar()\n",
    "\n",
    "## To remove x and y ticks\n",
    "# plt.xticks([])\n",
    "# plt.yticks([])\n",
    "\n",
    "\n",
    "# Save figure\n",
    "heatmap_fname = './heatmap.pdf'\n",
    "plt.savefig(heatmap_fname)\n"
   ]
  },
  {
   "cell_type": "code",
   "execution_count": null,
   "metadata": {
    "collapsed": true
   },
   "outputs": [],
   "source": [
    "plt.close()"
   ]
  },
  {
   "cell_type": "markdown",
   "metadata": {},
   "source": [
    "<br>\n",
    "<br>\n",
    "# Part 6 : Different Click Matrices\n",
    "\n",
    "Taking subset of the data by data types (e.g. by categories, preview activities.. )"
   ]
  },
  {
   "cell_type": "markdown",
   "metadata": {},
   "source": [
    "#### Quick introduction to `enumerate` and `zip`"
   ]
  },
  {
   "cell_type": "code",
   "execution_count": null,
   "metadata": {
    "collapsed": false
   },
   "outputs": [],
   "source": [
    "lst = [\"a\", \"b\", \"c\"]\n",
    "for i, item in enumerate(lst):\n",
    "    print i, item"
   ]
  },
  {
   "cell_type": "code",
   "execution_count": null,
   "metadata": {
    "collapsed": false
   },
   "outputs": [],
   "source": [
    "lst2 = [\"z\", \"y\", \"x\"]\n",
    "for item1, item2 in zip(lst, lst2):\n",
    "    print item1, item2"
   ]
  },
  {
   "cell_type": "markdown",
   "metadata": {},
   "source": [
    "### Number of *category* clicks for each student "
   ]
  },
  {
   "cell_type": "markdown",
   "metadata": {},
   "source": [
    "Use **`get_cats_from_url`** function and **`enumerate`** to get an array of category clicks.\n",
    "<br>\n",
    "Note that we need to access both the **timestamp** and the **URL** of the same event. "
   ]
  },
  {
   "cell_type": "code",
   "execution_count": null,
   "metadata": {
    "collapsed": true
   },
   "outputs": [],
   "source": [
    "nclicks_per_day_cat = np.zeros(max_days, dtype=np.int32)\n",
    "student_data = data[104500]\n",
    "\n",
    "for i, time in enumerate(student_data['created_at']):\n",
    "    cat = get_cats_from_url(student_data['url'][i])\n",
    "    if cat == \"homepage\":\n",
    "        delta = time - first_day\n",
    "        if 0 <= delta.days < max_days:\n",
    "            nclicks_per_day_cat[delta.days] += 1"
   ]
  },
  {
   "cell_type": "code",
   "execution_count": null,
   "metadata": {
    "collapsed": false
   },
   "outputs": [],
   "source": [
    "nclicks_per_day_cat"
   ]
  },
  {
   "cell_type": "code",
   "execution_count": null,
   "metadata": {
    "collapsed": true
   },
   "outputs": [],
   "source": [
    "nclicks_per_day_cat2 = np.zeros(max_days)\n",
    "\n",
    "for time, url in zip(student_data['created_at'], student_data['url']):\n",
    "    cat = get_cats_from_url(url)\n",
    "    if cat == \"homepage\":\n",
    "        delta = time - first_day\n",
    "        if 0 <= delta.days < max_days:\n",
    "            nclicks_per_day_cat2[delta.days] += 1"
   ]
  },
  {
   "cell_type": "markdown",
   "metadata": {},
   "source": [
    "Make it as a function. Use either `zip` or `enumerate`."
   ]
  },
  {
   "cell_type": "code",
   "execution_count": null,
   "metadata": {
    "collapsed": false
   },
   "outputs": [],
   "source": [
    "# For each student, return a row\n",
    "def get_nclicks_per_day_cat(student_data, category='homepage', max_days=50, first_day=datetime(2016,6,13,0,0,0)):\n",
    "    nclicks_per_day_cat = np.zeros(max_days, dtype=np.int32)\n",
    "\n",
    "    for time, url in zip(student_data['created_at'], student_data['url']):\n",
    "        cat = get_cats_from_url(url)\n",
    "        if cat == category:\n",
    "            delta = time - first_day\n",
    "            if 0 <= delta.days < max_days:\n",
    "                nclicks_per_day_cat[delta.days] += 1\n",
    "    \n",
    "    return nclicks_per_day_cat"
   ]
  },
  {
   "cell_type": "code",
   "execution_count": null,
   "metadata": {
    "collapsed": false
   },
   "outputs": [],
   "source": [
    "# Test\n",
    "get_nclicks_per_day_cat(student_data, category='homepage')"
   ]
  },
  {
   "cell_type": "markdown",
   "metadata": {},
   "source": [
    "### Get a matrix of number of *homepage* clicks"
   ]
  },
  {
   "cell_type": "code",
   "execution_count": null,
   "metadata": {
    "collapsed": false
   },
   "outputs": [],
   "source": [
    "n_students = len(data)\n",
    "max_days = 50\n",
    "\n",
    "nclicks_per_day_mat_hp = np.zeros((n_students, max_days))\n",
    "\n",
    "for idx, rid in enumerate(data.keys()):\n",
    "    nclicks_per_day_mat_hp[idx] = get_nclicks_per_day_cat(data[rid], category='homepage')"
   ]
  },
  {
   "cell_type": "code",
   "execution_count": null,
   "metadata": {
    "collapsed": false
   },
   "outputs": [],
   "source": [
    "nclicks_per_day_mat_hp"
   ]
  },
  {
   "cell_type": "code",
   "execution_count": null,
   "metadata": {
    "collapsed": false
   },
   "outputs": [],
   "source": [
    "nclicks_per_day_mat"
   ]
  },
  {
   "cell_type": "markdown",
   "metadata": {
    "collapsed": true
   },
   "source": [
    "### Exercise : Save the matrix"
   ]
  },
  {
   "cell_type": "code",
   "execution_count": null,
   "metadata": {
    "collapsed": false
   },
   "outputs": [],
   "source": [
    "import csv\n",
    "outfile = './homepage_nclicks_per_day_mat.csv'\n",
    "\n",
    "with open(outfile, 'w') as f:\n",
    "    writer = csv.writer(f, delimiter=\",\")\n",
    "    writer.writerows(nclicks_per_day_mat_hp)"
   ]
  },
  {
   "cell_type": "markdown",
   "metadata": {},
   "source": [
    "### Exercise : Plot the matrix using `plt.imshow()`"
   ]
  },
  {
   "cell_type": "code",
   "execution_count": null,
   "metadata": {
    "collapsed": false
   },
   "outputs": [],
   "source": [
    "fig = plt.figure(figsize=(7,6))\n",
    "\"\"\"Plot the matrix using plt.imshow()\"\"\""
   ]
  },
  {
   "cell_type": "markdown",
   "metadata": {},
   "source": [
    "<br>\n",
    "<br>\n",
    "# Part 7: Students with more/less activities\n",
    "\n",
    "Split the students in to two different groups by the total number of clicks. <br>\n",
    "Let's try by simply thresholding using **`np.where()`**. Use the median value as a threshold."
   ]
  },
  {
   "cell_type": "code",
   "execution_count": null,
   "metadata": {
    "collapsed": false
   },
   "outputs": [],
   "source": [
    "tot_nclicks = np.sum(nclicks_per_day_mat, axis=1)\n",
    "print np.max(tot_nclicks), np.min(tot_nclicks), np.median(tot_nclicks)"
   ]
  },
  {
   "cell_type": "code",
   "execution_count": null,
   "metadata": {
    "collapsed": false
   },
   "outputs": [],
   "source": [
    "thresh = np.median(tot_nclicks)\n",
    "more_active_idx = np.where(tot_nclicks >= thresh)[0]\n",
    "less_active_idx = np.where(tot_nclicks < thresh)[0]"
   ]
  },
  {
   "cell_type": "markdown",
   "metadata": {},
   "source": [
    "Generate two matrices using the two index arrays.<br>\n",
    "First, we need to concatenate two numpy arrays into a list or a numpy array. We introduce two ways to do this. <br>\n",
    "- Convert each numpy arrays into a `list`, concatenate them using **+** sign  : `list(a) + list(b)`\n",
    "- Use `np.concatenate((a,b))` "
   ]
  },
  {
   "cell_type": "code",
   "execution_count": null,
   "metadata": {
    "collapsed": false
   },
   "outputs": [],
   "source": [
    "idx_reordered = list(more_active_idx) + list(less_active_idx)\n",
    "nclicks_per_day_mat_reordered = nclicks_per_day_mat[idx_reordered, :]"
   ]
  },
  {
   "cell_type": "markdown",
   "metadata": {},
   "source": [
    "Plot the matrix with re-ordered rows."
   ]
  },
  {
   "cell_type": "code",
   "execution_count": null,
   "metadata": {
    "collapsed": false
   },
   "outputs": [],
   "source": [
    "fig = plt.figure(figsize=(7,6))\n",
    "plt.imshow(nclicks_per_day_mat_reordered, interpolation='nearest', aspect='auto', cmap='Greys', figure=fig)\n",
    "plt.xlabel('DAYS', fontsize=13)\n",
    "plt.ylabel('STUDENTS', fontsize=13)\n",
    "plt.colorbar()"
   ]
  },
  {
   "cell_type": "markdown",
   "metadata": {},
   "source": [
    "The matrix is too white. This is because there are a few entries with very large counts (dark black color), which hides all the granularity of the data. <br>\n",
    "To have a better look at the data, we can choose a maximum value (threshold) that we want to plot, and set all the values in the matrix higher than the threshold to the value of the threshold.<br>\n",
    "What would be the adequate value for the threshold?"
   ]
  },
  {
   "cell_type": "code",
   "execution_count": null,
   "metadata": {
    "collapsed": false
   },
   "outputs": [],
   "source": [
    "# print out the min, max, mean, median values. We can see that the data is very skewed!\n",
    "print np.min(nclicks_per_day_mat_reordered), np.max(nclicks_per_day_mat_reordered)\n",
    "print np.mean(nclicks_per_day_mat_reordered), np.median(nclicks_per_day_mat_reordered)"
   ]
  },
  {
   "cell_type": "code",
   "execution_count": null,
   "metadata": {
    "collapsed": false
   },
   "outputs": [],
   "source": [
    "nclicks_per_day_mat_reordered[np.where(nclicks_per_day_mat_reordered > 100)] = 100"
   ]
  },
  {
   "cell_type": "code",
   "execution_count": null,
   "metadata": {
    "collapsed": false
   },
   "outputs": [],
   "source": [
    "fig = plt.figure(figsize=(7,6))\n",
    "plt.imshow(nclicks_per_day_mat_reordered, interpolation='nearest', aspect='auto', cmap='Greys', figure=fig)\n",
    "plt.xlabel('DAYS', fontsize=13)\n",
    "plt.ylabel('STUDENTS', fontsize=13)\n",
    "plt.colorbar()"
   ]
  },
  {
   "cell_type": "markdown",
   "metadata": {},
   "source": [
    "### Extra exercise\n",
    "Sort the rows by the number of total clicks, and order the rows from the most active student to the least active student using `np.argsort()`."
   ]
  },
  {
   "cell_type": "code",
   "execution_count": null,
   "metadata": {
    "collapsed": true
   },
   "outputs": [],
   "source": [
    "sorted_idx = np.argsort(tot_nclicks)[::-1]\n",
    "sorted_mat = nclicks_per_day_mat[sorted_idx]"
   ]
  },
  {
   "cell_type": "code",
   "execution_count": null,
   "metadata": {
    "collapsed": false
   },
   "outputs": [],
   "source": [
    "fig = plt.figure(figsize=(7,6))\n",
    "plt.imshow(sorted_mat, interpolation='nearest', aspect='auto', cmap='Greys', figure=fig)\n",
    "plt.xlabel('DAYS', fontsize=13)\n",
    "plt.ylabel('STUDENTS', fontsize=13)\n",
    "plt.colorbar()\n",
    "plt.show()"
   ]
  }
 ],
 "metadata": {
  "anaconda-cloud": {},
  "kernelspec": {
   "display_name": "Python [conda root]",
   "language": "python",
   "name": "conda-root-py"
  },
  "language_info": {
   "codemirror_mode": {
    "name": "ipython",
    "version": 2
   },
   "file_extension": ".py",
   "mimetype": "text/x-python",
   "name": "python",
   "nbconvert_exporter": "python",
   "pygments_lexer": "ipython2",
   "version": "2.7.12"
  }
 },
 "nbformat": 4,
 "nbformat_minor": 1
}
